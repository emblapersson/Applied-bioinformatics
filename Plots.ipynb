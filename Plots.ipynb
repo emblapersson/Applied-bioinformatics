{
 "cells": [
  {
   "cell_type": "markdown",
   "metadata": {},
   "source": [
    "# Kod för att visualisera resultaten"
   ]
  },
  {
   "cell_type": "markdown",
   "metadata": {},
   "source": [
    "## 1. Läsa in datan"
   ]
  },
  {
   "cell_type": "code",
   "execution_count": 1,
   "metadata": {},
   "outputs": [],
   "source": [
    "# Importera paket för att kunna köra hela koden\n",
    "import pandas as pd"
   ]
  },
  {
   "cell_type": "code",
   "execution_count": 2,
   "metadata": {},
   "outputs": [],
   "source": [
    "# Alla olika körningar\n",
    "# Här får vi ändra beroende på hur output från klassifieringen ser ut\n",
    "# Dessa två är bara påhittade dataset som de ser ut från DADA2, varje rad är en sekvens och sedan är kolumnerna olika taxonomiska nivåer\n",
    "# Index är ett sekvens-ID som är samma i alla filer\n",
    "# Om sekvensen inte kunnat klassifieras på någon nivå står det som NA\n",
    "\n",
    "# Bara jämföra long och short reads\n",
    "# long_reads = pd.read_csv('Long_reads.txt', sep=' ', names=['ID', 'Kingdom', 'Phylum', 'Class', 'Order', 'Family', 'Genus'], index_col='ID')\n",
    "# short_reads = pd.read_csv('Short_read.txt', sep=' ', names=['ID', 'Kingdom', 'Phylum', 'Class', 'Order', 'Family', 'Genus'], index_col='ID')\n",
    "# true_species = pd.read_csv('True_species.txt', sep=' ', names=['ID', 'Kingdom', 'Phylum', 'Class', 'Order', 'Family', 'Genus'], index_col='ID')\n",
    "\n",
    "long_reads = pd.read_csv('test_long_reads.txt', sep=',', index_col='ID')\n",
    "short_reads = pd.read_csv('test_short_reads.txt', sep=',', index_col='ID')\n",
    "true_species = pd.read_csv('test_true_taxonomy.txt', sep=',', index_col='ID')"
   ]
  },
  {
   "cell_type": "code",
   "execution_count": 81,
   "metadata": {},
   "outputs": [],
   "source": [
    "# Titta på olika community structures\n",
    "mock_community_structure = pd.read_csv('Mock_community_structure.txt', sep=' ', names=['Kingdom', 'Phylum', 'Class', 'Order', 'Family', 'Genus'])\n",
    "mock_community_1 = pd.read_csv('Mock_community_1.txt', sep=' ', names=['Kingdom', 'Phylum', 'Class', 'Order', 'Family', 'Genus'])\n",
    "mock_community_2 = pd.read_csv('Mock_community_2.txt', sep=' ', names=['Kingdom', 'Phylum', 'Class', 'Order', 'Family', 'Genus'])"
   ]
  },
  {
   "cell_type": "markdown",
   "metadata": {},
   "source": [
    "## 2. Titta på datan och beräkna statistik från den"
   ]
  },
  {
   "cell_type": "markdown",
   "metadata": {},
   "source": [
    "### 2.1 Felklassifierade sekvenser"
   ]
  },
  {
   "cell_type": "code",
   "execution_count": 4,
   "metadata": {},
   "outputs": [],
   "source": [
    "# Börja med att leta efter sekvenser som är felklassifierade\n",
    "\n",
    "def find_misclassified(dataframe, correct_classification):\n",
    "    '''Kollar om en klassifiering är korrekt eller inte.\n",
    "    Input: Två dataset\n",
    "    - Dataframe: Den föreslagna klassifieringen\n",
    "    - Correct_classification: Den korrekta klassifieringen\n",
    "    Output: Ett dataset liknande dataframe, men med två tillagda kolumner.\n",
    "    - Correct: True/False beroende på om klassifieringen är korrekt eller inte\n",
    "    - Incorrect at: Vilken taxonomisk nivå som är fel, om klassifieringen är inkorrekt'''\n",
    "\n",
    "    # Skapa en kopia av inputdatan för att inte ändra orginalfilen\n",
    "    dataframe_corrected = dataframe.copy(deep=True)\n",
    "\n",
    "    # Loopa igenom alla sekvenser i inputdatan\n",
    "    # Kolla om sekvensen med motsvarande ID i den korrekta klassifieringen är samma eller inte (True/False)\n",
    "    # Lägg in det som en ny kolumn \"Correct\"\n",
    "    for ID in dataframe.index:\n",
    "        # Om det finns en NA-klassifiering\n",
    "        # Kolla om allt fram till dess är korrekt --> Korrekt klassifiering\n",
    "        # Om det innan är inkorrekt --> Inkorrekt klassifiering\n",
    "        if dataframe[dataframe.index == ID].isnull().any().any():\n",
    "            correct_maybe = dataframe[dataframe.index == ID].compare(correct_classification[correct_classification.index == ID], align_axis=0)\n",
    "            highest_level = correct_maybe.columns[0]\n",
    "            if dataframe_corrected.isnull().loc[dataframe_corrected.index == ID, highest_level].values[0]:\n",
    "                same = True\n",
    "            else:\n",
    "                same = False\n",
    "        else:\n",
    "            same = dataframe[dataframe.index == ID].equals(correct_classification[correct_classification.index == ID])\n",
    "        \n",
    "        # Lägg till ifall klassifieringen är korrekt eller inte i datasetet\n",
    "        dataframe_corrected.loc[dataframe.index == ID, 'Correct'] = same\n",
    "\n",
    "        # Om klassifieringen inte är korrekt:\n",
    "        # Lägg till på vilken högsta nivå den är fel i kolumnen \"Incorrect at\"\n",
    "        if not same:\n",
    "            incorrect_levels = dataframe[dataframe.index == ID].compare(correct_classification[correct_classification.index == ID], align_axis=0)\n",
    "            dataframe_corrected.loc[short_reads.index == ID, 'Incorrect at'] = incorrect_levels.columns[0]\n",
    "    \n",
    "    return dataframe_corrected"
   ]
  },
  {
   "cell_type": "code",
   "execution_count": 5,
   "metadata": {},
   "outputs": [],
   "source": [
    "short_corrected = find_misclassified(short_reads, true_species)\n",
    "long_corrected = find_misclassified(long_reads, true_species)"
   ]
  },
  {
   "cell_type": "markdown",
   "metadata": {},
   "source": [
    "### 2.2 Beräkna antalet korrekta/inkorrekta klassifieringar"
   ]
  },
  {
   "cell_type": "code",
   "execution_count": 6,
   "metadata": {},
   "outputs": [],
   "source": [
    "# Från informationen om klassifieringarna och ifall de är korrekta eller inte vill vi beräkna:\n",
    "# - Antalet korrekta klassifieringar på respektive nivå\n",
    "# - Antalet sekvenser med sin (korrekta) lägsta klassifiering på olika nivåer (ex 10 sekvenser identifierades på artnivå, medan 17 bara på genusnivå)\n",
    "# - Antalet inkorrekta klassifieringar på respektive högsta nivå (ex fel på family-nivå leder ju till fel genus också, så det ska bara räknas som family)\n",
    "# Allt det ska sparas i dataframes för att kunna plottas\n",
    "\n",
    "# Här sparas correct och incorrect i olika kolumner\n",
    "def classification_stats(dataframe):\n",
    "    '''Beräknar:\n",
    "    - Antalet korrekta klassifieringar på respektive nivå\n",
    "    - Antalet sekvenser med sin (korrekta) lägsta klassifiering på olika nivåer (ex 10 sekvenser identifierades på artnivå, medan 17 bara på genusnivå)\n",
    "    - Antalet inkorrekta klassifieringar på respektive högsta nivå (ex fel family ger automatiskt fel genus, men ska endast rapporteras som fel på family-nivå)\n",
    "    Input: En dataframe med sekvens-ID, klassifiering på olika nivåer, ifall klassifieringen är fel eller inte, samt vilken nivå den är fel på\n",
    "    Output: Två dataframes\n",
    "    - Antalet korrekta klassifieringar (totalt) på alla nivåer (oavsett om det är den högsta eller inte) (L*1)\n",
    "    - Antalet korrekta och inkorrekta klassifieringar på olika nivåer där de är den lägsta (korrekta) vs högsta (inkorrekta) nivån (2L*1)\n",
    "    '''\n",
    "\n",
    "    # För alla korrekt klassifierade sekvenser:\n",
    "    # Beräkna den totala antalet klassifieringar på respektive nivå\n",
    "    correct_sequences = dataframe[dataframe['Correct'] == True]\n",
    "    correct_class_all_levels = correct_sequences.iloc[:, 0:-2].notnull().sum()\n",
    "    \n",
    "    # Beräkna antalet sekvenser som har respektive nivå som sin lägsta klassifiering\n",
    "    # Gör först en kopia för att ha det totala antalet klassifieringar på respektive nivå\n",
    "    # Titta sedan på varje nivå förutom den lägsta, och substrahera antalet sekvenser som klassifierats på en lägre nivå\n",
    "    class_levels = correct_class_all_levels.copy(deep=True)\n",
    "    for level in range(len(correct_class_all_levels)-1):\n",
    "        class_levels[level] -= correct_class_all_levels[level+1]\n",
    "    \n",
    "    # Gör om till dataframes, och transponera för att få rätt dimensioner\n",
    "    correct_class_all_levels = correct_class_all_levels.to_frame()\n",
    "    class_levels = class_levels.to_frame().transpose()\n",
    "\n",
    "    # För alla inkorrekt klassifierade sekvenser:\n",
    "    # Lägg till en (inkorrekt) kolumn för varje nivå med antalet sekvenser som har det som högsta felaktiga nivå\n",
    "    incorrect_sequences = dataframe[dataframe['Correct'] == False]\n",
    "    for level in class_levels.columns:\n",
    "        name = level + '_incorrect'\n",
    "        n = len(incorrect_sequences[incorrect_sequences['Incorrect at'] == level])\n",
    "        class_levels[name] = n\n",
    "\n",
    "    return correct_class_all_levels, class_levels"
   ]
  },
  {
   "cell_type": "code",
   "execution_count": 7,
   "metadata": {},
   "outputs": [],
   "source": [
    "# Beräkna för respektive dataset\n",
    "correct_all_levels_short, class_levels_short = classification_stats(short_corrected)\n",
    "correct_all_levels_long, class_levels_long = classification_stats(long_corrected)\n",
    "\n",
    "# Sammanställ dem till ett dataset\n",
    "samples = ['Long reads', 'Short reads']\n",
    "\n",
    "all_levels = pd.concat([correct_all_levels_long, correct_all_levels_short], axis=1)\n",
    "all_levels.columns = samples\n",
    "\n",
    "class_levels = pd.concat([class_levels_long, class_levels_short])\n",
    "class_levels.index = samples"
   ]
  },
  {
   "cell_type": "markdown",
   "metadata": {},
   "source": [
    "#### Gamla versioner"
   ]
  },
  {
   "cell_type": "code",
   "execution_count": null,
   "metadata": {},
   "outputs": [],
   "source": [
    "# Kod som enbart plockar ut och beräknar antalet sekvenser som klassifierats på de olika nivåerna,\n",
    "# samt hur många som har respektive nivå som sin högsta klassifiering\n",
    "# Detta oberoende av huruvida klassifieringen är korrekt eller inte\n",
    "\n",
    "def find_nulls(dataframe):\n",
    "    '''Tar en dataframe och beräknar antalet sekvenser (rader, S) som klassifierats på olika nivåer (kolumner, L)\n",
    "    Input: En dataframe (S*L) med sekvenser som rader, och taxonomisk tillhörighet på olika nivåer som kolumner\n",
    "    Output: Två nya dataframes som innehåller:\n",
    "    - Antalet sekvenser som klassifierats på respektive taxonomisk nivå (L*1)\n",
    "    - Antalet sekvenser som har respektive taxonomisk nivå som sin högsta (ex bara klassifierats till family level) (1*L)'''\n",
    "\n",
    "    class_all_levels = dataframe.notnull().sum()\n",
    "    class_highest_level = class_all_levels.copy(deep=True)\n",
    "\n",
    "    for level in range(len(class_all_levels)-1):\n",
    "        class_highest_level[level] -= class_all_levels[level+1]\n",
    "    \n",
    "    class_all_levels = class_all_levels.to_frame()\n",
    "    class_highest_level = class_highest_level.to_frame().transpose()\n",
    "\n",
    "    return class_all_levels, class_highest_level"
   ]
  },
  {
   "cell_type": "code",
   "execution_count": null,
   "metadata": {},
   "outputs": [],
   "source": [
    "# Här sparas correct och incorrect på olika rader\n",
    "def find_nulls(dataframe):\n",
    "    # If the sequence has been correctly classified\n",
    "    correct_sequences = dataframe[dataframe['Correct'] == True]\n",
    "    correct_class_all_levels = correct_sequences.iloc[:, 0:-2].notnull().sum()\n",
    "    class_highest_level = correct_class_all_levels.copy(deep=True)\n",
    "\n",
    "    class_highest_level['Index'] = 'Correct'\n",
    "    for level in range(len(correct_class_all_levels)-1):\n",
    "        class_highest_level[level] -= correct_class_all_levels[level+1]\n",
    "    \n",
    "    correct_class_all_levels = correct_class_all_levels.to_frame()\n",
    "    class_highest_level = class_highest_level.to_frame().transpose()\n",
    "    class_highest_level.set_index('Index', drop=True, inplace=True)\n",
    "\n",
    "    # If the sequences has been incorrectly classified\n",
    "    incorrect_sequences = dataframe[dataframe['Correct'] == False]\n",
    "    for level in class_highest_level.columns:\n",
    "        n = len(incorrect_sequences[incorrect_sequences['Incorrect at'] == level])\n",
    "        class_highest_level.loc['Incorrect', level] = n\n",
    "\n",
    "    return correct_class_all_levels, class_highest_level\n",
    "\n",
    "all_levels, highest_level = find_nulls(short_reads_compared)"
   ]
  },
  {
   "cell_type": "markdown",
   "metadata": {},
   "source": [
    "### 2.3 Olika communities"
   ]
  },
  {
   "cell_type": "code",
   "execution_count": 6,
   "metadata": {},
   "outputs": [],
   "source": [
    "# Vi vill titta igenom dataseten och hitta de unika raderna, alltså vilka organismer som har identifierats och hur många gånger\n",
    "\n",
    "def find_organisms(dataframe):\n",
    "    '''Tar en dataframe, hittar den lägsta taxonomiska nivån där det inte finns nullvärden, hittar de unika kolumnerna och räknar hur många gånger de förekommer\n",
    "    Input: En dataframe (S*L) med sekvenser som rader, och taxonomisk tillhörighet på olika nivåer som kolumner\n",
    "    Output: En dataframe med alla unika organismer på den lägsta gemensamma taxonomiska nivån, samt hur många gånger de finns'''\n",
    "    # Skapa en kopia för att inte sabba datasetet\n",
    "    # Titta i vilka celler det finns nullvärden\n",
    "    dataframe_copy = dataframe.copy(deep=True)\n",
    "    dataframe_null = dataframe_copy.isnull()\n",
    "\n",
    "    # Gå igenom datasetet kolumn för kolumn, börja på den lägsta taxonomiska nivån\n",
    "    # Om det finns ett nullvärde, droppa kolumnen\n",
    "    for level in dataframe.columns[::-1]:\n",
    "        if dataframe_null[level].any():\n",
    "            dataframe_copy.drop(level, axis=1, inplace=True)\n",
    "    \n",
    "    # Ta bort alla kolumner utom den sista, som alltså är den lägsta taxonomiska nivån där alla organismer är identifierade\n",
    "    dataframe_copy.drop(dataframe_copy.columns[:-1], axis=1, inplace=True)\n",
    "\n",
    "    # Leta efter dubletter, dvs organismer som finns flera gånger\n",
    "    # Räkna antalet dubletter, och lägg in i datasetet under \"Count\"\n",
    "    # Lägg in namnen på organismerna som index\n",
    "    dataframe_stats = dataframe_copy.groupby(dataframe_copy.columns.tolist()).size().reset_index(name='Count')\n",
    "    dataframe_stats.index = dataframe_stats[dataframe_stats.columns[0]]\n",
    "    dataframe_stats.drop(dataframe_stats.columns[0], axis=1, inplace=True)\n",
    "\n",
    "    return dataframe_stats.transpose()"
   ]
  },
  {
   "cell_type": "code",
   "execution_count": 7,
   "metadata": {},
   "outputs": [],
   "source": [
    "# Kör funktionen på alla dataset\n",
    "mock_community_structure_organisms = find_organisms(mock_community_structure)\n",
    "mock_community_1_organisms = find_organisms(mock_community_1)\n",
    "mock_community_2_organisms = find_organisms(mock_community_2)\n",
    "\n",
    "# Slå samman dataseten till ett stort, och definiera deras index som deras namn\n",
    "communities = pd.concat([mock_community_structure_organisms, mock_community_1_organisms, mock_community_2_organisms])\n",
    "communities.index = ['Mock community ideal', 'Mock 1', 'Mock 2']"
   ]
  },
  {
   "cell_type": "markdown",
   "metadata": {},
   "source": [
    "## 3. Plotta resultaten"
   ]
  },
  {
   "cell_type": "markdown",
   "metadata": {},
   "source": [
    "### 3.1 Statistisk på antalet klassifierade sekvenser på olika nivåer"
   ]
  },
  {
   "cell_type": "code",
   "execution_count": 8,
   "metadata": {},
   "outputs": [],
   "source": [
    "import matplotlib.pyplot as plt"
   ]
  },
  {
   "cell_type": "code",
   "execution_count": 9,
   "metadata": {},
   "outputs": [],
   "source": [
    "# Bestäm vilka olika färger som ska användas för respektive taxonomisk nivå, samt för de olika dataseten\n",
    "# För korrekt klassifiering: Grönt\n",
    "# För inkorrekt klassifiering: Rött\n",
    "# För olika nivåer av klassifiering, olika ljus/mörk färg\n",
    "\n",
    "# Antalet nivåer\n",
    "n = len(class_levels.columns)/2\n",
    "\n",
    "cmap_correct = plt.cm.get_cmap('Greens', n)\n",
    "cmap_incorrect = plt.cm.get_cmap('Reds', n)\n",
    "\n",
    "color_levels = {}\n",
    "for i in range(int(n)):\n",
    "    level_correct = class_levels.columns[i]\n",
    "    color_levels[level_correct] = cmap_correct(i)\n",
    "\n",
    "    level_incorrect = class_levels.columns[i+int(n)]\n",
    "    color_levels[level_incorrect] = cmap_incorrect(i)"
   ]
  },
  {
   "cell_type": "code",
   "execution_count": 10,
   "metadata": {},
   "outputs": [
    {
     "data": {
      "text/plain": [
       "<matplotlib.legend.Legend at 0x7fbdb8da3f70>"
      ]
     },
     "execution_count": 10,
     "metadata": {},
     "output_type": "execute_result"
    },
    {
     "data": {
      "image/png": "[encoded data removed]",
      "text/plain": [
       "<Figure size 432x288 with 1 Axes>"
      ]
     },
     "metadata": {
      "needs_background": "light"
     },
     "output_type": "display_data"
    }
   ],
   "source": [
    "# Plotta resultaten i en stacked bar plot\n",
    "fig, ax = plt.subplots()\n",
    "class_levels.plot(kind='bar', stacked=True, color=color_levels, title='Number of sequences with different levels of classification', ylabel='N° sequences', ax=ax)\n",
    "ax.legend(bbox_to_anchor=(1.05, 1.0), loc='upper left')"
   ]
  },
  {
   "cell_type": "code",
   "execution_count": 12,
   "metadata": {},
   "outputs": [
    {
     "data": {
      "text/plain": [
       "<AxesSubplot:title={'center':'Number of sequences correctly classified at each taxonomic level'}, ylabel='N° sequences'>"
      ]
     },
     "execution_count": 12,
     "metadata": {},
     "output_type": "execute_result"
    },
    {
     "data": {
      "image/png": "[encoded data removed]",
      "text/plain": [
       "<Figure size 432x288 with 1 Axes>"
      ]
     },
     "metadata": {
      "needs_background": "light"
     },
     "output_type": "display_data"
    }
   ],
   "source": [
    "# Hur många sekvenser som klassifierats på respektive nivå för de olika dataseten\n",
    "# Bestäm y-max för att kunna ha hela skalan av sekvenser i jämförelsen\n",
    "ymax = len(long_reads)\n",
    "\n",
    "all_levels.plot(ylim=(0, ymax+0.1*ymax), grid=True, title='Number of sequences correctly classified at each taxonomic level', ylabel='N° sequences')"
   ]
  },
  {
   "cell_type": "markdown",
   "metadata": {},
   "source": [
    "### 3.2 Olika communities"
   ]
  },
  {
   "cell_type": "code",
   "execution_count": 11,
   "metadata": {},
   "outputs": [
    {
     "data": {
      "text/plain": [
       "<AxesSubplot:title={'center':'Community structure for different methods'}, ylabel='N° sequences'>"
      ]
     },
     "execution_count": 11,
     "metadata": {},
     "output_type": "execute_result"
    },
    {
     "data": {
      "image/png": "[encoded data removed]",
      "text/plain": [
       "<Figure size 432x288 with 1 Axes>"
      ]
     },
     "metadata": {
      "needs_background": "light"
     },
     "output_type": "display_data"
    }
   ],
   "source": [
    "# Plotta strukturen på olika communities i förhållande till varandra\n",
    "communities.plot(kind='bar', stacked=True, title='Community structure for different methods', ylabel='N° sequences')"
   ]
  }
 ],
 "metadata": {
  "kernelspec": {
   "display_name": "base",
   "language": "python",
   "name": "python3"
  },
  "language_info": {
   "codemirror_mode": {
    "name": "ipython",
    "version": 3
   },
   "file_extension": ".py",
   "mimetype": "text/x-python",
   "name": "python",
   "nbconvert_exporter": "python",
   "pygments_lexer": "ipython3",
   "version": "3.8.8"
  }
 },
 "nbformat": 4,
 "nbformat_minor": 2
}

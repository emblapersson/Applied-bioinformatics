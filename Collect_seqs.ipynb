{
 "cells": [
  {
   "cell_type": "markdown",
   "metadata": {},
   "source": [
    "# Collect 16S sequences from NCBI"
   ]
  },
  {
   "cell_type": "code",
   "execution_count": null,
   "metadata": {},
   "outputs": [],
   "source": [
    "from Bio import Entrez\n",
    "Entrez.email = 'clara.nordquist.1217@student.uu.se'"
   ]
  },
  {
   "cell_type": "code",
   "execution_count": 12,
   "metadata": {},
   "outputs": [
    {
     "name": "stdout",
     "output_type": "stream",
     "text": [
      "\n",
      "    (Lactobacillus acidophilus[Organism] AND 16S[All Fields] \n",
      "    AND rRNA[All Fields]) AND bacteria[filter] \n",
      "    AND (refseq[filter] AND (\"1400\"[SLEN] : \"1650\"[SLEN]))\n",
      "    \n",
      "\n",
      "    (Lactobacillus reuteri[Organism] AND 16S[All Fields] \n",
      "    AND rRNA[All Fields]) AND bacteria[filter] \n",
      "    AND (refseq[filter] AND (\"1400\"[SLEN] : \"1650\"[SLEN]))\n",
      "    \n"
     ]
    }
   ],
   "source": [
    "organisms = [\"Lactobacillus acidophilus\", \"Lactobacillus reuteri\"]\n",
    "\n",
    "# search_term = '''(\"Lactobacillus acidophilus\"[Organism] AND 16S[All Fields] \n",
    "# AND rRNA[All Fields]) AND bacteria[filter] \n",
    "# AND (refseq[filter] AND (\"1400\"[SLEN] : \"1650\"[SLEN]))'''\n",
    "\n",
    "for organism in organisms: \n",
    "    search_term = f'''\n",
    "    ({organism}[Organism] AND 16S[All Fields] \n",
    "    AND rRNA[All Fields]) AND bacteria[filter] \n",
    "    AND (refseq[filter] AND (\"1400\"[SLEN] : \"1650\"[SLEN]))\n",
    "    '''\n",
    "    print(search_term)"
   ]
  },
  {
   "cell_type": "code",
   "execution_count": null,
   "metadata": {},
   "outputs": [],
   "source": [
    "# stream = Entrez.esearch(\n",
    "#     db = 'nucleotide', term = search_term, usehistory = 'y', idtype = 'acc'\n",
    "# )\n",
    "# search_results = Entrez.read(stream)\n",
    "# stream.close()"
   ]
  },
  {
   "cell_type": "code",
   "execution_count": 13,
   "metadata": {},
   "outputs": [
    {
     "name": "stdout",
     "output_type": "stream",
     "text": [
      "{'Count': '90', 'RetMax': '20', 'RetStart': '0', 'QueryKey': '1', 'WebEnv': 'MCID_673b164b0d31d1d37c0d80fb', 'IdList': ['NZ_RIUN01000026.1', 'NZ_RIUK01000034.1', 'NZ_RIUO01000525.1', 'NZ_RIUO01000487.1', 'NZ_RIUO01000481.1', 'NZ_RIUO01000478.1', 'NZ_RIUO01000456.1', 'NZ_RIUO01000437.1', 'NZ_RIUO01000428.1', 'NZ_RIUO01000411.1', 'NZ_RIUO01000408.1', 'NZ_RIUO01000388.1', 'NZ_RIUO01000375.1', 'NZ_RIUO01000342.1', 'NZ_RIUO01000322.1', 'NZ_RIUO01000287.1', 'NZ_RIUO01000286.1', 'NZ_RIUO01000271.1', 'NZ_RIUO01000252.1', 'NZ_RIUO01000248.1'], 'TranslationSet': [{'From': 'Lactobacillus acidophilus[Organism]', 'To': '\"Lactobacillus acidophilus\"[Organism]'}], 'TranslationStack': [{'Term': '\"Lactobacillus acidophilus\"[Organism]', 'Field': 'Organism', 'Count': '9298', 'Explode': 'Y'}, {'Term': '16S[All Fields]', 'Field': 'All Fields', 'Count': '54981890', 'Explode': 'N'}, 'AND', {'Term': 'rRNA[All Fields]', 'Field': 'All Fields', 'Count': '65752881', 'Explode': 'N'}, 'AND', 'GROUP', {'Term': 'bacteria[filter]', 'Field': 'filter', 'Count': '108022323', 'Explode': 'N'}, 'AND', {'Term': 'refseq[filter]', 'Field': 'filter', 'Count': '120136237', 'Explode': 'N'}, {'Term': '\"1400\"[SLEN]', 'Field': 'SLEN', 'Count': '0', 'Explode': 'N'}, {'Term': '\"1650\"[SLEN]', 'Field': 'SLEN', 'Count': '0', 'Explode': 'N'}, 'RANGE', 'GROUP', 'AND', 'GROUP', 'AND'], 'QueryTranslation': '(\"Lactobacillus acidophilus\"[Organism] AND 16S[All Fields] AND rRNA[All Fields]) AND bacteria[filter] AND (refseq[filter] AND (\"1400\"[SLEN] : \"1650\"[SLEN]))'}\n",
      "{'Count': '1175', 'RetMax': '20', 'RetStart': '0', 'QueryKey': '1', 'WebEnv': 'MCID_673b16730caed882a3033694', 'IdList': ['NZ_VUJR01000107.1', 'NZ_VUJR01000106.1', 'NZ_VUJR01000103.1', 'NZ_VUJR01000102.1', 'NZ_VUJR01000101.1', 'NZ_RINT01000130.1', 'NZ_RINP01000221.1', 'NZ_RINP01000046.1', 'NZ_RINU01000050.1', 'NZ_RINU01000045.1', 'NZ_RINV01000027.1', 'NZ_RINO01000225.1', 'NZ_RINO01000138.1', 'NZ_RINO01000048.1', 'NZ_RINS01000148.1', 'NZ_RINS01000125.1', 'NZ_RINR01000058.1', 'NZ_RINR01000057.1', 'NZ_RINR01000050.1', 'NZ_RINR01000047.1'], 'TranslationSet': [{'From': 'Lactobacillus reuteri[Organism]', 'To': '\"Limosilactobacillus reuteri\"[Organism]'}], 'TranslationStack': [{'Term': '\"Limosilactobacillus reuteri\"[Organism]', 'Field': 'Organism', 'Count': '174245', 'Explode': 'Y'}, {'Term': '16S[All Fields]', 'Field': 'All Fields', 'Count': '54981890', 'Explode': 'N'}, 'AND', {'Term': 'rRNA[All Fields]', 'Field': 'All Fields', 'Count': '65752881', 'Explode': 'N'}, 'AND', 'GROUP', {'Term': 'bacteria[filter]', 'Field': 'filter', 'Count': '108022323', 'Explode': 'N'}, 'AND', {'Term': 'refseq[filter]', 'Field': 'filter', 'Count': '120136237', 'Explode': 'N'}, {'Term': '\"1400\"[SLEN]', 'Field': 'SLEN', 'Count': '0', 'Explode': 'N'}, {'Term': '\"1650\"[SLEN]', 'Field': 'SLEN', 'Count': '0', 'Explode': 'N'}, 'RANGE', 'GROUP', 'AND', 'GROUP', 'AND'], 'QueryTranslation': '(\"Limosilactobacillus reuteri\"[Organism] AND 16S[All Fields] AND rRNA[All Fields]) AND bacteria[filter] AND (refseq[filter] AND (\"1400\"[SLEN] : \"1650\"[SLEN]))'}\n"
     ]
    }
   ],
   "source": [
    "for organism in organisms: \n",
    "    search_term = f'''\n",
    "    ({organism}[Organism] AND 16S[All Fields] \n",
    "    AND rRNA[All Fields]) AND bacteria[filter] \n",
    "    AND (refseq[filter] AND (\"1400\"[SLEN] : \"1650\"[SLEN]))\n",
    "    '''\n",
    "    stream = Entrez.esearch(db = 'nucleotide', term = search_term, usehistory = 'y', idtype = 'acc')\n",
    "    search_results = Entrez.read(stream)\n",
    "    stream.close()\n",
    "    print(search_results)\n"
   ]
  },
  {
   "cell_type": "code",
   "execution_count": 11,
   "metadata": {},
   "outputs": [
    {
     "name": "stdout",
     "output_type": "stream",
     "text": [
      "{'Count': '0', 'RetMax': '0', 'RetStart': '0', 'QueryKey': '1', 'WebEnv': 'MCID_673b14c2b2f8cd8ccb094cd1', 'IdList': [], 'TranslationSet': [], 'QueryTranslation': '(\"Lactobacillus acidophilus, Lactobacillus reuteri\"[Organism] AND 16S[All Fields] AND rRNA[All Fields]) AND bacteria[filter] AND (refseq[filter] AND (\"1400\"[SLEN] : \"1650\"[SLEN]))', 'WarningList': {'PhraseIgnored': [], 'OutputMessage': ['No items found.'], 'QuotedPhraseNotFound': ['\"Lactobacillus acidophilus, Lactobacillus reuteri\"[Organism]']}}\n"
     ]
    }
   ],
   "source": [
    "print(search_results)"
   ]
  },
  {
   "cell_type": "code",
   "execution_count": 6,
   "metadata": {},
   "outputs": [],
   "source": [
    "acc_list = search_results['IdList']\n",
    "webenv = search_results['WebEnv']\n",
    "query_key = search_results['QueryKey']\n",
    "\n",
    "max_sequences = 5\n",
    "output = open('test.fasta', 'w')\n",
    "stream = Entrez.efetch(\n",
    "    db = 'nucleotide', rettype = 'fasta', retmode = 'text', retmax = max_sequences, webenv = webenv, query_key = query_key, idtype = 'acc'\n",
    ")\n",
    "data = stream.read()\n",
    "output.write(data)\n",
    "output.close()"
   ]
  }
 ],
 "metadata": {
  "kernelspec": {
   "display_name": "base",
   "language": "python",
   "name": "python3"
  },
  "language_info": {
   "codemirror_mode": {
    "name": "ipython",
    "version": 3
   },
   "file_extension": ".py",
   "mimetype": "text/x-python",
   "name": "python",
   "nbconvert_exporter": "python",
   "pygments_lexer": "ipython3",
   "version": "3.8.8"
  }
 },
 "nbformat": 4,
 "nbformat_minor": 2
}

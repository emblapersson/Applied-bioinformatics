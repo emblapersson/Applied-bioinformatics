{
 "cells": [
  {
   "cell_type": "markdown",
   "metadata": {},
   "source": [
    "# Collect 16S sequences from NCBI"
   ]
  },
  {
   "cell_type": "code",
   "execution_count": 3,
   "metadata": {},
   "outputs": [],
   "source": [
    "# https://biopython.org/docs/latest/Tutorial/chapter_entrez.html#sec-entrez-webenv\n",
    "# Börja med att importera rätt paket, och lägg in mejladress för att NCBI ska veta vem man är (idk)\n",
    "# Kräver att Biopython är installerat\n",
    "\n",
    "import pandas as pd\n",
    "from Bio import Entrez\n",
    "from Bio import SeqIO"
   ]
  },
  {
   "cell_type": "code",
   "execution_count": 5,
   "metadata": {},
   "outputs": [],
   "source": [
    "# Läsa in vilka arter som vi ska hämta sekvenser för\n",
    "organism_dataset = pd.read_csv('Data/Given_organisms_species_genus.txt', names=['Organisms'])\n",
    "organisms = [a for a in organism_dataset.iloc[:, 0]]"
   ]
  },
  {
   "cell_type": "code",
   "execution_count": 6,
   "metadata": {},
   "outputs": [
    {
     "name": "stdout",
     "output_type": "stream",
     "text": [
      "Warning: Gardnerella piotii not found in database\n"
     ]
    }
   ],
   "source": [
    "# Sök igenom NCBI och hitta 1) fastafiler av 16S genen och 2) taxonomin för arterna som använts\n",
    "# Sökningen sker med följande filter: \n",
    "# - Species = Bacteria\n",
    "# - Molecule types = Genomic DNA/RNA\n",
    "# - Source databases = RefSeq\n",
    "# - Sequence length = [1300, 1800]\n",
    "\n",
    "# The output files\n",
    "# - output_fasta: Fastasekvenserna för 16S rRNA-genen\n",
    "# - output_taxonomy: Taxonomin på nivåerna kingdom/phylum/class/order/family/genus/species för arterna vi hämtar fastasekvenser från\n",
    "# - not_found: En lista med de arter som inte finns i databasen\n",
    "\n",
    "output_fasta = open('All_taxa_species_genus.fasta', 'w')\n",
    "output_taxonomy = open('Taxonomy_species_genus.txt', 'w')\n",
    "output_taxonomy.write(f'ID, Kingdom, Phylum, Class, Order, Family, Genus, Species\\n')\n",
    "output_notfound = open('Not_found_species_genus.txt', 'w')\n",
    "\n",
    "# Antal sekvenser att hämta per art\n",
    "max_sequences = 1\n",
    "\n",
    "# Loopa genom lista med arter\n",
    "# För varje art, sök i NCBI enligt kriterierna ovan, och spara resultaten\n",
    "# Ladda sedan ner det angivna antalet sekvenser och spara i output_fasta, samt organismens taxonomi i output_taxonomy\n",
    "# Om arten inte finns, skriv det som output och lägg till den i listan för not found\n",
    "for organism in organisms:\n",
    "    Entrez.email = 'clara.nordquist.1217@student.uu.se'\n",
    "\n",
    "    search_term = f'''\n",
    "    (\"{organism}\"[Organism] AND 16S[All Fields] AND refseq[filter] AND \n",
    "    \"1300\"[SLEN] : \"1800\"[SLEN] AND bacteria[filter]) \n",
    "    '''\n",
    "    \n",
    "    # Först, sök igenom databasen\n",
    "    stream = Entrez.esearch(db = 'nucleotide', term = search_term, usehistory = 'y', idtype = 'acc')\n",
    "    search_results = Entrez.read(stream)\n",
    "    stream.close()\n",
    "    acc_list = search_results['IdList']\n",
    "    webenv = search_results['WebEnv']\n",
    "    query_key = search_results['QueryKey']\n",
    "    \n",
    "    # Ladda ner gensekvensen och spara i filen fasta_output\n",
    "    stream = Entrez.efetch(\n",
    "    db = 'nucleotide', rettype = 'fasta', retmode = 'text', retmax = max_sequences, webenv = webenv, query_key = query_key, idtype = 'acc')\n",
    "    data = stream.read()\n",
    "    \n",
    "    # Om organismen finns\n",
    "    if type(data) == str:\n",
    "        output_fasta.write(data)\n",
    "\n",
    "        # Ladda ner taxonomin\n",
    "        stream = Entrez.efetch(db = 'nucleotide', rettype = 'gb', retmode = 'text', retmax = max_sequences, webenv = webenv, query_key = query_key, idtype = 'acc')\n",
    "        for record in SeqIO.parse(stream, 'genbank'):\n",
    "            output_taxonomy.write(f'{record.id}, ')\n",
    "            output_taxonomy.write(f'{str(record.annotations[\"taxonomy\"]).replace(\"[\", \"\").replace(\"]\", \"\")}\\n')\n",
    "    \n",
    "    # Om organismen inte finns\n",
    "    else:\n",
    "        print(f'Warning: {organism} not found in database')\n",
    "        output_notfound.write(f'{organism}\\n')\n",
    "\n",
    "output_fasta.close()\n",
    "output_taxonomy.close()\n",
    "output_notfound.close()"
   ]
  },
  {
   "cell_type": "markdown",
   "metadata": {},
   "source": [
    "## Ladda ned 16S rRNA-sekvenserna"
   ]
  },
  {
   "cell_type": "code",
   "execution_count": 4,
   "metadata": {},
   "outputs": [],
   "source": [
    "# # Definiera hur många sekvenser som ska hämtas för varje art, samt namnet på outputfilen\n",
    "# output = open('All_given_species_genus.fasta', 'w')\n",
    "\n",
    "# # En lista för alla arter som ej finns i databasen\n",
    "# not_found = []\n",
    "\n",
    "# # För varje organism i listan, sök i NCBI (RefSeq) efter 16S rRNA-gener med längd mellan 1400 och 1650 bp\n",
    "# # Spara de [max_sequences] första träffarna i fastaformat, i den angivna outputfilen\n",
    "# # Om organismens ej finns i databasen, lägg namnen i en lista\n",
    "# for organism in organisms: \n",
    "#     search_term = f'''\n",
    "#     ({organism}[Organism] AND 16S[All Fields] \n",
    "#     AND bacteria[filter] \n",
    "#     AND (refseq[filter] AND \"1400\"[SLEN] : \"1650\"[SLEN])\n",
    "#     '''\n",
    "#     stream = Entrez.esearch(db = 'nucleotide', term = search_term, usehistory = 'y', idtype = 'acc')\n",
    "#     search_results = Entrez.read(stream)\n",
    "#     stream.close()\n",
    "#     acc_list = search_results['IdList']\n",
    "#     webenv = search_results['WebEnv']\n",
    "#     query_key = search_results['QueryKey']\n",
    "    \n",
    "#     stream = Entrez.efetch(\n",
    "#     db = 'nucleotide', rettype = 'fasta', retmode = 'text', retmax = 2, webenv = webenv, query_key = query_key, idtype = 'acc')\n",
    "#     data = stream.read()\n",
    "    \n",
    "#     if type(data) == str:\n",
    "#         output.write(data)\n",
    "#     else:\n",
    "#         not_found.append(organism)\n",
    "# output.close()"
   ]
  }
 ],
 "metadata": {
  "kernelspec": {
   "display_name": "base",
   "language": "python",
   "name": "python3"
  },
  "language_info": {
   "codemirror_mode": {
    "name": "ipython",
    "version": 3
   },
   "file_extension": ".py",
   "mimetype": "text/x-python",
   "name": "python",
   "nbconvert_exporter": "python",
   "pygments_lexer": "ipython3",
   "version": "3.8.8"
  }
 },
 "nbformat": 4,
 "nbformat_minor": 2
}

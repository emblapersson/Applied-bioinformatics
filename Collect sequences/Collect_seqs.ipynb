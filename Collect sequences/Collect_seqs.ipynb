{
 "cells": [
  {
   "cell_type": "markdown",
   "metadata": {},
   "source": [
    "# Collect 16S sequences from NCBI"
   ]
  },
  {
   "cell_type": "code",
   "execution_count": 1,
   "metadata": {},
   "outputs": [],
   "source": [
    "# https://biopython.org/docs/latest/Tutorial/chapter_entrez.html#sec-entrez-webenv\n",
    "# Börja med att importera rätt paket, och lägg in mejladress för att NCBI ska veta vem man är (idk)\n",
    "# Kräver att Biopython är installerat\n",
    "\n",
    "import pandas as pd\n",
    "from Bio import Entrez\n",
    "Entrez.email = 'clara.nordquist.1217@student.uu.se'"
   ]
  },
  {
   "cell_type": "code",
   "execution_count": 2,
   "metadata": {},
   "outputs": [],
   "source": [
    "# Läsa in vilka arter som vi ska hämta sekvenser för\n",
    "organism_dataset = pd.read_csv('/Users/claranordquist/Documents/Universitetet/HT24/Tillämpad bioinformatik/Applied-bioinformatics/Collect sequences/Test data/Species_to_identify_species_and_genus.csv', names=['species'])\n",
    "organisms = [a for a in organism_dataset.iloc[:, 0]]"
   ]
  },
  {
   "cell_type": "code",
   "execution_count": 3,
   "metadata": {},
   "outputs": [],
   "source": [
    "# Definiera hur många sekvenser som ska hämtas för varje art, samt namnet på outputfilen\n",
    "max_sequences = 2\n",
    "output = open('All_given_species_genus.fasta', 'w')\n",
    "\n",
    "# En lista för alla arter som ej finns i databasen\n",
    "not_found = []\n",
    "\n",
    "# För varje organism i listan, sök i NCBI (RefSeq) efter 16S rRNA-gener med längd mellan 1400 och 1650 bp\n",
    "# Spara de [max_sequences] första träffarna i fastaformat, i den angivna outputfilen\n",
    "# Om organismens ej finns i databasen, lägg namnen i en lista\n",
    "for organism in organisms: \n",
    "    search_term = f'''\n",
    "    ({organism}[Organism] AND 16S[All Fields] \n",
    "    AND rRNA[All Fields]) AND bacteria[filter] \n",
    "    AND (refseq[filter] AND (\"1400\"[SLEN] : \"1650\"[SLEN]))\n",
    "    '''\n",
    "    stream = Entrez.esearch(db = 'nucleotide', term = search_term, usehistory = 'y', idtype = 'acc')\n",
    "    search_results = Entrez.read(stream)\n",
    "    stream.close()\n",
    "    acc_list = search_results['IdList']\n",
    "    webenv = search_results['WebEnv']\n",
    "    query_key = search_results['QueryKey']\n",
    "    \n",
    "    stream = Entrez.efetch(\n",
    "    db = 'nucleotide', rettype = 'fasta', retmode = 'text', retmax = 2, webenv = webenv, query_key = query_key, idtype = 'acc')\n",
    "    data = stream.read()\n",
    "    \n",
    "    if type(data) == str:\n",
    "        output.write(data)\n",
    "    else:\n",
    "        not_found.append(organism)\n",
    "output.close()"
   ]
  }
 ],
 "metadata": {
  "kernelspec": {
   "display_name": "base",
   "language": "python",
   "name": "python3"
  },
  "language_info": {
   "codemirror_mode": {
    "name": "ipython",
    "version": 3
   },
   "file_extension": ".py",
   "mimetype": "text/x-python",
   "name": "python",
   "nbconvert_exporter": "python",
   "pygments_lexer": "ipython3",
   "version": "3.8.8"
  }
 },
 "nbformat": 4,
 "nbformat_minor": 2
}

{
 "cells": [
  {
   "cell_type": "markdown",
   "metadata": {},
   "source": [
    "# Collect 16S sequences from NCBI"
   ]
  },
  {
   "cell_type": "code",
   "execution_count": 1,
   "metadata": {},
   "outputs": [],
   "source": [
    "# https://biopython.org/docs/latest/Tutorial/chapter_entrez.html#sec-entrez-webenv\n",
    "# Börja med att importera rätt paket, och lägg in mejladress för att NCBI ska veta vem man är (idk)\n",
    "# Kräver att Biopython är installerat\n",
    "\n",
    "import pandas as pd\n",
    "from Bio import Entrez\n",
    "from Bio import SeqIO\n",
    "Entrez.email = 'clara.nordquist.1217@student.uu.se'"
   ]
  },
  {
   "cell_type": "code",
   "execution_count": 2,
   "metadata": {},
   "outputs": [],
   "source": [
    "# Läsa in vilka arter som vi ska hämta sekvenser för\n",
    "organism_dataset = pd.read_csv('/Users/claranordquist/Documents/Universitetet/HT24/Tillämpad bioinformatik/Applied-bioinformatics/Collect sequences/Test data/Species_to_identify_species_and_genus.csv', names=['species'])\n",
    "organisms = [a for a in organism_dataset.iloc[:, 0]]"
   ]
  },
  {
   "cell_type": "code",
   "execution_count": 2,
   "metadata": {},
   "outputs": [],
   "source": [
    "organisms = ['Fannyhessea vaginae', 'Gardnerella vaginalis', 'Sneathia vaginalis']"
   ]
  },
  {
   "cell_type": "code",
   "execution_count": null,
   "metadata": {},
   "outputs": [],
   "source": [
    "output_fasta = open('All_given_species_genus.fasta', 'w')\n",
    "output_taxonomy = open('Taxonomy.txt', 'w')\n",
    "output_taxonomy.write(f'ID, Kingdom, Phylum, Class, Order, Family, Genus, Species\\n')\n",
    "\n",
    "not_found = []\n",
    "max_sequences = 2\n",
    "\n",
    "for organism in organisms: \n",
    "    search_term = f'''\n",
    "    ({organism}[Organism] AND 16S[All Fields] \n",
    "    AND bacteria[filter] \n",
    "    AND (refseq[filter] AND \"1400\"[SLEN] : \"1650\"[SLEN])\n",
    "    '''\n",
    "    # Först, sök igenom databasen\n",
    "    stream = Entrez.esearch(db = 'nucleotide', term = search_term, usehistory = 'y', idtype = 'acc')\n",
    "    search_results = Entrez.read(stream)\n",
    "    stream.close()\n",
    "    acc_list = search_results['IdList']\n",
    "    webenv = search_results['WebEnv']\n",
    "    query_key = search_results['QueryKey']\n",
    "    \n",
    "    # Ladda ner gensekvensen och spara i filen fasta_output\n",
    "    stream = Entrez.efetch(\n",
    "    db = 'nucleotide', rettype = 'fasta', retmode = 'text', retmax = max_sequences, webenv = webenv, query_key = query_key, idtype = 'acc')\n",
    "    data = stream.read()\n",
    "    \n",
    "    if type(data) == str:\n",
    "        output_fasta.write(data)\n",
    "    else:\n",
    "        not_found.append(organism)\n",
    "    \n",
    "    # Ladda ner taxonomin\n",
    "    stream = Entrez.efetch(db = 'nucleotide', rettype = 'gb', retmode = 'text', retmax = max_sequences, webenv = webenv, query_key = query_key, idtype = 'acc')\n",
    "    for record in SeqIO.parse(stream, 'genbank'):\n",
    "        output_taxonomy.write(f'{record.id}, ')\n",
    "        output_taxonomy.write(f'{record.annotations[\"taxonomy\"]}\\n')\n",
    "output_fasta.close()\n",
    "output_taxonomy.close()"
   ]
  },
  {
   "cell_type": "markdown",
   "metadata": {},
   "source": [
    "## Ladda ned 16S rRNA-sekvenserna"
   ]
  },
  {
   "cell_type": "code",
   "execution_count": null,
   "metadata": {},
   "outputs": [
    {
     "name": "stdout",
     "output_type": "stream",
     "text": [
      "['NZ_KQ961074.1', 'NZ_LFWE01000020.1', 'NZ_AEDQ01000028.1']\n",
      "['NZ_NQOJ01000020.1', 'NZ_JASOME010000020.1', 'NZ_JASOOP010000223.1', 'NZ_JASOOP010000222.1', 'NZ_JASOOP010000221.1', 'NZ_JASOOP010000220.1', 'NZ_JASOOP010000219.1', 'NZ_JASOOP010000218.1', 'NZ_JASOOP010000217.1', 'NZ_JASOOP010000216.1', 'NZ_JASOOP010000215.1', 'NZ_JASOOP010000214.1', 'NZ_JASOOP010000213.1', 'NZ_JASOOP010000212.1', 'NZ_JASOOP010000211.1', 'NZ_JASOOP010000210.1', 'NZ_LSLG01000029.1', 'NZ_LWSP01000263.1', 'NZ_LWSP01000262.1', 'NZ_LWSP01000261.1']\n",
      "['NZ_JBHLSP010000031.1', 'NZ_JBHLSP010000030.1', 'NZ_JBHMQL010000026.1', 'NZ_JBHMQL010000008.1', 'NZ_JBHMQK010000031.1', 'NZ_JBHMQK010000030.1', 'NZ_JASSPO010000056.1', 'NZ_JASSPO010000055.1']\n"
     ]
    }
   ],
   "source": [
    "# Definiera hur många sekvenser som ska hämtas för varje art, samt namnet på outputfilen\n",
    "output = open('All_given_species_genus.fasta', 'w')\n",
    "\n",
    "# En lista för alla arter som ej finns i databasen\n",
    "not_found = []\n",
    "\n",
    "# För varje organism i listan, sök i NCBI (RefSeq) efter 16S rRNA-gener med längd mellan 1400 och 1650 bp\n",
    "# Spara de [max_sequences] första träffarna i fastaformat, i den angivna outputfilen\n",
    "# Om organismens ej finns i databasen, lägg namnen i en lista\n",
    "for organism in organisms: \n",
    "    search_term = f'''\n",
    "    ({organism}[Organism] AND 16S[All Fields] \n",
    "    AND bacteria[filter] \n",
    "    AND (refseq[filter] AND \"1400\"[SLEN] : \"1650\"[SLEN])\n",
    "    '''\n",
    "    stream = Entrez.esearch(db = 'nucleotide', term = search_term, usehistory = 'y', idtype = 'acc')\n",
    "    search_results = Entrez.read(stream)\n",
    "    stream.close()\n",
    "    acc_list = search_results['IdList']\n",
    "    webenv = search_results['WebEnv']\n",
    "    query_key = search_results['QueryKey']\n",
    "    \n",
    "    stream = Entrez.efetch(\n",
    "    db = 'nucleotide', rettype = 'fasta', retmode = 'text', retmax = 2, webenv = webenv, query_key = query_key, idtype = 'acc')\n",
    "    data = stream.read()\n",
    "    \n",
    "    if type(data) == str:\n",
    "        output.write(data)\n",
    "    else:\n",
    "        not_found.append(organism)\n",
    "output.close()"
   ]
  }
 ],
 "metadata": {
  "kernelspec": {
   "display_name": "base",
   "language": "python",
   "name": "python3"
  },
  "language_info": {
   "codemirror_mode": {
    "name": "ipython",
    "version": 3
   },
   "file_extension": ".py",
   "mimetype": "text/x-python",
   "name": "python",
   "nbconvert_exporter": "python",
   "pygments_lexer": "ipython3",
   "version": "3.8.8"
  }
 },
 "nbformat": 4,
 "nbformat_minor": 2
}

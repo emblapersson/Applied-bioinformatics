{
 "cells": [
  {
   "cell_type": "markdown",
   "metadata": {},
   "source": [
    "### ChatGPTs lösning"
   ]
  },
  {
   "cell_type": "code",
   "execution_count": 40,
   "metadata": {},
   "outputs": [],
   "source": [
    "from Bio import SeqIO\n",
    "from Bio.Align import PairwiseAligner\n",
    "\n",
    "def align_to_reference(query_seq, reference_seq):\n",
    "    \"\"\"\n",
    "    Align the query sequence to the reference sequence and return alignment details.\n",
    "    \"\"\"\n",
    "    aligner = PairwiseAligner()\n",
    "    aligner.mode = 'global'\n",
    "    aligner.match_score = 1\n",
    "    aligner.mismatch_score = -1\n",
    "    aligner.open_gap_score = -2\n",
    "    aligner.extend_gap_score = -1\n",
    "\n",
    "    alignment = aligner.align(reference_seq, query_seq)[0]  # Get the best alignment\n",
    "    aligned_ref = alignment.aligned[0]\n",
    "    aligned_query = alignment.aligned[1]\n",
    "    \n",
    "    return aligned_ref, aligned_query\n",
    "\n",
    "def extract_region_of_interest(seq, aligned_ref, aligned_query, ref_start, ref_end):\n",
    "    \"\"\"\n",
    "    Extract the region of interest from the aligned query sequence based on reference coordinates.\n",
    "    \"\"\"\n",
    "    query_start = None\n",
    "    query_end = None\n",
    "\n",
    "    # Map reference positions to query sequence positions\n",
    "    for ref_range, query_range in zip(aligned_ref, aligned_query):\n",
    "        # Check if the primer region falls within this reference range\n",
    "        if ref_start >= ref_range[0] and ref_start < ref_range[1]:\n",
    "            query_start = query_range[0] + (ref_start - ref_range[0])\n",
    "        if ref_end > ref_range[0] and ref_end <= ref_range[1]:\n",
    "            query_end = query_range[0] + (ref_end - ref_range[0])\n",
    "    \n",
    "    return query_start, query_end\n",
    "\n",
    "    # Extract the region if both start and end were found\n",
    "    if query_start is not None and query_end is not None:\n",
    "        return seq[query_start:query_end]\n",
    "    # return None\n",
    "\n",
    "def process_sequences(fasta_file, reference_seq, primer_fwd, primer_rev, output_file):\n",
    "    \"\"\"\n",
    "    Extract sequences between primers based on alignment to a reference sequence.\n",
    "    \"\"\"\n",
    "    # Find positions of primers in the reference sequence\n",
    "    ref_start = reference_seq.index(primer_fwd) + len(primer_fwd)\n",
    "    ref_end = reference_seq.index(primer_rev)\n",
    "\n",
    "    lengths = []\n",
    "\n",
    "    with open(output_file, \"w\") as out_fasta:\n",
    "        for record in SeqIO.parse(fasta_file, \"fasta\"):\n",
    "            seq = str(record.seq).upper()\n",
    "\n",
    "            # Align sequence to reference\n",
    "            aligned_ref, aligned_query = align_to_reference(seq, reference_seq)\n",
    "\n",
    "            start, end = extract_region_of_interest(seq, aligned_ref, aligned_query, ref_start, ref_end)\n",
    "\n",
    "            if start is None or end is None:\n",
    "                print(f\">{record.id}\\n{start, end}\\n\")\n",
    "            #     out_fasta.write(f\">{record.id}\\n{start, end}\\n\")\n",
    "\n",
    "            # # Extract region of interest\n",
    "            # extracted_seq = extract_region_of_interest(seq, aligned_ref, aligned_query, ref_start, ref_end)\n",
    "\n",
    "            # if extracted_seq:\n",
    "            #     lengths.append(len(extracted_seq))\n",
    "            # else:\n",
    "            #     print(f\"Region not found for sequence {record.id}\")\n",
    "            #     out_fasta.write(f\">{record.id}\\n{extracted_seq}\\n\")\n",
    "    return lengths"
   ]
  },
  {
   "cell_type": "code",
   "execution_count": 41,
   "metadata": {},
   "outputs": [],
   "source": [
    "from Bio import SeqIO\n",
    "\n",
    "for record in SeqIO.parse(\"Ecoli.fasta\", \"fasta\"):\n",
    "    ecoli = record.seq\n",
    "\n",
    "# From Extract_sequences_16S\n",
    "# forward: GTAACAGGAAGAAGCTTGCTTCTTTGCTGAC\n",
    "# reverse: GTAGGTAGCTTAACCTTCGGGAGGGCGCTTA\n",
    "forward_V1 = 'CTTCTT'\n",
    "reverse_V9 = 'AGCTTA'\n",
    "\n",
    "# From Extract_sequences_16S\n",
    "# forward: GTACTTTCAGCGGGGAGGAAGGGAGTAAAGTTAATACCTTTGCTCATTGACGTTACCCGCAGAAG\n",
    "# reverse: \n",
    "# CGCACGCAGGCGGUUUGUUAAGUCAGAUGUGAAAUCCCCGGGCUCAACCUGGGAACUGCAUCUGAUACUGGCAAGCUUGAGUCUCGUAGAGGGGGGUAGAAUUCCAG\n",
    "forward_V3 = 'GCGGGG'\n",
    "reverse_V4 = 'GGCAAG'"
   ]
  },
  {
   "cell_type": "code",
   "execution_count": 43,
   "metadata": {},
   "outputs": [
    {
     "name": "stdout",
     "output_type": "stream",
     "text": [
      ">NZ_GL878523.1\n",
      "(None, 537)\n",
      "\n",
      ">NZ_NQOJ01000020.1\n",
      "(462, None)\n",
      "\n",
      ">NZ_QJVB01000008.1\n",
      "(438, None)\n",
      "\n",
      ">NZ_NQOJ01000020.1\n",
      "(462, None)\n",
      "\n",
      ">NZ_NFMF01000019.1\n",
      "(None, 622)\n",
      "\n",
      ">NZ_JBBNGY010000024.1\n",
      "(None, 539)\n",
      "\n",
      ">NZ_AUFY01000038.1\n",
      "(None, None)\n",
      "\n"
     ]
    },
    {
     "data": {
      "text/plain": [
       "[]"
      ]
     },
     "execution_count": 43,
     "metadata": {},
     "output_type": "execute_result"
    }
   ],
   "source": [
    "process_sequences(\"Vaginal_species_all.fasta\", ecoli, forward_V3, reverse_V4, \"output_modified.fasta\")"
   ]
  },
  {
   "cell_type": "code",
   "execution_count": 39,
   "metadata": {},
   "outputs": [
    {
     "name": "stdout",
     "output_type": "stream",
     "text": [
      "188.925\n"
     ]
    }
   ],
   "source": [
    "a = process_sequences(\"Vaginal_species_all.fasta\", ecoli, forward_V3, reverse_V4, \"output_modified.fasta\")\n",
    "print(sum(a)/len(a))"
   ]
  },
  {
   "cell_type": "markdown",
   "metadata": {},
   "source": []
  }
 ],
 "metadata": {
  "kernelspec": {
   "display_name": "base",
   "language": "python",
   "name": "python3"
  },
  "language_info": {
   "codemirror_mode": {
    "name": "ipython",
    "version": 3
   },
   "file_extension": ".py",
   "mimetype": "text/x-python",
   "name": "python",
   "nbconvert_exporter": "python",
   "pygments_lexer": "ipython3",
   "version": "3.8.8"
  }
 },
 "nbformat": 4,
 "nbformat_minor": 2
}

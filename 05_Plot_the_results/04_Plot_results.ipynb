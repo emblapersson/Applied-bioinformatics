{
 "cells": [
  {
   "cell_type": "markdown",
   "metadata": {},
   "source": [
    "## Plot and analyze taxonomic classification\n",
    "Code to plot and analyze the taxonomic classification made by Qiime2. The input data must be in the format of:\n",
    "- Rows: Each row is one sequence, with an ID column\n",
    "- Columns: Each column is the taxonomic classification at one level. Might have one level for the classification confidence as well. "
   ]
  },
  {
   "cell_type": "code",
   "execution_count": 2,
   "metadata": {},
   "outputs": [],
   "source": [
    "# TO BE SPECIFIEC\n",
    "# Samples analyzed\n",
    "samples = ['V3-V4', 'V1-V9']\n",
    "samples_databases = ['Greengenes2', 'SILVA', 'GTDB']\n",
    "\n",
    "# True taxonomy and conversion table with species names that might have synonyms\n",
    "taxonomy_key = '/Users/claranordquist/Documents/Universitetet/HT24/Tillämpad_bioinformatik/Applied-bioinformatics/01_Collect_sequences/02_Sequences/Downloaded_5dec/Taxonomy_species_genus_corrected.csv'\n",
    "conversion_table = '/Users/claranordquist/Documents/Universitetet/HT24/Tillämpad_bioinformatik/Applied-bioinformatics/05_Plot_the_results/01_Data/Species_conversion.txt'\n",
    "\n",
    "# The input taxonomies\n",
    "# Greengenes2\n",
    "input_illumina_gg = '/Users/claranordquist/Documents/Universitetet/HT24/Tillämpad_bioinformatik/Applied-bioinformatics/05_Plot_the_results/01_Data/Greengenes2/Illumina_simulated/illumina_gg_names_fixed.csv'\n",
    "input_fasta_short_gg = '/Users/claranordquist/Documents/Universitetet/HT24/Tillämpad_bioinformatik/Applied-bioinformatics/05_Plot_the_results/01_Data/Greengenes2/Fasta_short_reads/Fasta_short_reads_fixed.csv'\n",
    "input_fasta_long_gg = '/Users/claranordquist/Documents/Universitetet/HT24/Tillämpad_bioinformatik/Applied-bioinformatics/05_Plot_the_results/01_Data/Greengenes2/Fasta_long_reads/Fasta_long_reads_fixed.csv'\n",
    "\n",
    "# SILVA\n",
    "input_illumina_silva = '/Users/claranordquist/Documents/Universitetet/HT24/Tillämpad_bioinformatik/Applied-bioinformatics/05_Plot_the_results/01_Data/Silva/Illumina_simulated/illumina_silva_names_fixed.csv'\n",
    "input_fasta_short_silva = '/Users/claranordquist/Documents/Universitetet/HT24/Tillämpad_bioinformatik/Applied-bioinformatics/05_Plot_the_results/01_Data/Silva/Fasta_short_reads/Fasta_short_reads_names_fixed.csv'\n",
    "input_fasta_long_silva = '/Users/claranordquist/Documents/Universitetet/HT24/Tillämpad_bioinformatik/Applied-bioinformatics/05_Plot_the_results/01_Data/Silva/Fasta_long_reads/Fasta_long_reads_names_fixed.csv'\n",
    "\n",
    "# GTDB\n",
    "input_illumina_GTDB = '/Users/claranordquist/Documents/Universitetet/HT24/Tillämpad_bioinformatik/Applied-bioinformatics/05_Plot_the_results/01_Data/GTDB/illumina_gtdb_names_fixed.csv'"
   ]
  },
  {
   "cell_type": "markdown",
   "metadata": {},
   "source": [
    "### Read the data"
   ]
  },
  {
   "cell_type": "code",
   "execution_count": 1,
   "metadata": {},
   "outputs": [],
   "source": [
    "# Import packages\n",
    "import pandas as pd\n",
    "import matplotlib.pyplot as plt"
   ]
  },
  {
   "cell_type": "code",
   "execution_count": 3,
   "metadata": {},
   "outputs": [],
   "source": [
    "# Read the data\n",
    "# The correct taxonomy and the conversion table\n",
    "taxonomy = pd.read_csv(taxonomy_key, index_col='Feature ID')\n",
    "conversion = pd.read_csv(conversion_table)\n",
    "taxonomic_levels = ['Kingdom', 'Phylum', 'Class', 'Order', 'Family', 'Genus', 'Species']\n",
    "\n",
    "# Create a conversion dictionary for species with multiple names\n",
    "conversion.columns = ['Species', 'Synonyms']\n",
    "conversion_dict = {}\n",
    "for ID in conversion.index:\n",
    "    if conversion.loc[ID, 'Species'] not in conversion_dict.keys():\n",
    "        conversion_dict[conversion.loc[ID, 'Species']] = [conversion.loc[ID, 'Synonyms']]\n",
    "    else:\n",
    "        conversion_dict[conversion.loc[ID, 'Species']].append(conversion.loc[ID, 'Synonyms'])"
   ]
  },
  {
   "cell_type": "code",
   "execution_count": null,
   "metadata": {},
   "outputs": [],
   "source": [
    "# Define the color map for plotting\n",
    "# Number of taxonomic levels\n",
    "n = len(taxonomic_levels)\n",
    "\n",
    "# Create the color maps\n",
    "# For plotting without and with the taxonomic key\n",
    "cmap_nokey = plt.cm.get_cmap('Blues', n+1)\n",
    "cmap_key = plt.cm.get_cmap('Greens', n+1)\n",
    "\n",
    "color_levels_nokey = {}\n",
    "color_levels_key = {}\n",
    "for i in range(1, n+1):\n",
    "    color_levels_nokey[taxonomic_levels[i-1]] = cmap_nokey(i)\n",
    "    color_levels_key[taxonomic_levels[i-1]] = cmap_key(i)\n",
    "\n",
    "color_levels_nokey['Unassigned'] = 'orange'\n",
    "color_levels_key['Unassigned'] = 'orange'\n",
    "color_levels_key['Wrong kingdom'] = 'crimson'"
   ]
  },
  {
   "cell_type": "code",
   "execution_count": 4,
   "metadata": {},
   "outputs": [],
   "source": [
    "# The taxonomic classifications of interest\n",
    "# The index column name has to been changed according to what's in the dataset ('Feature ID' or 'index')\n",
    "# Greengenes2\n",
    "illumina_gg = pd.read_csv(input_illumina_gg, index_col='index')\n",
    "fasta_short_gg = pd.read_csv(input_fasta_short_gg, index_col='Feature ID')\n",
    "fasta_long_gg = pd.read_csv(input_fasta_long_gg, index_col='Feature ID')\n",
    "\n",
    "# SILVA\n",
    "illumina_silva = pd.read_csv(input_illumina_silva, index_col='index')\n",
    "fasta_short_silva = pd.read_csv(input_fasta_short_silva, index_col='Feature ID')\n",
    "fasta_long_silva = pd.read_csv(input_fasta_long_silva, index_col='Feature ID')\n",
    "\n",
    "# GTDB\n",
    "illumina_GTDB = pd.read_csv(input_illumina_GTDB, index_col='index')"
   ]
  },
  {
   "cell_type": "code",
   "execution_count": 5,
   "metadata": {},
   "outputs": [],
   "source": [
    "# For the datasets with a confidence level, if it isn't used to filter the dataset\n",
    "# Drop confidence levels\n",
    "fasta_short_gg.drop('Confidence', axis=1, inplace=True)\n",
    "fasta_long_gg.drop('Confidence', axis=1, inplace=True)\n",
    "fasta_short_silva.drop('Confidence', axis=1, inplace=True)\n",
    "fasta_long_silva.drop('Confidence', axis=1, inplace=True)"
   ]
  },
  {
   "cell_type": "code",
   "execution_count": 6,
   "metadata": {},
   "outputs": [],
   "source": [
    "# Make replacements of known synonyms at other levels than species\n",
    "# Replace \"firmicutes\" med \"bacillota\"\n",
    "fasta_short_gg['Phylum']=fasta_short_gg['Phylum'].str.replace('Firmicutes', ' Bacillota')\n",
    "fasta_long_gg['Phylum']=fasta_long_gg['Phylum'].str.replace('Firmicutes', ' Bacillota')\n",
    "fasta_short_silva['Phylum']=fasta_short_silva['Phylum'].str.replace('Firmicutes', ' Bacillota')\n",
    "fasta_long_silva['Phylum']=fasta_long_silva['Phylum'].str.replace('Firmicutes', ' Bacillota')"
   ]
  },
  {
   "cell_type": "markdown",
   "metadata": {},
   "source": [
    "### Plot the classification levels without key\n",
    "Calculate the number of sequences classified at different taxonomic levels, regardless of whether or not the classification is correct."
   ]
  },
  {
   "cell_type": "code",
   "execution_count": 8,
   "metadata": {},
   "outputs": [],
   "source": [
    "def find_class_levels_nokey(dataframe):\n",
    "    '''Takes a dataframe and calculates the number of sequences that have been classified (not NA) to the different\n",
    "    taxonomical levels regardless of if the classification is correct or not.\n",
    "    Input: Dataframe with sequences (rows, R) and taxonomical classification at different levels (columns, C)\n",
    "    Output: Two dataframes containing:\n",
    "    (- N° sequences (in total) classified at each level (C*1))\n",
    "    - N° sequences that have each taxonomic level as their highest (1*C)'''\n",
    "\n",
    "    # Count the number of unassigned sequences\n",
    "    ua = dataframe.value_counts('Kingdom')['Unassigned']\n",
    "\n",
    "    # Count number of not-null cells at each taxonomic level (column)\n",
    "    # Substract the number of unassigned sequences from the total number at kingdom level\n",
    "    class_all_levels = dataframe.notnull().sum()\n",
    "    class_all_levels['Kingdom'] = class_all_levels['Kingdom'] - ua\n",
    "    class_highest_level = class_all_levels.copy(deep=True)\n",
    "\n",
    "    # Loop through the levels and calculate the number of sequences with each level as their highest classification\n",
    "    for level in range(len(class_all_levels)-1):\n",
    "        class_highest_level[level] -= class_all_levels[level+1]\n",
    "    class_all_levels = class_all_levels.to_frame()\n",
    "    class_all_levels = pd.concat([class_all_levels, pd.DataFrame([ua], index=['Unassigned'], columns=class_all_levels.columns)])\n",
    "\n",
    "    class_highest_level = pd.concat([class_highest_level, pd.DataFrame([ua], index=['Unassigned'], columns=class_all_levels.columns)])\n",
    "    class_highest_level = class_highest_level.transpose()\n",
    "\n",
    "    # return class_all_levels, class_highest_level\n",
    "    return class_highest_level"
   ]
  },
  {
   "cell_type": "markdown",
   "metadata": {},
   "source": [
    "#### V3-V4 vs V1-V9"
   ]
  },
  {
   "cell_type": "code",
   "execution_count": 9,
   "metadata": {},
   "outputs": [],
   "source": [
    "# Greengenes2\n",
    "fasta_short_gg_highest = find_class_levels_nokey(fasta_short_gg)\n",
    "fasta_long_gg_highest = find_class_levels_nokey(fasta_long_gg)\n",
    "all_gg_highest = pd.concat([fasta_short_gg_highest, fasta_long_gg_highest])\n",
    "all_gg_highest.index = samples\n",
    "\n",
    "all_gg_highest_ratio = all_gg_highest.copy(deep=True)\n",
    "for sample in range(len(samples)):\n",
    "    all_gg_highest_ratio.iloc[sample,:] /= all_gg_highest.iloc[sample,:].sum()\n",
    "all_gg_highest_ratio.columns = pd.CategoricalIndex(all_gg_highest_ratio.columns.values, ordered=True, categories=['Unassigned'] + taxonomic_levels)\n",
    "all_gg_highest_ratio = all_gg_highest_ratio.sort_index(axis=1)\n",
    "\n",
    "# SILVA\n",
    "fasta_short_silva_highest = find_class_levels_nokey(fasta_short_silva)\n",
    "fasta_long_silva_highest = find_class_levels_nokey(fasta_long_silva)\n",
    "all_silva_highest = pd.concat([fasta_short_silva_highest, fasta_long_silva_highest])\n",
    "all_silva_highest.index = samples\n",
    "\n",
    "all_silva_highest_ratio = all_silva_highest.copy(deep=True)\n",
    "for sample in range(len(samples)):\n",
    "    all_silva_highest_ratio.iloc[sample,:] /= all_silva_highest.iloc[sample,:].sum()\n",
    "all_silva_highest_ratio.columns = pd.CategoricalIndex(all_silva_highest_ratio.columns.values, ordered=True, categories=['Unassigned'] + taxonomic_levels)\n",
    "all_silva_highest_ratio = all_silva_highest_ratio.sort_index(axis=1)"
   ]
  },
  {
   "cell_type": "code",
   "execution_count": 10,
   "metadata": {},
   "outputs": [
    {
     "name": "stderr",
     "output_type": "stream",
     "text": [
      "/var/folders/8y/zlyjdkl554bfq25qgv0m1v5r0000gn/T/ipykernel_9766/522680024.py:4: UserWarning: FixedFormatter should only be used together with FixedLocator\n",
      "  ax[0].set_yticklabels(['0', '20', '40', '60', '80', '100'])\n",
      "/var/folders/8y/zlyjdkl554bfq25qgv0m1v5r0000gn/T/ipykernel_9766/522680024.py:9: UserWarning: FixedFormatter should only be used together with FixedLocator\n",
      "  ax[1].set_yticklabels(['0', '20', '40', '60', '80', '100'])\n"
     ]
    },
    {
     "data": {
      "image/png": "[encoded data removed]",
      "text/plain": [
       "<Figure size 432x288 with 2 Axes>"
      ]
     },
     "metadata": {
      "needs_background": "light"
     },
     "output_type": "display_data"
    }
   ],
   "source": [
    "# Plot the number of correct/incorrect classifications for each samples as a stacked barplot\n",
    "fig, ax = plt.subplots(1, 2)\n",
    "all_gg_highest_ratio.plot(kind='bar', color=color_levels_nokey, edgecolor='Black', stacked=True, ax=ax[0], legend=False)\n",
    "ax[0].set_yticklabels(['0', '20', '40', '60', '80', '100'])\n",
    "ax[0].set_title('Greengenes2')\n",
    "ax[0].set_ylabel('Percentage of sequences [%]')\n",
    "\n",
    "all_silva_highest_ratio.plot(kind='bar', color=color_levels_nokey, edgecolor='Black', stacked=True, ax=ax[1])\n",
    "ax[1].set_yticklabels(['0', '20', '40', '60', '80', '100'])\n",
    "ax[1].legend(bbox_to_anchor=(1.05, 1.0), loc='upper left')\n",
    "ax[1].set_title('SILVA')\n",
    "\n",
    "fig.suptitle('Lowest level of taxonomic classification')\n",
    "\n",
    "plt.show()"
   ]
  },
  {
   "cell_type": "markdown",
   "metadata": {},
   "source": [
    "#### Illumina Greengenes2 vs SILVA vs GTDB"
   ]
  },
  {
   "cell_type": "code",
   "execution_count": 17,
   "metadata": {},
   "outputs": [],
   "source": [
    "# Illumina gg/SILVA/GTDB\n",
    "illumina_gg_highest = find_class_levels_nokey(illumina_gg)\n",
    "illumina_silva_highest = find_class_levels_nokey(illumina_silva)\n",
    "illumina_GTDB_highest = find_class_levels_nokey(illumina_GTDB)\n",
    "\n",
    "all_illumina_highest = pd.concat([illumina_gg_highest, illumina_silva_highest, illumina_GTDB_highest])\n",
    "all_illumina_highest.index = samples_databases\n",
    "\n",
    "all_illumina_highest_ratio = all_illumina_highest.copy(deep=True)\n",
    "for sample in range(len(samples_databases)):\n",
    "    all_illumina_highest_ratio.iloc[sample,:] /= all_illumina_highest.iloc[sample,:].sum()\n",
    "all_illumina_highest_ratio.columns = pd.CategoricalIndex(all_illumina_highest_ratio.columns.values, ordered=True, categories=['Unassigned'] + taxonomic_levels)\n",
    "all_illumina_highest_ratio = all_illumina_highest_ratio.sort_index(axis=1)"
   ]
  },
  {
   "cell_type": "code",
   "execution_count": 18,
   "metadata": {},
   "outputs": [
    {
     "data": {
      "text/html": [
       "<div>\n",
       "<style scoped>\n",
       "    .dataframe tbody tr th:only-of-type {\n",
       "        vertical-align: middle;\n",
       "    }\n",
       "\n",
       "    .dataframe tbody tr th {\n",
       "        vertical-align: top;\n",
       "    }\n",
       "\n",
       "    .dataframe thead th {\n",
       "        text-align: right;\n",
       "    }\n",
       "</style>\n",
       "<table border=\"1\" class=\"dataframe\">\n",
       "  <thead>\n",
       "    <tr style=\"text-align: right;\">\n",
       "      <th></th>\n",
       "      <th>Unassigned</th>\n",
       "      <th>Kingdom</th>\n",
       "      <th>Phylum</th>\n",
       "      <th>Class</th>\n",
       "      <th>Order</th>\n",
       "      <th>Family</th>\n",
       "      <th>Genus</th>\n",
       "      <th>Species</th>\n",
       "    </tr>\n",
       "  </thead>\n",
       "  <tbody>\n",
       "    <tr>\n",
       "      <th>Greengenes2</th>\n",
       "      <td>0.200000</td>\n",
       "      <td>0.600000</td>\n",
       "      <td>0</td>\n",
       "      <td>0</td>\n",
       "      <td>0</td>\n",
       "      <td>0</td>\n",
       "      <td>0.111111</td>\n",
       "      <td>0.088889</td>\n",
       "    </tr>\n",
       "    <tr>\n",
       "      <th>SILVA</th>\n",
       "      <td>0.400000</td>\n",
       "      <td>0.044444</td>\n",
       "      <td>0</td>\n",
       "      <td>0</td>\n",
       "      <td>0</td>\n",
       "      <td>0</td>\n",
       "      <td>0.555556</td>\n",
       "      <td>0.000000</td>\n",
       "    </tr>\n",
       "    <tr>\n",
       "      <th>GTDB</th>\n",
       "      <td>0.222222</td>\n",
       "      <td>0.666667</td>\n",
       "      <td>0</td>\n",
       "      <td>0</td>\n",
       "      <td>0</td>\n",
       "      <td>0</td>\n",
       "      <td>0.066667</td>\n",
       "      <td>0.044444</td>\n",
       "    </tr>\n",
       "  </tbody>\n",
       "</table>\n",
       "</div>"
      ],
      "text/plain": [
       "             Unassigned   Kingdom  Phylum  Class  Order  Family     Genus  \\\n",
       "Greengenes2    0.200000  0.600000       0      0      0       0  0.111111   \n",
       "SILVA          0.400000  0.044444       0      0      0       0  0.555556   \n",
       "GTDB           0.222222  0.666667       0      0      0       0  0.066667   \n",
       "\n",
       "              Species  \n",
       "Greengenes2  0.088889  \n",
       "SILVA        0.000000  \n",
       "GTDB         0.044444  "
      ]
     },
     "execution_count": 18,
     "metadata": {},
     "output_type": "execute_result"
    }
   ],
   "source": [
    "all_illumina_highest_ratio"
   ]
  },
  {
   "cell_type": "code",
   "execution_count": 31,
   "metadata": {},
   "outputs": [
    {
     "name": "stderr",
     "output_type": "stream",
     "text": [
      "/var/folders/8y/zlyjdkl554bfq25qgv0m1v5r0000gn/T/ipykernel_9766/1711348333.py:4: UserWarning: FixedFormatter should only be used together with FixedLocator\n",
      "  ax.set_yticklabels(['0', '20', '40', '60', '80', '100'])\n"
     ]
    },
    {
     "data": {
      "image/png": "[encoded data removed]",
      "text/plain": [
       "<Figure size 432x288 with 1 Axes>"
      ]
     },
     "metadata": {
      "needs_background": "light"
     },
     "output_type": "display_data"
    }
   ],
   "source": [
    "# Plot the number of correct/incorrect classifications for each samples as a stacked barplot\n",
    "fig, ax = plt.subplots()\n",
    "all_illumina_highest_ratio.plot(kind='bar', color=color_levels_nokey, edgecolor='Black', stacked=True, ax=ax)\n",
    "ax.set_yticklabels(['0', '20', '40', '60', '80', '100'])\n",
    "ax.legend(bbox_to_anchor=(1.05, 1.0), loc='upper left')\n",
    "ax.set_ylabel('Percentage of sequences [%]')\n",
    "ax.set_title('Lowest level of taxonomic classification')\n",
    "plt.show()"
   ]
  },
  {
   "cell_type": "markdown",
   "metadata": {},
   "source": [
    "### Plot the classification levels with key\n",
    "Calculate the number of sequences correctly classified at different taxonomic levels, by comparing to a taxonomy key. The sequences must share ID to be compared."
   ]
  },
  {
   "cell_type": "code",
   "execution_count": 11,
   "metadata": {},
   "outputs": [],
   "source": [
    "# Find misclassified sequences\n",
    "def find_misclassified(dataframe, correct_classification, conversion_table):\n",
    "    '''Takes a dataframe and calculates the number of sequences that have been classified correctly (not NA)\n",
    "    to the different taxonomical levels by comparing each sequence to its corresponding sequence in the correct\n",
    "    classification. For incorrectly classified sequences, the program can also look in the conversion table to\n",
    "    see if it is due to heteronyms, and then label is at correct.\n",
    "    Input: \n",
    "    - Dataframe with sequences (rows, R) and taxonomical classification at different levels (columns, C)\n",
    "    - Correct classification: The expected taxonomy, in the same format as the input dataframe\n",
    "    - Conversion table: A dictionary with possible synonyms in the classification that still should be\n",
    "    considered correct\n",
    "    Output: A dataframe with an additional column 'Correct' describing if the classification is correct or not,\n",
    "    and at what taxonomic level'''\n",
    "\n",
    "    # Create a copy to not mess with the original datafiles\n",
    "    dataframe_genus_species = dataframe.applymap(lambda x: x.strip() if type(x)==str else x)\n",
    "    taxonomy_genus_species = correct_classification.applymap(lambda x: x.strip() if type(x)==str else x)\n",
    "\n",
    "    # Look through all sequences\n",
    "    for ID in dataframe.index:\n",
    "        # If the whole species name (genus + species) is the same as the taxonomy, the classification is correct at species level\n",
    "        if dataframe_genus_species.loc[ID,'Species'] == taxonomy_genus_species.loc[ID,'Species']:\n",
    "            if dataframe_genus_species.loc[ID,'Genus'] == taxonomy_genus_species.loc[ID,'Genus']:\n",
    "                correct = 'Species'\n",
    "        \n",
    "        # If not correct at species level, loop over all levels to find one at which the taxonomy is correct\n",
    "        # There there is no level that is correct, it is probably \"unassigned\"\n",
    "        # Check if the classification is wrong at the kingdom level\n",
    "        else:\n",
    "            for level in reversed(dataframe.columns[:-1]):\n",
    "                if dataframe_genus_species.loc[ID,level] == taxonomy_genus_species.loc[ID,level]:\n",
    "                    correct = level\n",
    "                    break\n",
    "                else:\n",
    "                    correct = 'Unassigned'\n",
    "        \n",
    "            if dataframe_genus_species.loc[ID, 'Kingdom'] == 'Archaea' or dataframe_genus_species.loc[ID, 'Kingdom'] == 'Eukaryota':\n",
    "                correct = 'Wrong kingdom'\n",
    "        \n",
    "        # If the classification isn't correct at a species level, investigate if this is because of heteronyms\n",
    "        if correct != 'Species':\n",
    "            if not pd.isna(dataframe_genus_species.loc[ID,'Species']):\n",
    "                name = dataframe_genus_species.loc[ID,'Genus'] + ' ' + dataframe_genus_species.loc[ID,'Species']\n",
    "                tax = taxonomy_genus_species.loc[ID,'Genus'] + ' ' + taxonomy_genus_species.loc[ID,'Species']\n",
    "\n",
    "                if name in conversion_table.keys():\n",
    "                    if tax in conversion_table[name]:\n",
    "                        correct = 'Species'\n",
    "\n",
    "        # Add a new column with the lowest taxonomic level at which the sequence was correctly classified\n",
    "        dataframe_genus_species.loc[ID, 'Correct'] = correct\n",
    "\n",
    "    return dataframe_genus_species"
   ]
  },
  {
   "cell_type": "code",
   "execution_count": 12,
   "metadata": {},
   "outputs": [],
   "source": [
    "def classification_stats(dataframe):\n",
    "    '''\n",
    "    Calculate the number of correctly classified sequences at different taxonomic levels\n",
    "    '''\n",
    "    correct_sequences = dataframe['Correct'].value_counts()\n",
    "    return pd.Series.to_frame(correct_sequences).transpose()"
   ]
  },
  {
   "cell_type": "markdown",
   "metadata": {},
   "source": [
    "#### V3-V4 vs V1-V9"
   ]
  },
  {
   "cell_type": "code",
   "execution_count": 13,
   "metadata": {},
   "outputs": [],
   "source": [
    "# Greengenes2\n",
    "fasta_short_gg_corrected = find_misclassified(fasta_short_gg, taxonomy, conversion_dict)\n",
    "fasta_long_gg_corrected = find_misclassified(fasta_long_gg, taxonomy, conversion_dict)\n",
    "fasta_short_gg_stats = classification_stats(fasta_short_gg_corrected)\n",
    "fasta_long_gg_stats = classification_stats(fasta_long_gg_corrected)\n",
    "\n",
    "all_gg_stats = pd.concat([fasta_short_gg_stats, fasta_long_gg_stats])\n",
    "all_gg_stats.index = samples\n",
    "\n",
    "all_gg_stats_ratio = all_gg_stats.copy(deep=True)\n",
    "for sample in range(len(samples)):\n",
    "    all_gg_stats_ratio.iloc[sample,:] /= all_gg_stats.iloc[sample,:].sum()\n",
    "all_gg_stats_ratio.columns = pd.CategoricalIndex(all_gg_stats_ratio.columns.values, ordered=True, categories=['Wrong kingdom'] + ['Unassigned'] + taxonomic_levels)\n",
    "all_gg_stats_ratio = all_gg_stats_ratio.sort_index(axis=1)\n",
    "\n",
    "# SILVA\n",
    "fasta_short_silva_corrected = find_misclassified(fasta_short_silva, taxonomy, conversion_dict)\n",
    "fasta_long_silva_corrected = find_misclassified(fasta_long_silva, taxonomy, conversion_dict)\n",
    "fasta_short_silva_stats = classification_stats(fasta_short_silva_corrected)\n",
    "fasta_long_silva_stats = classification_stats(fasta_long_silva_corrected)\n",
    "\n",
    "all_silva_stats = pd.concat([fasta_short_silva_stats, fasta_long_silva_stats])\n",
    "all_silva_stats.index = samples\n",
    "\n",
    "all_silva_stats_ratio = all_silva_stats.copy(deep=True)\n",
    "for sample in range(len(samples)):\n",
    "    all_silva_stats_ratio.iloc[sample,:] /= all_silva_stats.iloc[sample,:].sum()\n",
    "all_silva_stats_ratio.columns = pd.CategoricalIndex(all_silva_stats_ratio.columns.values, ordered=True, categories=['Wrong kingdom'] + ['Unassigned'] + taxonomic_levels)\n",
    "all_silva_stats_ratio = all_silva_stats_ratio.sort_index(axis=1)"
   ]
  },
  {
   "cell_type": "code",
   "execution_count": 16,
   "metadata": {},
   "outputs": [
    {
     "data": {
      "text/html": [
       "<div>\n",
       "<style scoped>\n",
       "    .dataframe tbody tr th:only-of-type {\n",
       "        vertical-align: middle;\n",
       "    }\n",
       "\n",
       "    .dataframe tbody tr th {\n",
       "        vertical-align: top;\n",
       "    }\n",
       "\n",
       "    .dataframe thead th {\n",
       "        text-align: right;\n",
       "    }\n",
       "</style>\n",
       "<table border=\"1\" class=\"dataframe\">\n",
       "  <thead>\n",
       "    <tr style=\"text-align: right;\">\n",
       "      <th></th>\n",
       "      <th>Wrong kingdom</th>\n",
       "      <th>Unassigned</th>\n",
       "      <th>Kingdom</th>\n",
       "      <th>Genus</th>\n",
       "    </tr>\n",
       "  </thead>\n",
       "  <tbody>\n",
       "    <tr>\n",
       "      <th>V3-V4</th>\n",
       "      <td>0.068182</td>\n",
       "      <td>0.068182</td>\n",
       "      <td>0.636364</td>\n",
       "      <td>0.227273</td>\n",
       "    </tr>\n",
       "    <tr>\n",
       "      <th>V1-V9</th>\n",
       "      <td>0.045455</td>\n",
       "      <td>0.068182</td>\n",
       "      <td>0.681818</td>\n",
       "      <td>0.204545</td>\n",
       "    </tr>\n",
       "  </tbody>\n",
       "</table>\n",
       "</div>"
      ],
      "text/plain": [
       "       Wrong kingdom  Unassigned   Kingdom     Genus\n",
       "V3-V4       0.068182    0.068182  0.636364  0.227273\n",
       "V1-V9       0.045455    0.068182  0.681818  0.204545"
      ]
     },
     "execution_count": 16,
     "metadata": {},
     "output_type": "execute_result"
    }
   ],
   "source": [
    "all_silva_stats_ratio"
   ]
  },
  {
   "cell_type": "code",
   "execution_count": 30,
   "metadata": {},
   "outputs": [
    {
     "name": "stderr",
     "output_type": "stream",
     "text": [
      "/var/folders/8y/zlyjdkl554bfq25qgv0m1v5r0000gn/T/ipykernel_8288/90661262.py:4: UserWarning: FixedFormatter should only be used together with FixedLocator\n",
      "  ax[0].set_yticklabels(['0', '20', '40', '60', '80', '100'])\n",
      "/var/folders/8y/zlyjdkl554bfq25qgv0m1v5r0000gn/T/ipykernel_8288/90661262.py:9: UserWarning: FixedFormatter should only be used together with FixedLocator\n",
      "  ax[1].set_yticklabels(['0', '20', '40', '60', '80', '100'])\n"
     ]
    },
    {
     "data": {
      "image/png": "[encoded data removed]",
      "text/plain": [
       "<Figure size 432x288 with 2 Axes>"
      ]
     },
     "metadata": {
      "needs_background": "light"
     },
     "output_type": "display_data"
    }
   ],
   "source": [
    "# Plot the number of correct/incorrect classifications for each samples as a stacked barplot\n",
    "fig, ax = plt.subplots(1, 2)\n",
    "all_gg_stats_ratio.plot(kind='bar', color=color_levels_key, edgecolor='Black', stacked=True, ax=ax[0], legend=False)\n",
    "ax[0].set_yticklabels(['0', '20', '40', '60', '80', '100'])\n",
    "ax[0].set_title('Greengenes2')\n",
    "ax[0].set_ylabel('Percentage of sequences [%]')\n",
    "\n",
    "all_silva_stats_ratio.plot(kind='bar', color=color_levels_key, edgecolor='Black', stacked=True, ax=ax[1])\n",
    "ax[1].set_yticklabels(['0', '20', '40', '60', '80', '100'])\n",
    "ax[1].legend(bbox_to_anchor=(1.05, 1.0), loc='upper left')\n",
    "ax[1].set_title('SILVA')\n",
    "\n",
    "fig.suptitle('Lowest level of correct taxonomic classification')\n",
    "\n",
    "plt.show()"
   ]
  },
  {
   "cell_type": "markdown",
   "metadata": {},
   "source": [
    "#### Illumina Greengenes2 vs SILVA vs GTDB"
   ]
  },
  {
   "cell_type": "code",
   "execution_count": 28,
   "metadata": {},
   "outputs": [],
   "source": [
    "# \n",
    "illumina_gg_correct = find_misclassified(illumina_gg, taxonomy, conversion_dict)\n",
    "illumina_silva = find_misclassified(illumina_silva, taxonomy, conversion_dict)\n",
    "illumina_GTDB = find_misclassified(illumina_GTDB, taxonomy, conversion_dict)\n",
    "\n",
    "illumina_gg_stats = classification_stats(illumina_gg_correct)\n",
    "illumina_silva_stats = classification_stats(illumina_silva)\n",
    "illumina_GTDB_stats = classification_stats(illumina_GTDB)\n",
    "\n",
    "all_databases_stats = pd.concat([illumina_gg_stats, illumina_silva_stats, illumina_GTDB_stats])\n",
    "all_databases_stats.index = samples_databases\n",
    "\n",
    "all_databases_stats_ratio = all_databases_stats.copy(deep=True)\n",
    "for sample in range(len(samples_databases)):\n",
    "    all_databases_stats_ratio.iloc[sample,:] /= all_databases_stats.iloc[sample,:].sum()\n",
    "all_databases_stats_ratio.columns = pd.CategoricalIndex(all_databases_stats_ratio.columns.values, ordered=True, categories=['Wrong kingdom'] + ['Unassigned'] + taxonomic_levels)\n",
    "all_databases_stats_ratio = all_databases_stats_ratio.sort_index(axis=1)"
   ]
  },
  {
   "cell_type": "code",
   "execution_count": 32,
   "metadata": {},
   "outputs": [
    {
     "name": "stderr",
     "output_type": "stream",
     "text": [
      "/var/folders/8y/zlyjdkl554bfq25qgv0m1v5r0000gn/T/ipykernel_9766/708430881.py:4: UserWarning: FixedFormatter should only be used together with FixedLocator\n",
      "  ax.set_yticklabels(['0', '20', '40', '60', '80', '100'])\n"
     ]
    },
    {
     "data": {
      "image/png": "[encoded data removed]",
      "text/plain": [
       "<Figure size 432x288 with 1 Axes>"
      ]
     },
     "metadata": {
      "needs_background": "light"
     },
     "output_type": "display_data"
    }
   ],
   "source": [
    "# Plot the number of correct/incorrect classifications for each samples as a stacked barplot\n",
    "fig, ax = plt.subplots()\n",
    "all_databases_stats_ratio.plot(kind='bar', color=color_levels_key, edgecolor='Black', stacked=True, ax=ax)\n",
    "ax.set_yticklabels(['0', '20', '40', '60', '80', '100'])\n",
    "ax.legend(bbox_to_anchor=(1.05, 1.0), loc='upper left')\n",
    "ax.set_ylabel('Percentage of sequences [%]')\n",
    "ax.set_title('Lowest level of correct taxonomic classification')\n",
    "plt.show()"
   ]
  }
 ],
 "metadata": {
  "kernelspec": {
   "display_name": "base",
   "language": "python",
   "name": "python3"
  },
  "language_info": {
   "codemirror_mode": {
    "name": "ipython",
    "version": 3
   },
   "file_extension": ".py",
   "mimetype": "text/x-python",
   "name": "python",
   "nbconvert_exporter": "python",
   "pygments_lexer": "ipython3",
   "version": "3.8.8"
  }
 },
 "nbformat": 4,
 "nbformat_minor": 2
}

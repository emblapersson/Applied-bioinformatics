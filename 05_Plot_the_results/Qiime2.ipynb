{
 "cells": [
  {
   "cell_type": "markdown",
   "metadata": {},
   "source": [
    "# Omvandla en metadatafil från Qiime2 till nåt läsbart"
   ]
  },
  {
   "cell_type": "code",
   "execution_count": 1,
   "metadata": {},
   "outputs": [],
   "source": [
    "# Importera pandas och filen med metadata\n",
    "import pandas as pd\n",
    "\n",
    "metadata_reads = pd.read_csv('metadata.tsv', sep='\\t', index_col='Feature ID', skiprows = [1])"
   ]
  },
  {
   "cell_type": "code",
   "execution_count": 2,
   "metadata": {},
   "outputs": [],
   "source": [
    "# Gör en kopia för att inte sabba orginaldatan\n",
    "dataset = metadata_reads.copy(deep=True)\n",
    "\n",
    "# Dela upp kolumnen \"Taxon i de olika taxonomiska nivåerna som använts\n",
    "# Radera den ursprungliga kolumnen\n",
    "taxonomic_levels = ['Kingdom', 'Phylum', 'Class', 'Order', 'Family', 'Genus', 'Species']\n",
    "dataset[taxonomic_levels] = metadata_reads['Taxon'].str.split(';', expand=True)\n",
    "dataset.drop('Taxon', axis=1, inplace=True)"
   ]
  },
  {
   "cell_type": "code",
   "execution_count": 3,
   "metadata": {},
   "outputs": [],
   "source": [
    "# Ta bort de taxonomiska nivåerna i namnen, ex k__Bacteria --> Bacteria\n",
    "# Använd reguljäruttryck\n",
    "\n",
    "import regex as re\n",
    "def rename(name):\n",
    "    if name:\n",
    "        return re.sub('.{1}__', '', name)\n",
    "\n",
    "for row in range(len(dataset)):\n",
    "    for column in range(len(taxonomic_levels)):\n",
    "        name = dataset.iloc[row, 1+column]\n",
    "        dataset.iloc[row, 1+column] = rename(name)\n",
    "    dataset.iloc[row, :].str.strip()"
   ]
  },
  {
   "cell_type": "markdown",
   "metadata": {},
   "source": [
    "## Testa så att det funkar med plotkoden"
   ]
  },
  {
   "cell_type": "code",
   "execution_count": 4,
   "metadata": {},
   "outputs": [],
   "source": [
    "def find_nulls(dataframe):\n",
    "    '''Tar en dataframe och beräknar antalet sekvenser (rader, S) som klassifierats på olika nivåer (kolumner, L),\n",
    "    Input: En dataframe (S*L) med sekvenser som rader, och taxonomisk tillhörighet på olika nivåer som kolumner,\n",
    "    Output: Två nya dataframes som innehåller:,\n",
    "    - Antalet sekvenser som klassifierats på respektive taxonomisk nivå (L*1),\n",
    "    - Antalet sekvenser som har respektive taxonomisk nivå som sin högsta (ex bara klassifierats till family level) (1*L)'''\n",
    "\n",
    "    class_all_levels = dataframe.notnull().sum()\n",
    "    class_highest_level = class_all_levels.copy(deep=True)\n",
    "    for level in range(len(class_all_levels)-1):\n",
    "        class_highest_level[level] -= class_all_levels[level+1]\n",
    "    class_all_levels = class_all_levels.to_frame()\n",
    "    class_highest_level = class_highest_level.to_frame().transpose()\n",
    "    \n",
    "    return class_all_levels, class_highest_level"
   ]
  },
  {
   "cell_type": "code",
   "execution_count": 5,
   "metadata": {},
   "outputs": [],
   "source": [
    "class_all_levels, class_highest_level = find_nulls(dataset.iloc[:, 1:])"
   ]
  },
  {
   "cell_type": "code",
   "execution_count": 6,
   "metadata": {},
   "outputs": [
    {
     "data": {
      "image/png": "[encoded data removed]",
      "text/plain": [
       "<Figure size 432x288 with 1 Axes>"
      ]
     },
     "metadata": {
      "needs_background": "light"
     },
     "output_type": "display_data"
    }
   ],
   "source": [
    "import matplotlib.pyplot as plt\n",
    "\n",
    "fig, ax = plt.subplots()\n",
    "class_highest_level.plot(kind='bar', stacked=True, title='Proportion of sequences with different levels of classification', \n",
    "                        ylabel='Percentage of sequences [%]', ax=ax)\n",
    "# ax.set_yticklabels(['0', '20', '40', '60', '80', '100'])\n",
    "ax.legend(bbox_to_anchor=(1.05, 1.0), loc='upper left')\n",
    "plt.show()"
   ]
  }
 ],
 "metadata": {
  "kernelspec": {
   "display_name": "base",
   "language": "python",
   "name": "python3"
  },
  "language_info": {
   "codemirror_mode": {
    "name": "ipython",
    "version": 3
   },
   "file_extension": ".py",
   "mimetype": "text/x-python",
   "name": "python",
   "nbconvert_exporter": "python",
   "pygments_lexer": "ipython3",
   "version": "3.8.8"
  }
 },
 "nbformat": 4,
 "nbformat_minor": 2
}

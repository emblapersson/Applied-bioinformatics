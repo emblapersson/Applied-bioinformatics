{
 "cells": [
  {
   "cell_type": "markdown",
   "metadata": {},
   "source": [
    "## Plot and analyze taxonomic classification\n",
    "Code to plot and analyze the taxonomic classification made by Qiime2. The input data must be in the format of:\n",
    "- Rows: Each row is one sequence, with an ID column\n",
    "- Columns: Each column is the taxonomic classification at one level. Might have one level for the classification confidence as well. "
   ]
  },
  {
   "cell_type": "code",
   "execution_count": 84,
   "metadata": {},
   "outputs": [],
   "source": [
    "# TO BE SPECIFIEC\n",
    "# Samples analyzed\n",
    "samples_regions = ['V3-V4', 'V1-V9']\n",
    "samples_databases = ['Greengenes2', 'SILVA', 'GTDB']\n",
    "samples_methods = ['Illumina', 'PacBio HiFi']\n",
    "\n",
    "# True taxonomy and conversion table with species names that might have synonyms\n",
    "taxonomy_key = '/Users/claranordquist/Documents/Universitetet/HT24/Tillämpad_bioinformatik/Applied-bioinformatics/01_Collect_sequences/02_Sequences/Downloaded_5dec/Taxonomy_species_genus_corrected.csv'\n",
    "conversion_table = '/Users/claranordquist/Documents/Universitetet/HT24/Tillämpad_bioinformatik/Applied-bioinformatics/05_Plot_the_results/01_Data/Species_conversion.txt'\n",
    "\n",
    "# The input classifications\n",
    "# 1) Unsimulated reads\n",
    "input_V3V4_gg = '/Users/claranordquist/Documents/Universitetet/HT24/Tillämpad_bioinformatik/Applied-bioinformatics/05_Plot_the_results/01_Data/01_Unsimulated_reads/V3V4/Full_length_classifier/Greengenes2/V3V4_gg_long_class_fixed.csv'\n",
    "input_V3V4_silva = '/Users/claranordquist/Documents/Universitetet/HT24/Tillämpad_bioinformatik/Applied-bioinformatics/05_Plot_the_results/01_Data/01_Unsimulated_reads/V3V4/Full_length_classifier/SILVA/V3V4_silva_long_class_fixed.csv'\n",
    "input_V3V4_gg_short_class = '/Users/claranordquist/Documents/Universitetet/HT24/Tillämpad_bioinformatik/Applied-bioinformatics/05_Plot_the_results/01_Data/01_Unsimulated_reads/V3V4/Short_classifier/V3V4_gg_short_class_fixed.csv'\n",
    "input_V1V9_gg = '/Users/claranordquist/Documents/Universitetet/HT24/Tillämpad_bioinformatik/Applied-bioinformatics/05_Plot_the_results/01_Data/01_Unsimulated_reads/V1V9/Greengenes2/V1V9_gg_fixed.csv'\n",
    "input_V1V9_silva = '/Users/claranordquist/Documents/Universitetet/HT24/Tillämpad_bioinformatik/Applied-bioinformatics/05_Plot_the_results/01_Data/01_Unsimulated_reads/V1V9/SILVA/V1V9_silva_fixed.csv'\n",
    "\n",
    "# 2) Simulated reads\n",
    "input_illumina_gg = '/Users/claranordquist/Documents/Universitetet/HT24/Tillämpad_bioinformatik/Applied-bioinformatics/05_Plot_the_results/01_Data/02_Simulated_reads/Illumina/Greengenes2/illumina_gg_names_fixed.csv'\n",
    "input_illumina_silva = '/Users/claranordquist/Documents/Universitetet/HT24/Tillämpad_bioinformatik/Applied-bioinformatics/05_Plot_the_results/01_Data/02_Simulated_reads/Illumina/SILVA/illumina_silva_names_fixed.csv'\n",
    "input_illumina_gtdb = '/Users/claranordquist/Documents/Universitetet/HT24/Tillämpad_bioinformatik/Applied-bioinformatics/05_Plot_the_results/01_Data/02_Simulated_reads/Illumina/GTDB/illumina_gtdb_names_fixed.csv'\n",
    "input_pacbio_gg = '/Users/claranordquist/Documents/Universitetet/HT24/Tillämpad_bioinformatik/Applied-bioinformatics/05_Plot_the_results/01_Data/02_Simulated_reads/Pacbio/Greengenes2/pacbio_gg_names_fixed.csv'\n",
    "input_illumina_gg_10 = '/Users/claranordquist/Documents/Universitetet/HT24/Tillämpad_bioinformatik/Applied-bioinformatics/05_Plot_the_results/01_Data/02_Simulated_reads/Illumina/Confidence_levels/Illumina_gg_10_names_fixed.csv'\n",
    "input_illumina_gg_30 = '/Users/claranordquist/Documents/Universitetet/HT24/Tillämpad_bioinformatik/Applied-bioinformatics/05_Plot_the_results/01_Data/02_Simulated_reads/Illumina/Confidence_levels/Illumina_gg_30_names_fixed.csv'\n",
    "input_illumina_gg_50 = '/Users/claranordquist/Documents/Universitetet/HT24/Tillämpad_bioinformatik/Applied-bioinformatics/05_Plot_the_results/01_Data/02_Simulated_reads/Illumina/Confidence_levels/Illumina_gg_50_names_fixed.csv'\n",
    "input_illumina_gg_70 = '/Users/claranordquist/Documents/Universitetet/HT24/Tillämpad_bioinformatik/Applied-bioinformatics/05_Plot_the_results/01_Data/02_Simulated_reads/Illumina/Confidence_levels/Illumina_gg_70_names_fixed.csv'\n",
    "input_illumina_gg_80 = '/Users/claranordquist/Documents/Universitetet/HT24/Tillämpad_bioinformatik/Applied-bioinformatics/05_Plot_the_results/01_Data/02_Simulated_reads/Illumina/Confidence_levels/Illumina_gg_80_names_fixed.csv'"
   ]
  },
  {
   "cell_type": "markdown",
   "metadata": {},
   "source": [
    "### 1. Set up the program"
   ]
  },
  {
   "cell_type": "code",
   "execution_count": 85,
   "metadata": {},
   "outputs": [],
   "source": [
    "# Import packages\n",
    "import pandas as pd\n",
    "import matplotlib.pyplot as plt"
   ]
  },
  {
   "cell_type": "markdown",
   "metadata": {},
   "source": [
    "#### 1.1 Define the plot colors and read the taxonomy key"
   ]
  },
  {
   "cell_type": "code",
   "execution_count": 86,
   "metadata": {},
   "outputs": [],
   "source": [
    "# Define the color map for plotting\n",
    "taxonomic_levels = ['Kingdom', 'Phylum', 'Class', 'Order', 'Family', 'Genus', 'Species']\n",
    "\n",
    "n = len(taxonomic_levels)\n",
    "\n",
    "# Create the color maps\n",
    "# For plotting without and with the taxonomic key\n",
    "cmap_nokey = plt.cm.get_cmap('Blues', n+1)\n",
    "cmap_key = plt.cm.get_cmap('Greens', n+1)\n",
    "\n",
    "color_levels_nokey = {}\n",
    "color_levels_key = {}\n",
    "for i in range(1, n+1):\n",
    "    color_levels_nokey[taxonomic_levels[i-1]] = cmap_nokey(i)\n",
    "    color_levels_key[taxonomic_levels[i-1]] = cmap_key(i)\n",
    "\n",
    "color_levels_nokey['Unassigned'] = 'orange'\n",
    "color_levels_key['Unassigned'] = 'orange'\n",
    "color_levels_key['Wrong kingdom'] = 'crimson'"
   ]
  },
  {
   "cell_type": "code",
   "execution_count": 87,
   "metadata": {},
   "outputs": [],
   "source": [
    "# Read the data\n",
    "# The correct taxonomy and the conversion table\n",
    "taxonomy = pd.read_csv(taxonomy_key, index_col='Feature ID')\n",
    "conversion = pd.read_csv(conversion_table)\n",
    "\n",
    "# Create a conversion dictionary for species with multiple names\n",
    "conversion.columns = ['Species', 'Synonyms']\n",
    "conversion_dict = {}\n",
    "for ID in conversion.index:\n",
    "    if conversion.loc[ID, 'Species'] not in conversion_dict.keys():\n",
    "        conversion_dict[conversion.loc[ID, 'Species']] = [conversion.loc[ID, 'Synonyms']]\n",
    "    else:\n",
    "        conversion_dict[conversion.loc[ID, 'Species']].append(conversion.loc[ID, 'Synonyms'])"
   ]
  },
  {
   "cell_type": "markdown",
   "metadata": {},
   "source": [
    "#### 1.2 Define the necessary functions"
   ]
  },
  {
   "cell_type": "markdown",
   "metadata": {},
   "source": [
    "##### To plot without taxonomy key"
   ]
  },
  {
   "cell_type": "code",
   "execution_count": 88,
   "metadata": {},
   "outputs": [],
   "source": [
    "def find_class_levels_nokey(dataframe):\n",
    "    '''Takes a dataframe and calculates the number of sequences that have been classified (not NA) to the different\n",
    "    taxonomical levels regardless of if the classification is correct or not.\n",
    "    Input: Dataframe with sequences (rows, R) and taxonomical classification at different levels (columns, C)\n",
    "    Output: A dataframe containing:\n",
    "    - N° sequences that have each taxonomic level as their highest (1*C)'''\n",
    "\n",
    "    # Count the number of unassigned sequences\n",
    "    ua = dataframe.value_counts('Kingdom')['Unassigned']\n",
    "\n",
    "    # Count number of not-null cells at each taxonomic level (column)\n",
    "    # Substract the number of unassigned sequences from the total number at kingdom level\n",
    "    class_all_levels = dataframe.notnull().sum()\n",
    "    class_all_levels['Kingdom'] = class_all_levels['Kingdom'] - ua\n",
    "    class_highest_level = class_all_levels.copy(deep=True)\n",
    "\n",
    "    # Loop through the levels and calculate the number of sequences with each level as their highest classification\n",
    "    for level in range(len(class_all_levels)-1):\n",
    "        class_highest_level[level] -= class_all_levels[level+1]\n",
    "    class_all_levels = class_all_levels.to_frame()\n",
    "    class_all_levels = pd.concat([class_all_levels, pd.DataFrame([ua], index=['Unassigned'], columns=class_all_levels.columns)])\n",
    "\n",
    "    class_highest_level = pd.concat([class_highest_level, pd.DataFrame([ua], index=['Unassigned'], columns=class_all_levels.columns)])\n",
    "    class_highest_level = class_highest_level.transpose()\n",
    "\n",
    "    return class_highest_level"
   ]
  },
  {
   "cell_type": "code",
   "execution_count": 89,
   "metadata": {},
   "outputs": [],
   "source": [
    "def highest_classification(samples, names):\n",
    "    '''Calculate statistics from classifications, without a taxonomy key.\n",
    "    Input:\n",
    "    - Samples: List of classifications\n",
    "    - Names: List of the samples' names\n",
    "    Output: Two dataframes with\n",
    "    - The number of sequences which has each level as their highest taxonomic classification\n",
    "    - The ratio of sequences which has each level as their highest taxonomic classification'''\n",
    "    \n",
    "    # Find the number of sequences\n",
    "    all_highest_class = pd.concat([find_class_levels_nokey(sample) for sample in samples])\n",
    "    all_highest_class.index = names\n",
    "\n",
    "    all_highest_class_ratio = all_highest_class.copy(deep=True)\n",
    "\n",
    "    # Calculate the ratios\n",
    "    for name in range(len(names)):\n",
    "        all_highest_class_ratio.iloc[name,:] /= all_highest_class.iloc[name,:].sum()\n",
    "    all_highest_class_ratio.columns = pd.CategoricalIndex(all_highest_class_ratio.columns.values, ordered=True, categories=['Unassigned'] + [level for level in samples[0].columns])\n",
    "    all_highest_class_ratio = all_highest_class_ratio.sort_index(axis=1)\n",
    "\n",
    "    return all_highest_class, all_highest_class_ratio"
   ]
  },
  {
   "cell_type": "markdown",
   "metadata": {},
   "source": [
    "##### To plot with taxonomy key"
   ]
  },
  {
   "cell_type": "code",
   "execution_count": 90,
   "metadata": {},
   "outputs": [],
   "source": [
    "# Find misclassified sequences\n",
    "def find_misclassified(dataframe, correct_classification, conversion_table):\n",
    "    '''Takes a dataframe and calculates the number of sequences that have been classified correctly (not NA)\n",
    "    to the different taxonomical levels by comparing each sequence to its corresponding sequence in the correct\n",
    "    classification. For incorrectly classified sequences, the program can also look in the conversion table to\n",
    "    see if it is due to heteronyms, and then label is at correct.\n",
    "    Input: \n",
    "    - Dataframe with sequences (rows, R) and taxonomical classification at different levels (columns, C)\n",
    "    - Correct classification: The expected taxonomy, in the same format as the input dataframe\n",
    "    - Conversion table: A dictionary with possible synonyms in the classification that still should be\n",
    "    considered correct\n",
    "    Output: A dataframe with the number of correctly classified sequences at each taxonomic level'''\n",
    "\n",
    "    # Create a copy to not mess with the original datafiles\n",
    "    dataframe_genus_species = dataframe.applymap(lambda x: x.strip() if type(x)==str else x)\n",
    "    taxonomy_genus_species = correct_classification.applymap(lambda x: x.strip() if type(x)==str else x)\n",
    "    taxonomy_genus_species['Species'].fillna('', inplace=True)\n",
    "    \n",
    "    # Look through all sequences\n",
    "    for ID in dataframe.index:\n",
    "        # If the whole species name (genus + species) is the same as the taxonomy, the classification is correct at species level\n",
    "        if dataframe_genus_species.loc[ID,'Species'] == taxonomy_genus_species.loc[ID,'Species']:\n",
    "            if dataframe_genus_species.loc[ID,'Genus'] == taxonomy_genus_species.loc[ID,'Genus']:\n",
    "                correct = 'Species'\n",
    "        \n",
    "        # If not correct at species level, loop over all levels to find one at which the taxonomy is correct\n",
    "        # There there is no level that is correct, it is probably \"unassigned\"\n",
    "        # Check if the classification is wrong at the kingdom level\n",
    "        else:\n",
    "            for level in reversed(dataframe.columns[:-1]):\n",
    "                if dataframe_genus_species.loc[ID,level] == taxonomy_genus_species.loc[ID,level]:\n",
    "                    correct = level\n",
    "                    break\n",
    "                else:\n",
    "                    correct = 'Unassigned'\n",
    "        \n",
    "            if dataframe_genus_species.loc[ID, 'Kingdom'] == 'Archaea' or dataframe_genus_species.loc[ID, 'Kingdom'] == 'Eukaryota':\n",
    "                correct = 'Wrong kingdom'\n",
    "        \n",
    "        # If the classification isn't correct at a species level, investigate if this is because of heteronyms\n",
    "        if correct != 'Species':\n",
    "            if not pd.isna(dataframe_genus_species.loc[ID,'Species']):\n",
    "                name = dataframe_genus_species.loc[ID,'Genus'] + ' ' + dataframe_genus_species.loc[ID,'Species']\n",
    "                tax = taxonomy_genus_species.loc[ID,'Genus'] + ' ' + taxonomy_genus_species.loc[ID,'Species']\n",
    "\n",
    "                if name in conversion_table.keys():\n",
    "                    if tax in conversion_table[name]:\n",
    "                        correct = 'Species'\n",
    "\n",
    "        # Add a new column with the lowest taxonomic level at which the sequence was correctly classified\n",
    "        # This dataframe can be returned if you want to see which sequence is correct or not\n",
    "        dataframe_genus_species.loc[ID, 'Correct'] = correct\n",
    "\n",
    "    # Calculate the number of correct classifications at each level\n",
    "    correct_sequences = dataframe_genus_species['Correct'].value_counts()\n",
    "    return pd.Series.to_frame(correct_sequences).transpose()"
   ]
  },
  {
   "cell_type": "code",
   "execution_count": 91,
   "metadata": {},
   "outputs": [],
   "source": [
    "def highest_classification_with_key(samples, names, taxonomy, conversion_dict):\n",
    "    '''Calculate statistics from classifications, with a taxonomy key.\n",
    "    Input:\n",
    "    - Samples: List of classifications\n",
    "    - Names: List of the samples' names\n",
    "    - Taxonomy: Taxonomy key\n",
    "    - Conversion table: Table with synonym names for species\n",
    "    Output: Two dataframes with\n",
    "    - The number of sequences which has each level as their highest correct taxonomic classification\n",
    "    - The ratio of sequences which has each level as their highest correct taxonomic classification'''\n",
    "    \n",
    "    # Calculate the number of sequences\n",
    "    all_correct_class = pd.concat([find_misclassified(sample, taxonomy, conversion_dict) for sample in samples])\n",
    "    all_correct_class.index = names\n",
    "\n",
    "    all_correct_class_ratio = all_correct_class.copy(deep=True)\n",
    "\n",
    "    # Calculate the ratios\n",
    "    for name in range(len(names)):\n",
    "        all_correct_class_ratio.iloc[name,:] /= all_correct_class.iloc[name,:].sum()\n",
    "    all_correct_class_ratio.columns = pd.CategoricalIndex(all_correct_class_ratio.columns.values, ordered=True, categories=['Wrong kingdom'] + ['Unassigned'] + [level for level in samples[0].columns])\n",
    "    all_correct_class_ratio = all_correct_class_ratio.sort_index(axis=1)\n",
    "\n",
    "    return all_correct_class, all_correct_class_ratio"
   ]
  },
  {
   "cell_type": "markdown",
   "metadata": {},
   "source": [
    "#### 1.3 Read the input data"
   ]
  },
  {
   "cell_type": "code",
   "execution_count": 92,
   "metadata": {},
   "outputs": [],
   "source": [
    "# 1) Unsimulated reads\n",
    "V3V4_gg = pd.read_csv(input_V3V4_gg, index_col='Feature ID')\n",
    "V3V4_silva = pd.read_csv(input_V3V4_silva, index_col='Feature ID')\n",
    "V3V4_gg_short_class = pd.read_csv(input_V3V4_gg_short_class, index_col='Feature ID')\n",
    "V1V9_gg = pd.read_csv(input_V1V9_gg, index_col='Feature ID')\n",
    "V1V9_silva = pd.read_csv(input_V1V9_silva, index_col='Feature ID')"
   ]
  },
  {
   "cell_type": "code",
   "execution_count": 93,
   "metadata": {},
   "outputs": [],
   "source": [
    "# 2) Simulated reads\n",
    "illumina_gg = pd.read_csv(input_illumina_gg, index_col='index')\n",
    "illumina_silva = pd.read_csv(input_illumina_silva, index_col='index')\n",
    "illumina_gtdb = pd.read_csv(input_illumina_gtdb, index_col='index')\n",
    "pacbio_gg = pd.read_csv(input_pacbio_gg, index_col='index')\n",
    "illumina_gg_10 = pd.read_csv(input_illumina_gg_10, index_col='index')\n",
    "illumina_gg_30 = pd.read_csv(input_illumina_gg_30, index_col='index')\n",
    "illumina_gg_50 = pd.read_csv(input_illumina_gg_50, index_col='index')\n",
    "illumina_gg_70 = pd.read_csv(input_illumina_gg_70, index_col='index')\n",
    "illumina_gg_80 = pd.read_csv(input_illumina_gg_80, index_col='index')"
   ]
  },
  {
   "cell_type": "markdown",
   "metadata": {},
   "source": [
    "#### 1.4 Filter the data"
   ]
  },
  {
   "cell_type": "code",
   "execution_count": 94,
   "metadata": {},
   "outputs": [],
   "source": [
    "# For the datasets with a confidence level, if it isn't used to filter the dataset\n",
    "# Drop confidence levels\n",
    "V3V4_gg.drop('Confidence', axis=1, inplace=True)\n",
    "V3V4_silva.drop('Confidence', axis=1, inplace=True)\n",
    "V3V4_gg_short_class.drop('Confidence', axis=1, inplace=True)\n",
    "V1V9_gg.drop('Confidence', axis=1, inplace=True)\n",
    "V1V9_silva.drop('Confidence', axis=1, inplace=True)"
   ]
  },
  {
   "cell_type": "code",
   "execution_count": 95,
   "metadata": {},
   "outputs": [],
   "source": [
    "# Make replacements of known synonyms at other levels than species\n",
    "# Replace \"firmicutes\" med \"bacillota\"\n",
    "V3V4_gg['Phylum'] = V3V4_gg['Phylum'].str.replace('Firmicutes', ' Bacillota')\n",
    "V3V4_silva['Phylum'] = V3V4_silva['Phylum'].str.replace('Firmicutes', ' Bacillota')\n",
    "V3V4_gg_short_class['Phylum'] = V3V4_gg_short_class['Phylum'].str.replace('Firmicutes', ' Bacillota')\n",
    "V1V9_gg['Phylum'] = V1V9_gg['Phylum'].str.replace('Firmicutes', ' Bacillota')\n",
    "V1V9_silva['Phylum'] = V1V9_silva['Phylum'].str.replace('Firmicutes', ' Bacillota')"
   ]
  },
  {
   "cell_type": "markdown",
   "metadata": {},
   "source": [
    "### 2. Plot the data"
   ]
  },
  {
   "cell_type": "markdown",
   "metadata": {},
   "source": [
    "#### 2.1 Unsimulated reads"
   ]
  },
  {
   "cell_type": "markdown",
   "metadata": {},
   "source": [
    "##### 2.1.1 Full-length classifier, Greengenes2 vs SILVA (V3V4, V1V9)"
   ]
  },
  {
   "cell_type": "code",
   "execution_count": 96,
   "metadata": {},
   "outputs": [],
   "source": [
    "# Without key\n",
    "# Greengenes2\n",
    "all_gg_highest_class, all_gg_highest_class_ratio = highest_classification([V3V4_gg, V1V9_gg], names=['V3-V4', 'V1-V9'])\n",
    "# SILVA\n",
    "all_silva_highest_class, all_silva_highest_class_ratio = highest_classification([V3V4_silva, V1V9_silva], names=['V3-V4', 'V1-V9'])\n",
    "\n",
    "# With key\n",
    "# Greengenes2\n",
    "all_gg_correct_class, all_gg_correct_class_ratio = highest_classification_with_key([V3V4_gg, V1V9_gg], names=['V3-V4', 'V1-V9'], taxonomy=taxonomy, conversion_dict=conversion_dict)\n",
    "# SILVA\n",
    "all_silva_correct_class, all_silva_correct_class_ratio = highest_classification_with_key([V3V4_silva, V1V9_silva], names=['V3-V4', 'V1-V9'], taxonomy=taxonomy, conversion_dict=conversion_dict)"
   ]
  },
  {
   "cell_type": "code",
   "execution_count": 97,
   "metadata": {},
   "outputs": [
    {
     "name": "stderr",
     "output_type": "stream",
     "text": [
      "/var/folders/8y/zlyjdkl554bfq25qgv0m1v5r0000gn/T/ipykernel_1431/1781079318.py:4: UserWarning: FixedFormatter should only be used together with FixedLocator\n",
      "  ax[0].set_yticklabels(['0', '20', '40', '60', '80', '100'])\n",
      "/var/folders/8y/zlyjdkl554bfq25qgv0m1v5r0000gn/T/ipykernel_1431/1781079318.py:9: UserWarning: FixedFormatter should only be used together with FixedLocator\n",
      "  ax[1].set_yticklabels(['0', '20', '40', '60', '80', '100'])\n"
     ]
    },
    {
     "data": {
      "image/png": "[encoded data removed]",
      "text/plain": [
       "<Figure size 432x288 with 2 Axes>"
      ]
     },
     "metadata": {
      "needs_background": "light"
     },
     "output_type": "display_data"
    }
   ],
   "source": [
    "# Plot the ratio of sequences classified at each taxonomic level\n",
    "fig, ax = plt.subplots(1, 2)\n",
    "all_gg_highest_class_ratio.plot(kind='bar', color=color_levels_nokey, edgecolor='Black', stacked=True, ax=ax[0], legend=False)\n",
    "ax[0].set_yticklabels(['0', '20', '40', '60', '80', '100'])\n",
    "ax[0].set_title('Greengenes2')\n",
    "ax[0].set_ylabel('Percentage of sequences [%]')\n",
    "\n",
    "all_silva_highest_class_ratio.plot(kind='bar', color=color_levels_nokey, edgecolor='Black', stacked=True, ax=ax[1])\n",
    "ax[1].set_yticklabels(['0', '20', '40', '60', '80', '100'])\n",
    "ax[1].legend(bbox_to_anchor=(1.05, 1.0), loc='upper left')\n",
    "ax[1].set_title('SILVA')\n",
    "\n",
    "fig.suptitle('Different databases')\n",
    "\n",
    "plt.show()\n",
    "\n",
    "fig.savefig('/Users/claranordquist/Documents/Universitetet/HT24/Tillämpad_bioinformatik/Applied-bioinformatics/05_Plot_the_results/02_Plots/01_Unsimulated_reads/Different_databases_without_key.png', bbox_inches='tight')"
   ]
  },
  {
   "cell_type": "code",
   "execution_count": 130,
   "metadata": {},
   "outputs": [
    {
     "data": {
      "text/html": [
       "<div>\n",
       "<style scoped>\n",
       "    .dataframe tbody tr th:only-of-type {\n",
       "        vertical-align: middle;\n",
       "    }\n",
       "\n",
       "    .dataframe tbody tr th {\n",
       "        vertical-align: top;\n",
       "    }\n",
       "\n",
       "    .dataframe thead th {\n",
       "        text-align: right;\n",
       "    }\n",
       "</style>\n",
       "<table border=\"1\" class=\"dataframe\">\n",
       "  <thead>\n",
       "    <tr style=\"text-align: right;\">\n",
       "      <th></th>\n",
       "      <th>Unassigned</th>\n",
       "      <th>Kingdom</th>\n",
       "      <th>Phylum</th>\n",
       "      <th>Class</th>\n",
       "      <th>Family</th>\n",
       "      <th>Genus</th>\n",
       "      <th>Species</th>\n",
       "    </tr>\n",
       "  </thead>\n",
       "  <tbody>\n",
       "    <tr>\n",
       "      <th>V3-V4</th>\n",
       "      <td>0.111111</td>\n",
       "      <td>0.622222</td>\n",
       "      <td>0.022222</td>\n",
       "      <td>NaN</td>\n",
       "      <td>0.022222</td>\n",
       "      <td>0.111111</td>\n",
       "      <td>0.111111</td>\n",
       "    </tr>\n",
       "    <tr>\n",
       "      <th>V1-V9</th>\n",
       "      <td>0.136364</td>\n",
       "      <td>0.522727</td>\n",
       "      <td>0.090909</td>\n",
       "      <td>0.022727</td>\n",
       "      <td>NaN</td>\n",
       "      <td>0.045455</td>\n",
       "      <td>0.181818</td>\n",
       "    </tr>\n",
       "  </tbody>\n",
       "</table>\n",
       "</div>"
      ],
      "text/plain": [
       "       Unassigned   Kingdom    Phylum     Class    Family     Genus   Species\n",
       "V3-V4    0.111111  0.622222  0.022222       NaN  0.022222  0.111111  0.111111\n",
       "V1-V9    0.136364  0.522727  0.090909  0.022727       NaN  0.045455  0.181818"
      ]
     },
     "execution_count": 130,
     "metadata": {},
     "output_type": "execute_result"
    }
   ],
   "source": [
    "all_gg_correct_class_ratio"
   ]
  },
  {
   "cell_type": "code",
   "execution_count": 126,
   "metadata": {},
   "outputs": [
    {
     "name": "stderr",
     "output_type": "stream",
     "text": [
      "/var/folders/8y/zlyjdkl554bfq25qgv0m1v5r0000gn/T/ipykernel_1431/4051144502.py:4: UserWarning: FixedFormatter should only be used together with FixedLocator\n",
      "  ax[0].set_yticklabels(['0', '20', '40', '60', '80', '100'])\n",
      "/var/folders/8y/zlyjdkl554bfq25qgv0m1v5r0000gn/T/ipykernel_1431/4051144502.py:9: UserWarning: FixedFormatter should only be used together with FixedLocator\n",
      "  ax[1].set_yticklabels(['0', '20', '40', '60', '80', '100'])\n"
     ]
    },
    {
     "data": {
      "image/png": "[encoded data removed]",
      "text/plain": [
       "<Figure size 432x288 with 2 Axes>"
      ]
     },
     "metadata": {
      "needs_background": "light"
     },
     "output_type": "display_data"
    }
   ],
   "source": [
    "# Plot the ratio of sequences classified at each taxonomic level\n",
    "fig, ax = plt.subplots(1, 2)\n",
    "all_gg_correct_class_ratio.plot(kind='bar', color=color_levels_key, edgecolor='Black', stacked=True, ax=ax[0], legend=False)\n",
    "ax[0].set_yticklabels(['0', '20', '40', '60', '80', '100'])\n",
    "ax[0].set_title('Greengenes2')\n",
    "ax[0].set_ylabel('Percentage of sequences [%]')\n",
    "\n",
    "all_silva_correct_class_ratio.plot(kind='bar', color=color_levels_key, edgecolor='Black', stacked=True, ax=ax[1])\n",
    "ax[1].set_yticklabels(['0', '20', '40', '60', '80', '100'])\n",
    "ax[1].legend(bbox_to_anchor=(1.05, 1.0), loc='upper left')\n",
    "ax[1].set_title('SILVA')\n",
    "\n",
    "# lines_labels = [ax.get_legend_handles_labels() for ax in fig.axes]\n",
    "# lines, labels = [sum(lol, []) for lol in zip(*lines_labels)]\n",
    "# fig.legend(lines, set(labels))\n",
    "\n",
    "fig.suptitle('Different databases')\n",
    "\n",
    "plt.show()\n",
    "\n",
    "fig.savefig('/Users/claranordquist/Documents/Universitetet/HT24/Tillämpad_bioinformatik/Applied-bioinformatics/05_Plot_the_results/02_Plots/01_Unsimulated_reads/Different_databases_with_key.png', bbox_inches='tight')"
   ]
  },
  {
   "cell_type": "code",
   "execution_count": 121,
   "metadata": {},
   "outputs": [
    {
     "name": "stdout",
     "output_type": "stream",
     "text": [
      "{'Class', 'Wrong kingdom', 'Phylum', 'Genus', 'Unassigned', 'Kingdom', 'Species', 'Family'}\n"
     ]
    }
   ],
   "source": []
  },
  {
   "cell_type": "markdown",
   "metadata": {},
   "source": [
    "##### 2.1.2 Long vs short classifier, Greengenes2 (V3V4)"
   ]
  },
  {
   "cell_type": "code",
   "execution_count": 99,
   "metadata": {},
   "outputs": [],
   "source": [
    "# Without key\n",
    "long_vs_short_highest_class, long_vs_short_highest_class_ratio = highest_classification([V3V4_gg_short_class, V3V4_gg], names=['Short', 'Full-length'])\n",
    "\n",
    "# With key\n",
    "long_vs_short_correct_class, long_vs_short_correct_class_ratio = highest_classification_with_key([V3V4_gg_short_class, V3V4_gg], names=['Short', 'Full-length'], taxonomy=taxonomy, conversion_dict=conversion_dict)"
   ]
  },
  {
   "cell_type": "code",
   "execution_count": 114,
   "metadata": {},
   "outputs": [
    {
     "name": "stderr",
     "output_type": "stream",
     "text": [
      "/var/folders/8y/zlyjdkl554bfq25qgv0m1v5r0000gn/T/ipykernel_1431/1607137279.py:4: UserWarning: FixedFormatter should only be used together with FixedLocator\n",
      "  ax.set_yticklabels(['0', '20', '40', '60', '80', '100'])\n"
     ]
    },
    {
     "data": {
      "image/png": "[encoded data removed]",
      "text/plain": [
       "<Figure size 432x288 with 1 Axes>"
      ]
     },
     "metadata": {
      "needs_background": "light"
     },
     "output_type": "display_data"
    }
   ],
   "source": [
    "# Plot the number of correct/incorrect classifications for each samples as a stacked barplot\n",
    "fig, ax = plt.subplots()\n",
    "long_vs_short_highest_class_ratio.plot(kind='bar', color=color_levels_nokey, edgecolor='Black', stacked=True, ax=ax, legend=False)\n",
    "ax.set_yticklabels(['0', '20', '40', '60', '80', '100'])\n",
    "ax.legend(bbox_to_anchor=(1.05, 1.0), loc='upper left')\n",
    "ax.set_ylabel('Percentage of sequences [%]')\n",
    "ax.set_title('Short vs full-length classifier (V3-V4)')\n",
    "\n",
    "plt.show()\n",
    "\n",
    "fig.savefig('/Users/claranordquist/Documents/Universitetet/HT24/Tillämpad_bioinformatik/Applied-bioinformatics/05_Plot_the_results/02_Plots/01_Unsimulated_reads/Different_class_without_key.png', bbox_inches='tight')"
   ]
  },
  {
   "cell_type": "code",
   "execution_count": 115,
   "metadata": {},
   "outputs": [
    {
     "name": "stderr",
     "output_type": "stream",
     "text": [
      "/var/folders/8y/zlyjdkl554bfq25qgv0m1v5r0000gn/T/ipykernel_1431/2335057504.py:4: UserWarning: FixedFormatter should only be used together with FixedLocator\n",
      "  ax.set_yticklabels(['0', '20', '40', '60', '80', '100'])\n"
     ]
    },
    {
     "data": {
      "image/png": "[encoded data removed]",
      "text/plain": [
       "<Figure size 432x288 with 1 Axes>"
      ]
     },
     "metadata": {
      "needs_background": "light"
     },
     "output_type": "display_data"
    }
   ],
   "source": [
    "# Plot the number of correct/incorrect classifications for each samples as a stacked barplot\n",
    "fig, ax = plt.subplots()\n",
    "long_vs_short_correct_class_ratio.plot(kind='bar', color=color_levels_key, edgecolor='Black', stacked=True, ax=ax, legend=False)\n",
    "ax.set_yticklabels(['0', '20', '40', '60', '80', '100'])\n",
    "ax.legend(bbox_to_anchor=(1.05, 1.0), loc='upper left')\n",
    "ax.set_title('Short vs full-length classifier (V3-V4)')\n",
    "ax.set_ylabel('Percentage of sequences [%]')\n",
    "\n",
    "plt.show()\n",
    "\n",
    "fig.savefig('/Users/claranordquist/Documents/Universitetet/HT24/Tillämpad_bioinformatik/Applied-bioinformatics/05_Plot_the_results/02_Plots/01_Unsimulated_reads/Different_class_with_key.png', bbox_inches='tight')"
   ]
  },
  {
   "cell_type": "markdown",
   "metadata": {},
   "source": [
    "#### 2.2 Simulated reads"
   ]
  },
  {
   "cell_type": "markdown",
   "metadata": {},
   "source": [
    "##### 2.2.1 Illumina vs PacBio, Greengenes2"
   ]
  },
  {
   "cell_type": "code",
   "execution_count": 102,
   "metadata": {},
   "outputs": [],
   "source": [
    "# Illumina vs PacBio (Greengenes2)\n",
    "# Without key\n",
    "illumina_vs_pacbio_highest_class, illumina_vs_pacbio_highest_class_ratio = highest_classification([illumina_gg, pacbio_gg], names=['Illumina', 'PacBio'])\n",
    "\n",
    "# With key\n",
    "illumina_vs_pacbio_correct_class, illumina_vs_pacbio_correct_class_ratio = highest_classification_with_key([illumina_gg, pacbio_gg], names=['Illumina', 'PacBio'], taxonomy=taxonomy, conversion_dict=conversion_dict)"
   ]
  },
  {
   "cell_type": "code",
   "execution_count": 129,
   "metadata": {},
   "outputs": [
    {
     "data": {
      "text/html": [
       "<div>\n",
       "<style scoped>\n",
       "    .dataframe tbody tr th:only-of-type {\n",
       "        vertical-align: middle;\n",
       "    }\n",
       "\n",
       "    .dataframe tbody tr th {\n",
       "        vertical-align: top;\n",
       "    }\n",
       "\n",
       "    .dataframe thead th {\n",
       "        text-align: right;\n",
       "    }\n",
       "</style>\n",
       "<table border=\"1\" class=\"dataframe\">\n",
       "  <thead>\n",
       "    <tr style=\"text-align: right;\">\n",
       "      <th></th>\n",
       "      <th>Unassigned</th>\n",
       "      <th>Kingdom</th>\n",
       "      <th>Family</th>\n",
       "      <th>Genus</th>\n",
       "    </tr>\n",
       "  </thead>\n",
       "  <tbody>\n",
       "    <tr>\n",
       "      <th>Illumina</th>\n",
       "      <td>0.200000</td>\n",
       "      <td>0.666667</td>\n",
       "      <td>0.022222</td>\n",
       "      <td>0.111111</td>\n",
       "    </tr>\n",
       "    <tr>\n",
       "      <th>PacBio</th>\n",
       "      <td>0.795455</td>\n",
       "      <td>0.204545</td>\n",
       "      <td>NaN</td>\n",
       "      <td>NaN</td>\n",
       "    </tr>\n",
       "  </tbody>\n",
       "</table>\n",
       "</div>"
      ],
      "text/plain": [
       "          Unassigned   Kingdom    Family     Genus\n",
       "Illumina    0.200000  0.666667  0.022222  0.111111\n",
       "PacBio      0.795455  0.204545       NaN       NaN"
      ]
     },
     "execution_count": 129,
     "metadata": {},
     "output_type": "execute_result"
    }
   ],
   "source": [
    "illumina_vs_pacbio_correct_class_ratio"
   ]
  },
  {
   "cell_type": "code",
   "execution_count": 111,
   "metadata": {},
   "outputs": [
    {
     "name": "stderr",
     "output_type": "stream",
     "text": [
      "/var/folders/8y/zlyjdkl554bfq25qgv0m1v5r0000gn/T/ipykernel_1431/2425630357.py:4: UserWarning: FixedFormatter should only be used together with FixedLocator\n",
      "  ax.set_yticklabels(['0', '20', '40', '60', '80', '100'])\n"
     ]
    },
    {
     "data": {
      "image/png": "[encoded data removed]",
      "text/plain": [
       "<Figure size 432x288 with 1 Axes>"
      ]
     },
     "metadata": {
      "needs_background": "light"
     },
     "output_type": "display_data"
    }
   ],
   "source": [
    "# Plot the number of correct/incorrect classifications for each samples as a stacked barplot\n",
    "fig, ax = plt.subplots()\n",
    "illumina_vs_pacbio_highest_class_ratio.plot(kind='bar', color=color_levels_nokey, edgecolor='Black', stacked=True, ax=ax, legend=False)\n",
    "ax.set_yticklabels(['0', '20', '40', '60', '80', '100'])\n",
    "ax.legend(bbox_to_anchor=(1.05, 1.0), loc='upper left')\n",
    "ax.set_title('Illumina vs PacBio')\n",
    "ax.set_ylabel('Percentage of sequences [%]')\n",
    "\n",
    "plt.show()\n",
    "\n",
    "fig.savefig('/Users/claranordquist/Documents/Universitetet/HT24/Tillämpad_bioinformatik/Applied-bioinformatics/05_Plot_the_results/02_Plots/02_Simulated_reads/Illumina_PacBio_without_key.png', bbox_inches='tight')"
   ]
  },
  {
   "cell_type": "code",
   "execution_count": 112,
   "metadata": {},
   "outputs": [
    {
     "name": "stderr",
     "output_type": "stream",
     "text": [
      "/var/folders/8y/zlyjdkl554bfq25qgv0m1v5r0000gn/T/ipykernel_1431/440237524.py:4: UserWarning: FixedFormatter should only be used together with FixedLocator\n",
      "  ax.set_yticklabels(['0', '20', '40', '60', '80', '100'])\n"
     ]
    },
    {
     "data": {
      "image/png": "[encoded data removed]",
      "text/plain": [
       "<Figure size 432x288 with 1 Axes>"
      ]
     },
     "metadata": {
      "needs_background": "light"
     },
     "output_type": "display_data"
    }
   ],
   "source": [
    "# Plot the number of correct/incorrect classifications for each samples as a stacked barplot\n",
    "fig, ax = plt.subplots()\n",
    "illumina_vs_pacbio_correct_class_ratio.plot(kind='bar', color=color_levels_key, edgecolor='Black', stacked=True, ax=ax, legend=False)\n",
    "ax.set_yticklabels(['0', '20', '40', '60', '80', '100'])\n",
    "ax.legend(bbox_to_anchor=(1.05, 1.0), loc='upper left')\n",
    "ax.set_title('Illumina vs PacBio')\n",
    "ax.set_ylabel('Percentage of sequences [%]')\n",
    "\n",
    "plt.show()\n",
    "\n",
    "fig.savefig('/Users/claranordquist/Documents/Universitetet/HT24/Tillämpad_bioinformatik/Applied-bioinformatics/05_Plot_the_results/02_Plots/02_Simulated_reads/Illumina_PacBio_with_key.png', bbox_inches='tight')"
   ]
  },
  {
   "cell_type": "markdown",
   "metadata": {},
   "source": [
    "##### 2.2.2 Illumina, difference confidence threshold (Greengenes2)"
   ]
  },
  {
   "cell_type": "code",
   "execution_count": 105,
   "metadata": {},
   "outputs": [],
   "source": [
    "# Without key\n",
    "illumina_thresholds_highest_class, illumina_thresholds_highest_class_ratio = highest_classification([illumina_gg_10, illumina_gg_30, illumina_gg_50, illumina_gg_70, illumina_gg_80], names=['10%', '30%', '50%', '70%', '80%'])\n",
    "\n",
    "# With key\n",
    "illumina_thresholds_correct_class, illumina_thresholds_correct_class_ratio = highest_classification_with_key([illumina_gg_10, illumina_gg_30, illumina_gg_50, illumina_gg_70, illumina_gg_80], names=['10%', '30%', '50%', '70%', '80%'], taxonomy=taxonomy, conversion_dict=conversion_dict)"
   ]
  },
  {
   "cell_type": "code",
   "execution_count": 131,
   "metadata": {},
   "outputs": [
    {
     "data": {
      "text/html": [
       "<div>\n",
       "<style scoped>\n",
       "    .dataframe tbody tr th:only-of-type {\n",
       "        vertical-align: middle;\n",
       "    }\n",
       "\n",
       "    .dataframe tbody tr th {\n",
       "        vertical-align: top;\n",
       "    }\n",
       "\n",
       "    .dataframe thead th {\n",
       "        text-align: right;\n",
       "    }\n",
       "</style>\n",
       "<table border=\"1\" class=\"dataframe\">\n",
       "  <thead>\n",
       "    <tr style=\"text-align: right;\">\n",
       "      <th></th>\n",
       "      <th>Wrong kingdom</th>\n",
       "      <th>Unassigned</th>\n",
       "      <th>Kingdom</th>\n",
       "      <th>Family</th>\n",
       "      <th>Genus</th>\n",
       "    </tr>\n",
       "  </thead>\n",
       "  <tbody>\n",
       "    <tr>\n",
       "      <th>10%</th>\n",
       "      <td>0.133333</td>\n",
       "      <td>0.066667</td>\n",
       "      <td>0.666667</td>\n",
       "      <td>0.022222</td>\n",
       "      <td>0.111111</td>\n",
       "    </tr>\n",
       "    <tr>\n",
       "      <th>30%</th>\n",
       "      <td>NaN</td>\n",
       "      <td>0.200000</td>\n",
       "      <td>0.666667</td>\n",
       "      <td>0.022222</td>\n",
       "      <td>0.111111</td>\n",
       "    </tr>\n",
       "    <tr>\n",
       "      <th>50%</th>\n",
       "      <td>NaN</td>\n",
       "      <td>0.200000</td>\n",
       "      <td>0.666667</td>\n",
       "      <td>0.022222</td>\n",
       "      <td>0.111111</td>\n",
       "    </tr>\n",
       "    <tr>\n",
       "      <th>70%</th>\n",
       "      <td>NaN</td>\n",
       "      <td>0.200000</td>\n",
       "      <td>0.666667</td>\n",
       "      <td>0.022222</td>\n",
       "      <td>0.111111</td>\n",
       "    </tr>\n",
       "    <tr>\n",
       "      <th>80%</th>\n",
       "      <td>NaN</td>\n",
       "      <td>0.200000</td>\n",
       "      <td>0.666667</td>\n",
       "      <td>0.022222</td>\n",
       "      <td>0.111111</td>\n",
       "    </tr>\n",
       "  </tbody>\n",
       "</table>\n",
       "</div>"
      ],
      "text/plain": [
       "     Wrong kingdom  Unassigned   Kingdom    Family     Genus\n",
       "10%       0.133333    0.066667  0.666667  0.022222  0.111111\n",
       "30%            NaN    0.200000  0.666667  0.022222  0.111111\n",
       "50%            NaN    0.200000  0.666667  0.022222  0.111111\n",
       "70%            NaN    0.200000  0.666667  0.022222  0.111111\n",
       "80%            NaN    0.200000  0.666667  0.022222  0.111111"
      ]
     },
     "execution_count": 131,
     "metadata": {},
     "output_type": "execute_result"
    }
   ],
   "source": [
    "illumina_thresholds_correct_class_ratio"
   ]
  },
  {
   "cell_type": "code",
   "execution_count": 113,
   "metadata": {},
   "outputs": [
    {
     "data": {
      "image/png": "[encoded data removed]",
      "text/plain": [
       "<Figure size 432x288 with 1 Axes>"
      ]
     },
     "metadata": {
      "needs_background": "light"
     },
     "output_type": "display_data"
    }
   ],
   "source": [
    "# Plot the number of correct/incorrect classifications for each samples as a stacked barplot\n",
    "fig, ax = plt.subplots()\n",
    "illumina_thresholds_highest_class_ratio['Species'].plot(color='blue', ax=ax, label='Classification at species level')\n",
    "illumina_thresholds_correct_class_ratio['Genus'].plot(color='green', ax=ax, label='Correct classification at lowest level (genus)')\n",
    "ax.legend()\n",
    "ax.set_ylabel('Ratio of sequences')\n",
    "ax.set_xlabel('Confidence threshold [%]')\n",
    "ax.set_title('Different confidence thresholds (Illumina)')\n",
    "\n",
    "plt.show()\n",
    "\n",
    "fig.savefig('/Users/claranordquist/Documents/Universitetet/HT24/Tillämpad_bioinformatik/Applied-bioinformatics/05_Plot_the_results/02_Plots/02_Simulated_reads/Confidence_thresholds.png', bbox_inches='tight')"
   ]
  },
  {
   "cell_type": "markdown",
   "metadata": {},
   "source": [
    "##### Illumina Greengenes2 vs SILVA vs GTDB"
   ]
  },
  {
   "cell_type": "code",
   "execution_count": 108,
   "metadata": {},
   "outputs": [],
   "source": [
    "# # Illumina gg/SILVA/GTDB\n",
    "# illumina_gg_highest = find_class_levels_nokey(illumina_gg)\n",
    "# illumina_silva_highest = find_class_levels_nokey(illumina_silva)\n",
    "# illumina_GTDB_highest = find_class_levels_nokey(illumina_GTDB)\n",
    "\n",
    "# all_illumina_highest = pd.concat([illumina_gg_highest, illumina_silva_highest, illumina_GTDB_highest])\n",
    "# all_illumina_highest.index = samples_databases\n",
    "\n",
    "# all_illumina_highest_ratio = all_illumina_highest.copy(deep=True)\n",
    "# for sample in range(len(samples_databases)):\n",
    "#     all_illumina_highest_ratio.iloc[sample,:] /= all_illumina_highest.iloc[sample,:].sum()\n",
    "# all_illumina_highest_ratio.columns = pd.CategoricalIndex(all_illumina_highest_ratio.columns.values, ordered=True, categories=['Unassigned'] + taxonomic_levels)\n",
    "# all_illumina_highest_ratio = all_illumina_highest_ratio.sort_index(axis=1)"
   ]
  },
  {
   "cell_type": "code",
   "execution_count": 109,
   "metadata": {},
   "outputs": [],
   "source": [
    "# Plot the number of correct/incorrect classifications for each samples as a stacked barplot\n",
    "# fig, ax = plt.subplots()\n",
    "# all_illumina_highest_ratio.plot(kind='bar', color=color_levels_nokey, edgecolor='Black', stacked=True, ax=ax)\n",
    "# ax.set_yticklabels(['0', '20', '40', '60', '80', '100'])\n",
    "# ax.legend(bbox_to_anchor=(1.05, 1.0), loc='upper left')\n",
    "# ax.set_ylabel('Percentage of sequences [%]')\n",
    "# ax.set_title('Lowest level of taxonomic classification')\n",
    "# plt.show()"
   ]
  }
 ],
 "metadata": {
  "kernelspec": {
   "display_name": "base",
   "language": "python",
   "name": "python3"
  },
  "language_info": {
   "codemirror_mode": {
    "name": "ipython",
    "version": 3
   },
   "file_extension": ".py",
   "mimetype": "text/x-python",
   "name": "python",
   "nbconvert_exporter": "python",
   "pygments_lexer": "ipython3",
   "version": "3.8.8"
  }
 },
 "nbformat": 4,
 "nbformat_minor": 2
}

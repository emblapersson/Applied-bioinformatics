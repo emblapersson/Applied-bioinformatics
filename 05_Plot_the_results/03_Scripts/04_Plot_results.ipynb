{
 "cells": [
  {
   "cell_type": "markdown",
   "metadata": {},
   "source": [
    "## Plot and analyze taxonomic classification\n",
    "Code to plot and analyze the taxonomic classification made by Qiime2. The input data must be in the format of:\n",
    "- Rows: Each row is one sequence, with an ID column\n",
    "- Columns: Each column is the taxonomic classification at one level. Might have one level for the classification confidence as well. "
   ]
  },
  {
   "cell_type": "code",
   "execution_count": 5,
   "metadata": {},
   "outputs": [],
   "source": [
    "# TO BE SPECIFIED\n",
    "# True taxonomy and conversion table with species names that might have synonyms\n",
    "taxonomy_key = '/Users/claranordquist/Documents/Universitetet/HT24/Tillämpad_bioinformatik/Applied-bioinformatics/01_Collect_sequences/02_Sequences/All_downloaded_5dec/Taxonomy_species_genus_corrected.csv'\n",
    "conversion_table = '/Users/claranordquist/Documents/Universitetet/HT24/Tillämpad_bioinformatik/Applied-bioinformatics/05_Plot_the_results/01_Data/Species_conversion.txt'\n",
    "\n",
    "# The input classifications\n",
    "# 1) Unsimulated reads\n",
    "input_V3V4_gg = '/Users/claranordquist/Documents/Universitetet/HT24/Tillämpad_bioinformatik/Applied-bioinformatics/05_Plot_the_results/01_Data/01_Unsimulated_reads/V3V4/Full_length_classifier/Greengenes2/V3V4_gg_long_class_fixed.csv'\n",
    "input_V3V4_gg_short_class = '/Users/claranordquist/Documents/Universitetet/HT24/Tillämpad_bioinformatik/Applied-bioinformatics/05_Plot_the_results/01_Data/01_Unsimulated_reads/V3V4/Short_classifier/V3V4_gg_short_class_fixed.csv'\n",
    "input_V1V9_gg = '/Users/claranordquist/Documents/Universitetet/HT24/Tillämpad_bioinformatik/Applied-bioinformatics/05_Plot_the_results/01_Data/01_Unsimulated_reads/V1V9/Greengenes2/V1V9_gg_fixed.csv'\n",
    "\n",
    "# 2) Simulated reads\n",
    "input_illumina_gg = '/Users/claranordquist/Documents/Universitetet/HT24/Tillämpad_bioinformatik/Applied-bioinformatics/05_Plot_the_results/01_Data/02_Simulated_reads/Illumina/Greengenes2/illumina_gg_names_fixed.csv'\n",
    "input_pacbio_gg = '/Users/claranordquist/Documents/Universitetet/HT24/Tillämpad_bioinformatik/Applied-bioinformatics/05_Plot_the_results/01_Data/02_Simulated_reads/Pacbio/Greengenes2/pacbio_gg_names_fixed.csv'"
   ]
  },
  {
   "cell_type": "markdown",
   "metadata": {},
   "source": [
    "### 1. Set up the program"
   ]
  },
  {
   "cell_type": "code",
   "execution_count": 6,
   "metadata": {},
   "outputs": [],
   "source": [
    "# Import packages\n",
    "import pandas as pd\n",
    "import matplotlib.pyplot as plt"
   ]
  },
  {
   "cell_type": "markdown",
   "metadata": {},
   "source": [
    "#### 1.1 Define the plot colors and read the taxonomy key"
   ]
  },
  {
   "cell_type": "code",
   "execution_count": 7,
   "metadata": {},
   "outputs": [],
   "source": [
    "# Define the color map for plotting\n",
    "taxonomic_levels = ['Kingdom', 'Phylum', 'Class', 'Order', 'Family', 'Genus', 'Species']\n",
    "\n",
    "n = len(taxonomic_levels)\n",
    "\n",
    "# Create the color maps\n",
    "# For plotting without and with the taxonomic key\n",
    "cmap_nokey = plt.cm.get_cmap('Blues', n+1)\n",
    "cmap_key = plt.cm.get_cmap('Greens', n+1)\n",
    "\n",
    "color_levels_nokey = {}\n",
    "color_levels_key = {}\n",
    "for i in range(1, n+1):\n",
    "    color_levels_nokey[taxonomic_levels[i-1]] = cmap_nokey(i)\n",
    "    color_levels_key[taxonomic_levels[i-1]] = cmap_key(i)\n",
    "\n",
    "color_levels_nokey['Unassigned'] = 'orange'\n",
    "color_levels_key['Unassigned'] = 'orange'\n",
    "color_levels_key['Wrong kingdom'] = 'crimson'"
   ]
  },
  {
   "cell_type": "code",
   "execution_count": 8,
   "metadata": {},
   "outputs": [],
   "source": [
    "# Read the data\n",
    "# The correct taxonomy and the conversion table\n",
    "taxonomy = pd.read_csv(taxonomy_key, index_col='Feature ID')\n",
    "conversion = pd.read_csv(conversion_table)\n",
    "\n",
    "# Create a conversion dictionary for species with multiple names\n",
    "conversion.columns = ['Species', 'Synonyms']\n",
    "conversion_dict = {}\n",
    "for ID in conversion.index:\n",
    "    if conversion.loc[ID, 'Species'] not in conversion_dict.keys():\n",
    "        conversion_dict[conversion.loc[ID, 'Species']] = [conversion.loc[ID, 'Synonyms']]\n",
    "    else:\n",
    "        conversion_dict[conversion.loc[ID, 'Species']].append(conversion.loc[ID, 'Synonyms'])"
   ]
  },
  {
   "cell_type": "markdown",
   "metadata": {},
   "source": [
    "#### 1.2 Define the necessary functions"
   ]
  },
  {
   "cell_type": "markdown",
   "metadata": {},
   "source": [
    "##### To plot without taxonomy key"
   ]
  },
  {
   "cell_type": "code",
   "execution_count": 9,
   "metadata": {},
   "outputs": [],
   "source": [
    "def find_class_levels_nokey(dataframe):\n",
    "    '''Takes a dataframe and calculates the number of sequences that have been classified (not NA) to the different\n",
    "    taxonomical levels regardless of if the classification is correct or not.\n",
    "    Input: Dataframe with sequences (rows, R) and taxonomical classification at different levels (columns, C)\n",
    "    Output: A dataframe containing:\n",
    "    - N° sequences that have each taxonomic level as their highest (1*C)'''\n",
    "\n",
    "    # Count the number of unassigned sequences\n",
    "    if 'Unassigned' in dataframe['Kingdom'].tolist():\n",
    "        ua = dataframe.value_counts('Kingdom')['Unassigned']\n",
    "    else:\n",
    "        ua = 0\n",
    "\n",
    "    # Count number of not-null cells at each taxonomic level (column)\n",
    "    # Substract the number of unassigned sequences from the total number at kingdom level\n",
    "    class_all_levels = dataframe.notnull().sum()\n",
    "    class_all_levels['Kingdom'] = class_all_levels['Kingdom'] - ua\n",
    "    class_highest_level = class_all_levels.copy(deep=True)\n",
    "\n",
    "    # Loop through the levels and calculate the number of sequences with each level as their highest classification\n",
    "    for level in range(len(class_all_levels)-1):\n",
    "        class_highest_level[level] -= class_all_levels[level+1]\n",
    "    class_all_levels = class_all_levels.to_frame()\n",
    "    class_all_levels = pd.concat([class_all_levels, pd.DataFrame([ua], index=['Unassigned'], columns=class_all_levels.columns)])\n",
    "\n",
    "    class_highest_level = pd.concat([class_highest_level, pd.DataFrame([ua], index=['Unassigned'], columns=class_all_levels.columns)])\n",
    "    class_highest_level = class_highest_level.transpose()\n",
    "\n",
    "    return class_highest_level"
   ]
  },
  {
   "cell_type": "code",
   "execution_count": 10,
   "metadata": {},
   "outputs": [],
   "source": [
    "def highest_classification(samples, names):\n",
    "    '''Calculate statistics from classifications, without a taxonomy key.\n",
    "    Input:\n",
    "    - Samples: List of classifications\n",
    "    - Names: List of the samples' names\n",
    "    Output: Two dataframes with\n",
    "    - The number of sequences which has each level as their highest taxonomic classification\n",
    "    - The ratio of sequences which has each level as their highest taxonomic classification'''\n",
    "    \n",
    "    # Find the number of sequences\n",
    "    all_highest_class = pd.concat([find_class_levels_nokey(sample) for sample in samples])\n",
    "    all_highest_class.index = names\n",
    "\n",
    "    all_highest_class_ratio = all_highest_class.copy(deep=True)\n",
    "\n",
    "    # Calculate the ratios\n",
    "    for name in range(len(names)):\n",
    "        all_highest_class_ratio.iloc[name,:] /= all_highest_class.iloc[name,:].sum()\n",
    "    all_highest_class_ratio.columns = pd.CategoricalIndex(all_highest_class_ratio.columns.values, ordered=True, categories=['Unassigned'] + [level for level in samples[0].columns])\n",
    "    all_highest_class_ratio = all_highest_class_ratio.sort_index(axis=1)\n",
    "\n",
    "    return all_highest_class, all_highest_class_ratio"
   ]
  },
  {
   "cell_type": "markdown",
   "metadata": {},
   "source": [
    "##### To plot with taxonomy key"
   ]
  },
  {
   "cell_type": "code",
   "execution_count": 11,
   "metadata": {},
   "outputs": [],
   "source": [
    "# Find misclassified sequences\n",
    "def find_misclassified(dataframe, correct_classification, conversion_table):\n",
    "    '''Takes a dataframe and calculates the number of sequences that have been classified correctly (not NA)\n",
    "    to the different taxonomical levels by comparing each sequence to its corresponding sequence in the correct\n",
    "    classification. For incorrectly classified sequences, the program can also look in the conversion table to\n",
    "    see if it is due to heteronyms, and then label is at correct.\n",
    "    Input: \n",
    "    - Dataframe with sequences (rows, R) and taxonomical classification at different levels (columns, C)\n",
    "    - Correct classification: The expected taxonomy, in the same format as the input dataframe\n",
    "    - Conversion table: A dictionary with possible synonyms in the classification that still should be\n",
    "    considered correct\n",
    "    Output: A dataframe with the number of correctly classified sequences at each taxonomic level'''\n",
    "\n",
    "    # Create a copy to not mess with the original datafiles\n",
    "    dataframe_genus_species = dataframe.applymap(lambda x: x.strip() if type(x)==str else x)\n",
    "    taxonomy_genus_species = correct_classification.applymap(lambda x: x.strip() if type(x)==str else x)\n",
    "    taxonomy_genus_species['Species'].fillna('', inplace=True)\n",
    "    \n",
    "    # Look through all sequences\n",
    "    for ID in dataframe.index:\n",
    "        # If the whole species name (genus + species) is the same as the taxonomy, the classification is correct at species level\n",
    "        if dataframe_genus_species.loc[ID,'Species'] == taxonomy_genus_species.loc[ID,'Species']:\n",
    "            if dataframe_genus_species.loc[ID,'Genus'] == taxonomy_genus_species.loc[ID,'Genus']:\n",
    "                correct = 'Species'\n",
    "        \n",
    "        # If not correct at species level, loop over all levels to find one at which the taxonomy is correct\n",
    "        # There there is no level that is correct, it is probably \"unassigned\"\n",
    "        # Check if the classification is wrong at the kingdom level\n",
    "        else:\n",
    "            for level in reversed(dataframe.columns[:-1]):\n",
    "                if dataframe_genus_species.loc[ID,level] == taxonomy_genus_species.loc[ID,level]:\n",
    "                    correct = level\n",
    "                    break\n",
    "                else:\n",
    "                    correct = 'Unassigned'\n",
    "        \n",
    "            if dataframe_genus_species.loc[ID, 'Kingdom'] == 'Archaea' or dataframe_genus_species.loc[ID, 'Kingdom'] == 'Eukaryota':\n",
    "                correct = 'Wrong kingdom'\n",
    "        \n",
    "        # If the classification isn't correct at a species level, investigate if this is because of heteronyms\n",
    "        if correct != 'Species':\n",
    "            if not pd.isna(dataframe_genus_species.loc[ID,'Species']):\n",
    "                name = dataframe_genus_species.loc[ID,'Genus'] + ' ' + dataframe_genus_species.loc[ID,'Species']\n",
    "                tax = taxonomy_genus_species.loc[ID,'Genus'] + ' ' + taxonomy_genus_species.loc[ID,'Species']\n",
    "\n",
    "                if name in conversion_table.keys():\n",
    "                    if tax in conversion_table[name]:\n",
    "                        correct = 'Species'\n",
    "\n",
    "        # Add a new column with the lowest taxonomic level at which the sequence was correctly classified\n",
    "        # This dataframe can be returned if you want to see which sequence is correct or not\n",
    "        dataframe_genus_species.loc[ID, 'Correct'] = correct\n",
    "\n",
    "    # Calculate the number of correct classifications at each level\n",
    "    correct_sequences = dataframe_genus_species['Correct'].value_counts()\n",
    "    return pd.Series.to_frame(correct_sequences).transpose()"
   ]
  },
  {
   "cell_type": "code",
   "execution_count": 12,
   "metadata": {},
   "outputs": [],
   "source": [
    "def highest_classification_with_key(samples, names, taxonomy, conversion_dict):\n",
    "    '''Calculate statistics from classifications, with a taxonomy key.\n",
    "    Input:\n",
    "    - Samples: List of classifications\n",
    "    - Names: List of the samples' names\n",
    "    - Taxonomy: Taxonomy key\n",
    "    - Conversion table: Table with synonym names for species\n",
    "    Output: Two dataframes with\n",
    "    - The number of sequences which has each level as their highest correct taxonomic classification\n",
    "    - The ratio of sequences which has each level as their highest correct taxonomic classification'''\n",
    "    \n",
    "    # Calculate the number of sequences\n",
    "    all_correct_class = pd.concat([find_misclassified(sample, taxonomy, conversion_dict) for sample in samples])\n",
    "    all_correct_class.index = names\n",
    "\n",
    "    all_correct_class_ratio = all_correct_class.copy(deep=True)\n",
    "\n",
    "    # Calculate the ratios\n",
    "    for name in range(len(names)):\n",
    "        all_correct_class_ratio.iloc[name,:] /= all_correct_class.iloc[name,:].sum()\n",
    "    all_correct_class_ratio.columns = pd.CategoricalIndex(all_correct_class_ratio.columns.values, ordered=True, categories=['Wrong kingdom'] + ['Unassigned'] + [level for level in samples[0].columns])\n",
    "    all_correct_class_ratio = all_correct_class_ratio.sort_index(axis=1)\n",
    "\n",
    "    return all_correct_class, all_correct_class_ratio"
   ]
  },
  {
   "cell_type": "markdown",
   "metadata": {},
   "source": [
    "#### 1.3 Read the input data"
   ]
  },
  {
   "cell_type": "code",
   "execution_count": 13,
   "metadata": {},
   "outputs": [],
   "source": [
    "# 1) Unsimulated reads\n",
    "V3V4_gg = pd.read_csv(input_V3V4_gg, index_col='Feature ID')\n",
    "V3V4_gg_short_class = pd.read_csv(input_V3V4_gg_short_class, index_col='Feature ID')\n",
    "V1V9_gg = pd.read_csv(input_V1V9_gg, index_col='Feature ID')\n",
    "\n",
    "# 2) Simulated reads\n",
    "illumina_gg = pd.read_csv(input_illumina_gg, index_col='index')\n",
    "pacbio_gg = pd.read_csv(input_pacbio_gg, index_col='index')"
   ]
  },
  {
   "cell_type": "markdown",
   "metadata": {},
   "source": [
    "#### 1.4 Filter the data"
   ]
  },
  {
   "cell_type": "code",
   "execution_count": 14,
   "metadata": {},
   "outputs": [],
   "source": [
    "# For the datasets with a confidence level, if it isn't used to filter the dataset\n",
    "# Drop confidence levels\n",
    "V3V4_gg.drop('Confidence', axis=1, inplace=True)\n",
    "V3V4_gg_short_class.drop('Confidence', axis=1, inplace=True)\n",
    "V1V9_gg.drop('Confidence', axis=1, inplace=True)"
   ]
  },
  {
   "cell_type": "code",
   "execution_count": 15,
   "metadata": {},
   "outputs": [],
   "source": [
    "# Make replacements of known synonyms at other levels than species\n",
    "# Replace \"firmicutes\" med \"bacillota\"\n",
    "V3V4_gg['Phylum'] = V3V4_gg['Phylum'].str.replace('Firmicutes', ' Bacillota')\n",
    "V3V4_gg_short_class['Phylum'] = V3V4_gg_short_class['Phylum'].str.replace('Firmicutes', ' Bacillota')\n",
    "V1V9_gg['Phylum'] = V1V9_gg['Phylum'].str.replace('Firmicutes', ' Bacillota')"
   ]
  },
  {
   "cell_type": "markdown",
   "metadata": {},
   "source": [
    "### 2. Plot the data"
   ]
  },
  {
   "cell_type": "code",
   "execution_count": 16,
   "metadata": {},
   "outputs": [],
   "source": [
    "# Filter out the sequences with only correct 16S rRNA sequences\n",
    "correct_seqs_V3V4 = ['NR_025423.1', 'NZ_PNGO01000009.1', 'NZ_AMZK01000007.1', 'NR_171541.1', 'NZ_JBBNGY010000024.1', 'NZ_JBGONE010000038.1', 'NZ_JASOSB010000012.1', 'NZ_JANDZW010000012.1', 'NZ_KV803777.1', 'NZ_NQOJ01000020.1']\n",
    "correct_seqs_V1V9 = ['NR_025423.1', 'NZ_PNGO01000009.1', 'NZ_AMZK01000007.1', 'NR_171541.1', 'NZ_JBBNGY010000024.1', 'NZ_JBGONE010000038.1', 'NZ_JASOSB010000012.1', 'NZ_JANDZW010000012.1', 'NZ_KV803777.1']"
   ]
  },
  {
   "cell_type": "code",
   "execution_count": 17,
   "metadata": {},
   "outputs": [],
   "source": [
    "V3V4_gg_correct_seqs = V3V4_gg.loc[correct_seqs_V3V4,:]\n",
    "V3V4_gg_correct_seqs_short_class = V3V4_gg_short_class.loc[correct_seqs_V3V4,:]\n",
    "V1V9_gg_correct_seqs = V1V9_gg.loc[correct_seqs_V1V9,:]\n",
    "illumina_gg_correct_seqs = illumina_gg.loc[correct_seqs_V3V4,:]\n",
    "pacbio_gg_correct_seqs = pacbio_gg.loc[correct_seqs_V1V9,:]"
   ]
  },
  {
   "cell_type": "markdown",
   "metadata": {},
   "source": [
    "#### 2.1 Unsimulated reads"
   ]
  },
  {
   "cell_type": "markdown",
   "metadata": {},
   "source": [
    "##### 2.1.1 V1-V9 versus V3-V4"
   ]
  },
  {
   "cell_type": "code",
   "execution_count": 18,
   "metadata": {},
   "outputs": [],
   "source": [
    "# Compare V1-V9 against V3-V4\n",
    "all_gg_highest_class, all_gg_highest_class_ratio = highest_classification([V3V4_gg_correct_seqs, V1V9_gg_correct_seqs], names=['V3-V4', 'V1-V9'])\n",
    "all_gg_correct_class, all_gg_correct_class_ratio = highest_classification_with_key([V3V4_gg_correct_seqs, V1V9_gg_correct_seqs], names=['V3-V4', 'V1-V9'], taxonomy=taxonomy, conversion_dict=conversion_dict)"
   ]
  },
  {
   "cell_type": "code",
   "execution_count": 30,
   "metadata": {},
   "outputs": [
    {
     "data": {
      "text/html": [
       "<div>\n",
       "<style scoped>\n",
       "    .dataframe tbody tr th:only-of-type {\n",
       "        vertical-align: middle;\n",
       "    }\n",
       "\n",
       "    .dataframe tbody tr th {\n",
       "        vertical-align: top;\n",
       "    }\n",
       "\n",
       "    .dataframe thead th {\n",
       "        text-align: right;\n",
       "    }\n",
       "</style>\n",
       "<table border=\"1\" class=\"dataframe\">\n",
       "  <thead>\n",
       "    <tr style=\"text-align: right;\">\n",
       "      <th></th>\n",
       "      <th>Unassigned</th>\n",
       "      <th>Kingdom</th>\n",
       "      <th>Phylum</th>\n",
       "      <th>Class</th>\n",
       "      <th>Order</th>\n",
       "      <th>Family</th>\n",
       "      <th>Genus</th>\n",
       "      <th>Species</th>\n",
       "    </tr>\n",
       "  </thead>\n",
       "  <tbody>\n",
       "    <tr>\n",
       "      <th>V3-V4</th>\n",
       "      <td>0</td>\n",
       "      <td>0</td>\n",
       "      <td>0</td>\n",
       "      <td>0</td>\n",
       "      <td>0</td>\n",
       "      <td>0</td>\n",
       "      <td>0.300000</td>\n",
       "      <td>0.700000</td>\n",
       "    </tr>\n",
       "    <tr>\n",
       "      <th>V1-V9</th>\n",
       "      <td>0</td>\n",
       "      <td>0</td>\n",
       "      <td>0</td>\n",
       "      <td>0</td>\n",
       "      <td>0</td>\n",
       "      <td>0</td>\n",
       "      <td>0.111111</td>\n",
       "      <td>0.888889</td>\n",
       "    </tr>\n",
       "  </tbody>\n",
       "</table>\n",
       "</div>"
      ],
      "text/plain": [
       "       Unassigned  Kingdom  Phylum  Class  Order  Family     Genus   Species\n",
       "V3-V4           0        0       0      0      0       0  0.300000  0.700000\n",
       "V1-V9           0        0       0      0      0       0  0.111111  0.888889"
      ]
     },
     "execution_count": 30,
     "metadata": {},
     "output_type": "execute_result"
    }
   ],
   "source": [
    "all_gg_highest_class_ratio"
   ]
  },
  {
   "cell_type": "code",
   "execution_count": 29,
   "metadata": {},
   "outputs": [
    {
     "data": {
      "text/html": [
       "<div>\n",
       "<style scoped>\n",
       "    .dataframe tbody tr th:only-of-type {\n",
       "        vertical-align: middle;\n",
       "    }\n",
       "\n",
       "    .dataframe tbody tr th {\n",
       "        vertical-align: top;\n",
       "    }\n",
       "\n",
       "    .dataframe thead th {\n",
       "        text-align: right;\n",
       "    }\n",
       "</style>\n",
       "<table border=\"1\" class=\"dataframe\">\n",
       "  <thead>\n",
       "    <tr style=\"text-align: right;\">\n",
       "      <th></th>\n",
       "      <th>Family</th>\n",
       "      <th>Genus</th>\n",
       "      <th>Species</th>\n",
       "    </tr>\n",
       "  </thead>\n",
       "  <tbody>\n",
       "    <tr>\n",
       "      <th>V3-V4</th>\n",
       "      <td>0.1</td>\n",
       "      <td>0.400000</td>\n",
       "      <td>0.500000</td>\n",
       "    </tr>\n",
       "    <tr>\n",
       "      <th>V1-V9</th>\n",
       "      <td>NaN</td>\n",
       "      <td>0.222222</td>\n",
       "      <td>0.777778</td>\n",
       "    </tr>\n",
       "  </tbody>\n",
       "</table>\n",
       "</div>"
      ],
      "text/plain": [
       "       Family     Genus   Species\n",
       "V3-V4     0.1  0.400000  0.500000\n",
       "V1-V9     NaN  0.222222  0.777778"
      ]
     },
     "execution_count": 29,
     "metadata": {},
     "output_type": "execute_result"
    }
   ],
   "source": [
    "all_gg_correct_class_ratio"
   ]
  },
  {
   "cell_type": "code",
   "execution_count": 20,
   "metadata": {},
   "outputs": [
    {
     "name": "stderr",
     "output_type": "stream",
     "text": [
      "/var/folders/8y/zlyjdkl554bfq25qgv0m1v5r0000gn/T/ipykernel_61111/3495035788.py:7: UserWarning: FixedFormatter should only be used together with FixedLocator\n",
      "  ax.set_yticklabels(['0', '20', '40', '60', '80', '100'], fontsize=15)\n"
     ]
    },
    {
     "data": {
      "image/png": "[encoded data removed]",
      "text/plain": [
       "<Figure size 432x288 with 1 Axes>"
      ]
     },
     "metadata": {
      "needs_background": "light"
     },
     "output_type": "display_data"
    }
   ],
   "source": [
    "# Plot the number of correct/incorrect classifications for each samples as a stacked barplot\n",
    "# Filter only levels with assignments to get the legend bar right\n",
    "to_plot_all_gg = all_gg_highest_class_ratio.loc[:, all_gg_highest_class_ratio.any()]\n",
    "\n",
    "fig, ax = plt.subplots()\n",
    "to_plot_all_gg.plot(kind='bar', color=color_levels_nokey, edgecolor='Black', stacked=True, ax=ax, fontsize=15)\n",
    "ax.set_yticklabels(['0', '20', '40', '60', '80', '100'], fontsize=15)\n",
    "ax.legend(bbox_to_anchor=(1.05, 1.0), loc='upper left', fontsize=15)\n",
    "ax.set_ylabel('Percentage of sequences [%]', fontsize=15)\n",
    "ax.set_title('A', fontsize=20)\n",
    "\n",
    "plt.show()\n",
    "\n",
    "fig.savefig('/Users/claranordquist/Documents/Universitetet/HT24/Tillämpad_bioinformatik/Applied-bioinformatics/05_Plot_the_results/02_Plots/01_Unsimulated_reads/V1V9_V3V4_without_key.png', bbox_inches='tight')"
   ]
  },
  {
   "cell_type": "code",
   "execution_count": 21,
   "metadata": {},
   "outputs": [
    {
     "name": "stderr",
     "output_type": "stream",
     "text": [
      "/var/folders/8y/zlyjdkl554bfq25qgv0m1v5r0000gn/T/ipykernel_61111/2787430664.py:4: UserWarning: FixedFormatter should only be used together with FixedLocator\n",
      "  ax.set_yticklabels(['0', '20', '40', '60', '80', '100'], fontsize=15)\n"
     ]
    },
    {
     "data": {
      "image/png": "[encoded data removed]",
      "text/plain": [
       "<Figure size 432x288 with 1 Axes>"
      ]
     },
     "metadata": {
      "needs_background": "light"
     },
     "output_type": "display_data"
    }
   ],
   "source": [
    "# Plot the number of correct/incorrect classifications for each samples as a stacked barplot\n",
    "fig, ax = plt.subplots()\n",
    "all_gg_correct_class_ratio.plot(kind='bar', color=color_levels_key, edgecolor='Black', stacked=True, ax=ax, legend=False, fontsize=15)\n",
    "ax.set_yticklabels(['0', '20', '40', '60', '80', '100'], fontsize=15)\n",
    "ax.legend(bbox_to_anchor=(1.05, 1.0), loc='upper left', fontsize=15)\n",
    "ax.set_title('B', fontsize=20)\n",
    "ax.set_ylabel('Percentage of sequences [%]', fontsize=15)\n",
    "\n",
    "plt.show()\n",
    "\n",
    "fig.savefig('/Users/claranordquist/Documents/Universitetet/HT24/Tillämpad_bioinformatik/Applied-bioinformatics/05_Plot_the_results/02_Plots/01_Unsimulated_reads/V1V9_V3V4_with_key.png', bbox_inches='tight')"
   ]
  },
  {
   "cell_type": "markdown",
   "metadata": {},
   "source": [
    "##### 2.1.2 Long vs short classifier"
   ]
  },
  {
   "cell_type": "code",
   "execution_count": 22,
   "metadata": {},
   "outputs": [],
   "source": [
    "long_vs_short_highest_class, long_vs_short_highest_class_ratio = highest_classification([V3V4_gg_correct_seqs_short_class, V3V4_gg_correct_seqs], names=['Short', 'Full-length'])\n",
    "long_vs_short_correct_class, long_vs_short_correct_class_ratio = highest_classification_with_key([V3V4_gg_correct_seqs_short_class, V3V4_gg_correct_seqs], names=['Short', 'Full-length'], taxonomy=taxonomy, conversion_dict=conversion_dict)"
   ]
  },
  {
   "cell_type": "code",
   "execution_count": 23,
   "metadata": {},
   "outputs": [
    {
     "name": "stderr",
     "output_type": "stream",
     "text": [
      "/var/folders/8y/zlyjdkl554bfq25qgv0m1v5r0000gn/T/ipykernel_61111/963331723.py:7: UserWarning: FixedFormatter should only be used together with FixedLocator\n",
      "  ax.set_yticklabels(['0', '20', '40', '60', '80', '100'], fontsize=15)\n"
     ]
    },
    {
     "data": {
      "image/png": "[encoded data removed]",
      "text/plain": [
       "<Figure size 432x288 with 1 Axes>"
      ]
     },
     "metadata": {
      "needs_background": "light"
     },
     "output_type": "display_data"
    }
   ],
   "source": [
    "# Plot the number of correct/incorrect classifications for each samples as a stacked barplot\n",
    "# Filter only levels with assignments to get the legend bar right\n",
    "to_plot_long_vs_short = long_vs_short_highest_class_ratio.loc[:, long_vs_short_highest_class_ratio.any()]\n",
    "\n",
    "fig, ax = plt.subplots()\n",
    "to_plot_long_vs_short.plot(kind='bar', color=color_levels_nokey, edgecolor='Black', stacked=True, ax=ax, legend=False, fontsize=15)\n",
    "ax.set_yticklabels(['0', '20', '40', '60', '80', '100'], fontsize=15)\n",
    "ax.legend(bbox_to_anchor=(1.05, 1.0), loc='upper left', fontsize=15)\n",
    "ax.set_ylabel('Percentage of sequences [%]', fontsize=15)\n",
    "ax.set_title('A', fontsize=20)\n",
    "\n",
    "plt.show()\n",
    "\n",
    "fig.savefig('/Users/claranordquist/Documents/Universitetet/HT24/Tillämpad_bioinformatik/Applied-bioinformatics/05_Plot_the_results/02_Plots/01_Unsimulated_reads/Long_vs_short_without_key.png', bbox_inches='tight')"
   ]
  },
  {
   "cell_type": "code",
   "execution_count": 24,
   "metadata": {},
   "outputs": [
    {
     "name": "stderr",
     "output_type": "stream",
     "text": [
      "/var/folders/8y/zlyjdkl554bfq25qgv0m1v5r0000gn/T/ipykernel_61111/1080359381.py:4: UserWarning: FixedFormatter should only be used together with FixedLocator\n",
      "  ax.set_yticklabels(['0', '20', '40', '60', '80', '100'], fontsize=15)\n"
     ]
    },
    {
     "data": {
      "image/png": "[encoded data removed]",
      "text/plain": [
       "<Figure size 432x288 with 1 Axes>"
      ]
     },
     "metadata": {
      "needs_background": "light"
     },
     "output_type": "display_data"
    }
   ],
   "source": [
    "# Plot the number of correct/incorrect classifications for each samples as a stacked barplot\n",
    "fig, ax = plt.subplots()\n",
    "long_vs_short_correct_class_ratio.plot(kind='bar', color=color_levels_key, edgecolor='Black', stacked=True, ax=ax, legend=False, fontsize=15)\n",
    "ax.set_yticklabels(['0', '20', '40', '60', '80', '100'], fontsize=15)\n",
    "ax.legend(bbox_to_anchor=(1.05, 1.0), loc='upper left', fontsize=15)\n",
    "ax.set_title('B', fontsize=20)\n",
    "ax.set_ylabel('Percentage of sequences [%]', fontsize=15)\n",
    "\n",
    "plt.show()\n",
    "\n",
    "fig.savefig('/Users/claranordquist/Documents/Universitetet/HT24/Tillämpad_bioinformatik/Applied-bioinformatics/05_Plot_the_results/02_Plots/01_Unsimulated_reads/Long_vs_short_with_key.png', bbox_inches='tight')"
   ]
  },
  {
   "cell_type": "markdown",
   "metadata": {},
   "source": [
    "##### 2.2 Simulated reads"
   ]
  },
  {
   "cell_type": "code",
   "execution_count": 25,
   "metadata": {},
   "outputs": [],
   "source": [
    "simulated_gg_highest_class, simulated_gg_highest_class_ratio = highest_classification([illumina_gg_correct_seqs, pacbio_gg_correct_seqs], names=['Illumina', 'PacBio'])\n",
    "simulated_gg_correct_class, simulated_gg_correct_class_ratio = highest_classification_with_key([illumina_gg_correct_seqs, pacbio_gg_correct_seqs], names=['Illumina', 'PacBio'], taxonomy=taxonomy, conversion_dict=conversion_dict)"
   ]
  },
  {
   "cell_type": "code",
   "execution_count": 26,
   "metadata": {},
   "outputs": [
    {
     "name": "stderr",
     "output_type": "stream",
     "text": [
      "/var/folders/8y/zlyjdkl554bfq25qgv0m1v5r0000gn/T/ipykernel_61111/2791571386.py:7: UserWarning: FixedFormatter should only be used together with FixedLocator\n",
      "  ax.set_yticklabels(['0', '20', '40', '60', '80', '100'], fontsize=15)\n"
     ]
    },
    {
     "data": {
      "image/png": "[encoded data removed]",
      "text/plain": [
       "<Figure size 432x288 with 1 Axes>"
      ]
     },
     "metadata": {
      "needs_background": "light"
     },
     "output_type": "display_data"
    }
   ],
   "source": [
    "# Plot the number of correct/incorrect classifications for each samples as a stacked barplot\n",
    "# Filter only levels with assignments to get the legend bar right\n",
    "to_plot_all_simulated = simulated_gg_highest_class_ratio.loc[:, simulated_gg_highest_class_ratio.any()]\n",
    "\n",
    "fig, ax = plt.subplots()\n",
    "to_plot_all_simulated.plot(kind='bar', color=color_levels_nokey, edgecolor='Black', stacked=True, ax=ax, legend=False, fontsize=15)\n",
    "ax.set_yticklabels(['0', '20', '40', '60', '80', '100'], fontsize=15)\n",
    "ax.legend(bbox_to_anchor=(1.05, 1.0), loc='upper left', fontsize=15)\n",
    "ax.set_ylabel('Percentage of sequences [%]', fontsize=15)\n",
    "ax.set_title('A', fontsize=20)\n",
    "\n",
    "plt.show()\n",
    "\n",
    "fig.savefig('/Users/claranordquist/Documents/Universitetet/HT24/Tillämpad_bioinformatik/Applied-bioinformatics/05_Plot_the_results/02_Plots/02_Simulated_reads/Simulated_without_key.png', bbox_inches='tight')"
   ]
  },
  {
   "cell_type": "code",
   "execution_count": 27,
   "metadata": {},
   "outputs": [
    {
     "name": "stderr",
     "output_type": "stream",
     "text": [
      "/var/folders/8y/zlyjdkl554bfq25qgv0m1v5r0000gn/T/ipykernel_61111/3716500236.py:4: UserWarning: FixedFormatter should only be used together with FixedLocator\n",
      "  ax.set_yticklabels(['0', '20', '40', '60', '80', '100'], fontsize=15)\n"
     ]
    },
    {
     "data": {
      "image/png": "[encoded data removed]",
      "text/plain": [
       "<Figure size 432x288 with 1 Axes>"
      ]
     },
     "metadata": {
      "needs_background": "light"
     },
     "output_type": "display_data"
    }
   ],
   "source": [
    "# Plot the number of correct/incorrect classifications for each samples as a stacked barplot\n",
    "fig, ax = plt.subplots()\n",
    "simulated_gg_correct_class_ratio.plot(kind='bar', color=color_levels_key, edgecolor='Black', stacked=True, ax=ax, legend=False, fontsize=15)\n",
    "ax.set_yticklabels(['0', '20', '40', '60', '80', '100'], fontsize=15)\n",
    "ax.legend(bbox_to_anchor=(1.05, 1.0), loc='upper left', fontsize=15)\n",
    "ax.set_title('B', fontsize=20)\n",
    "ax.set_ylabel('Percentage of sequences [%]', fontsize=15)\n",
    "\n",
    "plt.show()\n",
    "\n",
    "fig.savefig('/Users/claranordquist/Documents/Universitetet/HT24/Tillämpad_bioinformatik/Applied-bioinformatics/05_Plot_the_results/02_Plots/02_Simulated_reads/Simulated_with_key.png', bbox_inches='tight')"
   ]
  }
 ],
 "metadata": {
  "kernelspec": {
   "display_name": "base",
   "language": "python",
   "name": "python3"
  },
  "language_info": {
   "codemirror_mode": {
    "name": "ipython",
    "version": 3
   },
   "file_extension": ".py",
   "mimetype": "text/x-python",
   "name": "python",
   "nbconvert_exporter": "python",
   "pygments_lexer": "ipython3",
   "version": "3.8.8"
  }
 },
 "nbformat": 4,
 "nbformat_minor": 2
}

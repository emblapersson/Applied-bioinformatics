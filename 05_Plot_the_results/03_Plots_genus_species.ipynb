{
 "cells": [
  {
   "cell_type": "code",
   "execution_count": 35,
   "metadata": {},
   "outputs": [],
   "source": [
    "# Describe the data\n",
    "# samples = ['Illumina', 'Fasta short reads', 'Fasta long reads']\n",
    "samples = ['Fasta short reads', 'Fasta long reads']\n",
    "# input_illumina = '/Users/claranordquist/Documents/Universitetet/HT24/Tillämpad_bioinformatik/Applied-bioinformatics/05_Plot_the_results/01_Data/Illumina_simulated/Illumina_names_fixed.csv'\n",
    "input_fasta_short = '/Users/claranordquist/Documents/Universitetet/HT24/Tillämpad_bioinformatik/Applied-bioinformatics/05_Plot_the_results/01_Data/Silva/Fasta_short_reads/Fasta_short_reads_names_fixed.csv'\n",
    "input_fasta_long = '/Users/claranordquist/Documents/Universitetet/HT24/Tillämpad_bioinformatik/Applied-bioinformatics/05_Plot_the_results/01_Data/Silva/Fasta_long_reads/Fasta_long_reads_names_fixed.csv'\n",
    "taxonomy_key = '/Users/claranordquist/Documents/Universitetet/HT24/Tillämpad_bioinformatik/Applied-bioinformatics/01_Collect_sequences/02_Sequences/Downloaded_5dec/Taxonomy_species_genus_corrected.csv'\n",
    "conversion_table = '/Users/claranordquist/Documents/Universitetet/HT24/Tillämpad_bioinformatik/Applied-bioinformatics/05_Plot_the_results/01_Data/Species_conversion.txt'"
   ]
  },
  {
   "cell_type": "code",
   "execution_count": 2,
   "metadata": {},
   "outputs": [],
   "source": [
    "# Import packages\n",
    "import pandas as pd\n",
    "import matplotlib.pyplot as plt"
   ]
  },
  {
   "cell_type": "code",
   "execution_count": 36,
   "metadata": {},
   "outputs": [],
   "source": [
    "# Read the data\n",
    "# illumina = pd.read_csv(input_illumina, index_col='index')\n",
    "fasta_short = pd.read_csv(input_fasta_short, index_col='Feature ID')\n",
    "fasta_long = pd.read_csv(input_fasta_long, index_col='Feature ID')\n",
    "taxonomy = pd.read_csv(taxonomy_key, index_col='Feature ID')\n",
    "conversion = pd.read_csv(conversion_table)\n",
    "\n",
    "taxonomic_levels = ['Kingdom', 'Phylum', 'Class', 'Order', 'Family', 'Genus', 'Species']\n",
    "\n",
    "# Create a conversion dictionary for species with multiple names\n",
    "conversion.columns = ['Species', 'Synonyms']\n",
    "conversion_dict = {}\n",
    "for ID in conversion.index:\n",
    "    if conversion.loc[ID, 'Species'] not in conversion_dict.keys():\n",
    "        conversion_dict[conversion.loc[ID, 'Species']] = [conversion.loc[ID, 'Synonyms']]\n",
    "    else:\n",
    "        conversion_dict[conversion.loc[ID, 'Species']].append(conversion.loc[ID, 'Synonyms'])"
   ]
  },
  {
   "cell_type": "code",
   "execution_count": 49,
   "metadata": {},
   "outputs": [],
   "source": [
    "# Decide on the color maps for each taxonomic level, as well as for correct/incorrent classification\n",
    "# Correct classification = Green\n",
    "# Different taxonomic levels = Ligher or darker colors\n",
    "\n",
    "# Number of taxonomic levels\n",
    "n = len(taxonomic_levels)\n",
    "\n",
    "# Create the color maps\n",
    "cmap_correct = plt.cm.get_cmap('Blues', n+1)\n",
    "\n",
    "color_levels = {}\n",
    "for i in range(1, n+1):\n",
    "    color_levels[taxonomic_levels[i-1]] = cmap_correct(i)\n",
    "\n",
    "color_levels['Unassigned'] = 'orange'"
   ]
  },
  {
   "cell_type": "code",
   "execution_count": 40,
   "metadata": {},
   "outputs": [],
   "source": [
    "fasta_short.drop('Confidence', axis=1, inplace=True)\n",
    "fasta_long.drop('Confidence', axis=1, inplace=True)"
   ]
  },
  {
   "cell_type": "markdown",
   "metadata": {},
   "source": [
    "### Without key"
   ]
  },
  {
   "cell_type": "code",
   "execution_count": 6,
   "metadata": {},
   "outputs": [],
   "source": [
    "def find_class_levels_nokey(dataframe):\n",
    "    '''Takes a dataframe and calculates the number of sequences that have been classified (not NA) to the different\n",
    "    taxonomical levels regardless of if the classification is correct or not.\n",
    "    Input: Dataframe with sequences (rows, R) and taxonomical classification at different levels (columns, C)\n",
    "    Output: Two dataframes containing:\n",
    "    - N° sequences (in total) classified at each level (C*1)\n",
    "    - N° sequences that have each taxonomic level as their highest (1*C)'''\n",
    "\n",
    "    # Number of unassigned\n",
    "    ua = dataframe.value_counts('Kingdom')['Unassigned']\n",
    "\n",
    "    # Count number of not-null cells at each taxonomic level (column)\n",
    "    class_all_levels = dataframe.notnull().sum()\n",
    "    class_all_levels['Kingdom'] = class_all_levels['Kingdom'] - ua\n",
    "    class_highest_level = class_all_levels.copy(deep=True)\n",
    "\n",
    "    # Loop through the levels and calculate the number of sequences with each level as their highest classification\n",
    "    for level in range(len(class_all_levels)-1):\n",
    "        class_highest_level[level] -= class_all_levels[level+1]\n",
    "    class_all_levels = class_all_levels.to_frame()\n",
    "    class_all_levels = pd.concat([class_all_levels, pd.DataFrame([6], index=['Unassigned'], columns=class_all_levels.columns)])\n",
    "\n",
    "    class_highest_level = pd.concat([class_highest_level, pd.DataFrame([6], index=['Unassigned'], columns=class_all_levels.columns)])\n",
    "    class_highest_level = class_highest_level.transpose()\n",
    "\n",
    "    return class_all_levels, class_highest_level"
   ]
  },
  {
   "cell_type": "code",
   "execution_count": 50,
   "metadata": {},
   "outputs": [
    {
     "name": "stdout",
     "output_type": "stream",
     "text": [
      "                    Kingdom  Phylum  Class  Order  Family     Genus  Species  \\\n",
      "Fasta short reads  0.085106       0      0      0       0  0.787234        0   \n",
      "Fasta long reads   0.021277       0      0      0       0  0.851064        0   \n",
      "\n",
      "                   Unassigned  \n",
      "Fasta short reads     0.12766  \n",
      "Fasta long reads      0.12766  \n"
     ]
    }
   ],
   "source": [
    "# illumina_all, illumina_highest = find_class_levels_nokey(illumina)\n",
    "fasta_short_all, fasta_short_highest = find_class_levels_nokey(fasta_short)\n",
    "fasta_long_all, fasta_long_highest = find_class_levels_nokey(fasta_long)\n",
    "\n",
    "all_all = pd.concat([fasta_short_all, fasta_long_all], axis=1)\n",
    "all_all.columns = samples\n",
    "all_highest = pd.concat([fasta_short_highest, fasta_long_highest])\n",
    "all_highest.index = samples\n",
    "\n",
    "all_highest_ratio = all_highest.copy(deep=True)\n",
    "for sample in range(len(samples)):\n",
    "    all_highest_ratio.iloc[sample,:] /= all_highest.iloc[sample,:].sum()\n",
    "\n",
    "print(all_highest_ratio)"
   ]
  },
  {
   "cell_type": "code",
   "execution_count": 52,
   "metadata": {},
   "outputs": [],
   "source": [
    "all_highest_ratio.columns = pd.CategoricalIndex(all_highest_ratio.columns.values, ordered=True, categories=['Unassigned'] + taxonomic_levels)\n",
    "all_highest_ratio = all_highest_ratio.sort_index(axis=1)"
   ]
  },
  {
   "cell_type": "code",
   "execution_count": 53,
   "metadata": {},
   "outputs": [
    {
     "name": "stderr",
     "output_type": "stream",
     "text": [
      "/var/folders/8y/zlyjdkl554bfq25qgv0m1v5r0000gn/T/ipykernel_6780/2974233544.py:4: UserWarning: FixedFormatter should only be used together with FixedLocator\n",
      "  ax.set_yticklabels(['0', '20', '40', '60', '80', '100'])\n"
     ]
    },
    {
     "data": {
      "image/png": "[encoded data removed]",
      "text/plain": [
       "<Figure size 432x288 with 1 Axes>"
      ]
     },
     "metadata": {
      "needs_background": "light"
     },
     "output_type": "display_data"
    }
   ],
   "source": [
    "# Plot the number of correct/incorrect classifications for each samples as a stacked barplot\n",
    "fig, ax = plt.subplots()\n",
    "all_highest_ratio.plot(kind='bar', color=color_levels, edgecolor='Black', stacked=True, ax=ax)\n",
    "ax.set_yticklabels(['0', '20', '40', '60', '80', '100'])\n",
    "ax.legend(bbox_to_anchor=(1.05, 1.0), loc='upper left')\n",
    "ax.set_title('Lowest taxonomic level of classification (SILVA)')\n",
    "ax.set_ylabel('Percentage of sequences [%]')\n",
    "plt.show()"
   ]
  },
  {
   "cell_type": "markdown",
   "metadata": {},
   "source": [
    "### With key"
   ]
  },
  {
   "cell_type": "code",
   "execution_count": 13,
   "metadata": {},
   "outputs": [],
   "source": [
    "# Find misclassified sequences\n",
    "def find_misclassified(dataframe, correct_classification, conversion_table):\n",
    "    # Create a copy to not mess with the original datafiles\n",
    "    dataframe_genus_species = dataframe.applymap(lambda x: x.strip() if type(x)==str else x)\n",
    "    taxonomy_genus_species = correct_classification.applymap(lambda x: x.strip() if type(x)==str else x)\n",
    "    # dataframe_genus_species = dataframe.copy(deep=True)[['Genus', 'Species']]\n",
    "    # taxonomy_genus_species = correct_classification.copy(deep=True)[['Genus', 'Species']]\n",
    "    # taxonomy_genus_species['Genus'] = taxonomy_genus_species['Genus'].str.strip()\n",
    "    # taxonomy_genus_species['Species'] = taxonomy_genus_species['Species'].str.strip()\n",
    "\n",
    "    # Look through all sequences\n",
    "    for ID in dataframe.index:\n",
    "        # If the whole species name (genus + species) is the same as the taxonomy, the classification is correct\n",
    "        # If only the species name is the same, it's maybe incorrect\n",
    "        if dataframe_genus_species.loc[ID,'Species'] == taxonomy_genus_species.loc[ID,'Species']:\n",
    "            if dataframe_genus_species.loc[ID,'Genus'] == taxonomy_genus_species.loc[ID,'Genus']:\n",
    "                correct = 'Species'\n",
    "            else:\n",
    "                if not pd.isna(dataframe_genus_species.loc[ID,'Species']):\n",
    "                    name = dataframe_genus_species.loc[ID,'Genus'] + ' ' + dataframe_genus_species.loc[ID,'Species']\n",
    "                    tax = taxonomy_genus_species.loc[ID,'Genus'] + ' ' + taxonomy_genus_species.loc[ID,'Species']\n",
    "\n",
    "                    if name in conversion_table.keys():\n",
    "                        if tax in conversion_table[name]:\n",
    "                            correct = 'Species'\n",
    "        \n",
    "        else:\n",
    "            for level in reversed(dataframe.columns[:-1]):\n",
    "                if dataframe_genus_species.loc[ID,level] == taxonomy_genus_species.loc[ID,level]:\n",
    "                    correct = level\n",
    "                    break\n",
    "                else:\n",
    "                    correct = 'Unassigned'\n",
    "            if dataframe_genus_species.loc[ID, 'Kingdom'] != taxonomy_genus_species.loc[ID, 'Kingdom']:\n",
    "                correct = 'Wrong kingdom'\n",
    "\n",
    "        # Check if the incorrect classifications is because of redudant names by consulting the conversion table            \n",
    "        dataframe_genus_species.loc[ID, 'Correct'] = correct\n",
    "\n",
    "    return dataframe_genus_species"
   ]
  },
  {
   "cell_type": "code",
   "execution_count": 14,
   "metadata": {},
   "outputs": [],
   "source": [
    "def classification_stats(dataframe):\n",
    "    correct_sequences = dataframe['Correct'].value_counts()\n",
    "    return pd.Series.to_frame(correct_sequences).transpose()"
   ]
  },
  {
   "cell_type": "code",
   "execution_count": 41,
   "metadata": {},
   "outputs": [],
   "source": [
    "fasta_short['Phylum']=fasta_short['Phylum'].str.replace('Firmicutes', ' Bacillota')\n",
    "fasta_long['Phylum']=fasta_long['Phylum'].str.replace('Firmicutes', ' Bacillota')"
   ]
  },
  {
   "cell_type": "code",
   "execution_count": 42,
   "metadata": {},
   "outputs": [
    {
     "name": "stdout",
     "output_type": "stream",
     "text": [
      "                    Kingdom     Genus  Wrong kingdom\n",
      "Fasta short reads  0.636364  0.227273       0.136364\n",
      "Fasta long reads   0.681818  0.204545       0.113636\n"
     ]
    }
   ],
   "source": [
    "# illumina_misclassified = find_misclassified(illumina, taxonomy, conversion_dict)\n",
    "fasta_short_misclassified = find_misclassified(fasta_short, taxonomy, conversion_dict)\n",
    "fasta_long_misclassified = find_misclassified(fasta_long, taxonomy, conversion_dict)\n",
    "\n",
    "# illumina_stats = classification_stats(illumina_misclassified)\n",
    "fasta_short_stats = classification_stats(fasta_short_misclassified)\n",
    "fasta_long_stats = classification_stats(fasta_long_misclassified)\n",
    "all_stats = pd.concat([fasta_short_stats, fasta_long_stats])\n",
    "all_stats.index = samples\n",
    "\n",
    "all_stats_ratio = all_stats.copy(deep=True)\n",
    "for sample in range(len(samples)):\n",
    "    all_stats_ratio.iloc[sample,:] /= all_stats.iloc[sample,:].sum()\n",
    "\n",
    "print(all_stats_ratio)"
   ]
  },
  {
   "cell_type": "code",
   "execution_count": 43,
   "metadata": {},
   "outputs": [],
   "source": [
    "all_stats_ratio.columns = pd.CategoricalIndex(all_stats_ratio.columns.values, ordered=True, categories=['Wrong kingdom'] + ['Unassigned'] + taxonomic_levels)\n",
    "all_stats_ratio = all_stats_ratio.sort_index(axis=1)"
   ]
  },
  {
   "cell_type": "code",
   "execution_count": 44,
   "metadata": {},
   "outputs": [
    {
     "name": "stderr",
     "output_type": "stream",
     "text": [
      "/var/folders/8y/zlyjdkl554bfq25qgv0m1v5r0000gn/T/ipykernel_6780/4082572780.py:6: UserWarning: FixedFormatter should only be used together with FixedLocator\n",
      "  ax.set_yticklabels(['0', '20', '40', '60', '80', '100'])\n"
     ]
    },
    {
     "data": {
      "image/png": "[encoded data removed]",
      "text/plain": [
       "<Figure size 432x288 with 1 Axes>"
      ]
     },
     "metadata": {
      "needs_background": "light"
     },
     "output_type": "display_data"
    }
   ],
   "source": [
    "# Plot the number of correct/incorrect classifications for each samples as a stacked barplot\n",
    "color_levels['Wrong kingdom'] = 'crimson'\n",
    "\n",
    "fig, ax = plt.subplots()\n",
    "all_stats_ratio.plot(kind='bar', color=color_levels, edgecolor='Black', stacked=True, ax=ax)\n",
    "ax.set_yticklabels(['0', '20', '40', '60', '80', '100'])\n",
    "ax.legend(bbox_to_anchor=(1.05, 1.0), loc='upper left')\n",
    "ax.set_title('Lowest taxonomic level of correct classification (SILVA)')\n",
    "ax.set_ylabel('Percentage of sequences [%]')\n",
    "plt.show()"
   ]
  }
 ],
 "metadata": {
  "kernelspec": {
   "display_name": "base",
   "language": "python",
   "name": "python3"
  },
  "language_info": {
   "codemirror_mode": {
    "name": "ipython",
    "version": 3
   },
   "file_extension": ".py",
   "mimetype": "text/x-python",
   "name": "python",
   "nbconvert_exporter": "python",
   "pygments_lexer": "ipython3",
   "version": "3.8.8"
  }
 },
 "nbformat": 4,
 "nbformat_minor": 2
}

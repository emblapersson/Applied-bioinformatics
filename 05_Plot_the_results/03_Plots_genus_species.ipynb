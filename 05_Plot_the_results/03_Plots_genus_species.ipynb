{
 "cells": [
  {
   "cell_type": "code",
   "execution_count": 1,
   "metadata": {},
   "outputs": [],
   "source": [
    "# Describe the data\n",
    "samples = ['Illumina', 'Fasta short reads', 'Fasta long reads']\n",
    "input_illumina = '/Users/claranordquist/Documents/Universitetet/HT24/Tillämpad_bioinformatik/Applied-bioinformatics/05_Plot_the_results/01_Data/Illumina_simulated/Illumina_names_fixed.csv'\n",
    "input_fasta_short = '/Users/claranordquist/Documents/Universitetet/HT24/Tillämpad_bioinformatik/Applied-bioinformatics/05_Plot_the_results/01_Data/Fasta_short_reads/Fasta_short_reads_fixed.csv'\n",
    "input_fasta_long = '/Users/claranordquist/Documents/Universitetet/HT24/Tillämpad_bioinformatik/Applied-bioinformatics/05_Plot_the_results/01_Data/Fasta_long_reads/Fasta_long_reads_fixed.csv'\n",
    "taxonomy_key = '/Users/claranordquist/Documents/Universitetet/HT24/Tillämpad_bioinformatik/Applied-bioinformatics/01_Collect_sequences/02_Sequences/Downloaded_5dec/Taxonomy_species_genus_corrected.csv'\n",
    "convertion_table = '/Users/claranordquist/Documents/Universitetet/HT24/Tillämpad_bioinformatik/Applied-bioinformatics/05_Plot_the_results/01_Data/Species_convertion.txt'"
   ]
  },
  {
   "cell_type": "code",
   "execution_count": 2,
   "metadata": {},
   "outputs": [],
   "source": [
    "# Import packages\n",
    "import pandas as pd\n",
    "import matplotlib.pyplot as plt"
   ]
  },
  {
   "cell_type": "code",
   "execution_count": 3,
   "metadata": {},
   "outputs": [],
   "source": [
    "# Read the data\n",
    "illumina = pd.read_csv(input_illumina, index_col='index')\n",
    "fasta_short = pd.read_csv(input_fasta_short, index_col='Feature ID')\n",
    "fasta_long = pd.read_csv(input_fasta_long, index_col='Feature ID')\n",
    "taxonomy = pd.read_csv(taxonomy_key, index_col='Feature ID')\n",
    "convertion = pd.read_csv(convertion_table)\n",
    "\n",
    "taxonomic_levels = ['Kingdom', 'Phylum', 'Class', 'Order', 'Family', 'Genus', 'Species']\n",
    "\n",
    "# Create a convertion dictionary for species with multiple names\n",
    "convertion.columns = ['Species', 'Synonyms']\n",
    "convertion_dict = {}\n",
    "for ID in convertion.index:\n",
    "    if convertion.loc[ID, 'Species'] not in convertion_dict.keys():\n",
    "        convertion_dict[convertion.loc[ID, 'Species']] = [convertion.loc[ID, 'Synonyms']]\n",
    "    else:\n",
    "        convertion_dict[convertion.loc[ID, 'Species']].append(convertion.loc[ID, 'Synonyms'])"
   ]
  },
  {
   "cell_type": "code",
   "execution_count": 4,
   "metadata": {},
   "outputs": [],
   "source": [
    "# Find misclassified sequences\n",
    "def find_misclassified(dataframe, correct_classification, convertion_table):\n",
    "    # Create a copy to not mess with the original datafiles\n",
    "    dataframe_genus_species = dataframe.applymap(lambda x: x.strip() if type(x)==str else x)\n",
    "    taxonomy_genus_species = correct_classification.applymap(lambda x: x.strip() if type(x)==str else x)\n",
    "    # dataframe_genus_species = dataframe.copy(deep=True)[['Genus', 'Species']]\n",
    "    # taxonomy_genus_species = correct_classification.copy(deep=True)[['Genus', 'Species']]\n",
    "    # taxonomy_genus_species['Genus'] = taxonomy_genus_species['Genus'].str.strip()\n",
    "    # taxonomy_genus_species['Species'] = taxonomy_genus_species['Species'].str.strip()\n",
    "\n",
    "    # Look through all sequences\n",
    "    for ID in dataframe.index:\n",
    "        # If the whole species name (genus + species) is the same as the taxonomy, the classification is correct\n",
    "        # If only the species name is the same, it's maybe incorrect\n",
    "        if dataframe_genus_species.loc[ID,'Species'] == taxonomy_genus_species.loc[ID,'Species']:\n",
    "            if dataframe_genus_species.loc[ID,'Genus'] == taxonomy_genus_species.loc[ID,'Genus']:\n",
    "                correct = 'Species'\n",
    "            else:\n",
    "                correct = 'Incorrect'\n",
    "        \n",
    "        else:\n",
    "            for level in reversed(dataframe.columns[:-1]):\n",
    "                if dataframe_genus_species.loc[ID,level] == taxonomy_genus_species.loc[ID,level]:\n",
    "                    correct = level\n",
    "                    break\n",
    "                else:\n",
    "                    correct = 'Unassigned'\n",
    "\n",
    "        # Check if the incorrect classifications is because of redudant names by consulting the convertion table\n",
    "        if correct == 'Incorrect':\n",
    "            if not pd.isna(dataframe_genus_species.loc[ID,'Species']):\n",
    "                name = dataframe_genus_species.loc[ID,'Genus'] + ' ' + dataframe_genus_species.loc[ID,'Species']\n",
    "                tax = taxonomy_genus_species.loc[ID,'Genus'] + ' ' + taxonomy_genus_species.loc[ID,'Species']\n",
    "\n",
    "                if name in convertion_table.keys():\n",
    "                    if tax in convertion_table[name]:\n",
    "                        correct = 'Species'\n",
    "        dataframe_genus_species.loc[ID, 'Correct'] = correct\n",
    "\n",
    "    return dataframe_genus_species"
   ]
  },
  {
   "cell_type": "code",
   "execution_count": 5,
   "metadata": {},
   "outputs": [],
   "source": [
    "def classification_stats(dataframe):\n",
    "    correct_sequences = dataframe['Correct'].value_counts()\n",
    "    return pd.Series.to_frame(correct_sequences).transpose()"
   ]
  },
  {
   "cell_type": "code",
   "execution_count": 6,
   "metadata": {},
   "outputs": [
    {
     "name": "stdout",
     "output_type": "stream",
     "text": [
      "                    Kingdom  Unassigned     Genus   Species    Family  \\\n",
      "Illumina           0.666667    0.200000  0.088889  0.044444       NaN   \n",
      "Fasta short reads  0.644444    0.111111  0.111111  0.111111  0.022222   \n",
      "Fasta long reads   0.613636    0.136364  0.045455  0.181818       NaN   \n",
      "\n",
      "                      Class  \n",
      "Illumina                NaN  \n",
      "Fasta short reads       NaN  \n",
      "Fasta long reads   0.022727  \n"
     ]
    }
   ],
   "source": [
    "illumina_misclassified = find_misclassified(illumina, taxonomy, convertion_dict)\n",
    "fasta_short_misclassified = find_misclassified(fasta_short, taxonomy, convertion_dict)\n",
    "fasta_long_misclassified = find_misclassified(fasta_long, taxonomy, convertion_dict)\n",
    "\n",
    "illumina_stats = classification_stats(illumina_misclassified)\n",
    "fasta_short_stats = classification_stats(fasta_short_misclassified)\n",
    "fasta_long_stats = classification_stats(fasta_long_misclassified)\n",
    "all_stats = pd.concat([illumina_stats, fasta_short_stats, fasta_long_stats])\n",
    "all_stats.index = samples\n",
    "\n",
    "all_stats_ratio = all_stats.copy(deep=True)\n",
    "for sample in range(len(samples)):\n",
    "    all_stats_ratio.iloc[sample,:] /= all_stats.iloc[sample,:].sum()\n",
    "\n",
    "print(all_stats_ratio)"
   ]
  },
  {
   "cell_type": "code",
   "execution_count": 7,
   "metadata": {},
   "outputs": [],
   "source": [
    "# Decide on the color maps for each taxonomic level, as well as for correct/incorrent classification\n",
    "# Correct classification = Green\n",
    "# Incorrect classification = Red\n",
    "# Different taxonomic levels = Ligher or darker colors\n",
    "\n",
    "# Number of taxonomic levels\n",
    "n = len(taxonomic_levels)\n",
    "\n",
    "# Create the color maps\n",
    "cmap_correct = plt.cm.get_cmap('Greens', n)\n",
    "\n",
    "color_levels = {}\n",
    "for i in range(n):\n",
    "    color_levels[taxonomic_levels[i]] = cmap_correct(i)\n",
    "\n",
    "color_levels['Incorrect'] = 'crimson'\n",
    "color_levels['Unassigned'] = 'lightblue'"
   ]
  },
  {
   "cell_type": "code",
   "execution_count": 8,
   "metadata": {},
   "outputs": [
    {
     "name": "stderr",
     "output_type": "stream",
     "text": [
      "/var/folders/8y/zlyjdkl554bfq25qgv0m1v5r0000gn/T/ipykernel_2369/510883640.py:5: UserWarning: FixedFormatter should only be used together with FixedLocator\n",
      "  ax.set_yticklabels(['0', '20', '40', '60', '80', '100'])\n"
     ]
    },
    {
     "data": {
      "image/png": "[encoded data removed]",
      "text/plain": [
       "<Figure size 432x288 with 1 Axes>"
      ]
     },
     "metadata": {
      "needs_background": "light"
     },
     "output_type": "display_data"
    }
   ],
   "source": [
    "# Plot the number of correct/incorrect classifications for each samples as a stacked barplot\n",
    "# colors = {'Incorrect': 'crimson', 'Species': 'forestgreen', 'Genus': 'lightgreen'}\n",
    "fig, ax = plt.subplots()\n",
    "all_stats_ratio.plot(kind='bar', color=color_levels, stacked=True, ax=ax)\n",
    "ax.set_yticklabels(['0', '20', '40', '60', '80', '100'])\n",
    "ax.legend(bbox_to_anchor=(1.05, 1.0), loc='upper left')\n",
    "plt.show()"
   ]
  }
 ],
 "metadata": {
  "kernelspec": {
   "display_name": "base",
   "language": "python",
   "name": "python3"
  },
  "language_info": {
   "codemirror_mode": {
    "name": "ipython",
    "version": 3
   },
   "file_extension": ".py",
   "mimetype": "text/x-python",
   "name": "python",
   "nbconvert_exporter": "python",
   "pygments_lexer": "ipython3",
   "version": "3.8.8"
  }
 },
 "nbformat": 4,
 "nbformat_minor": 2
}

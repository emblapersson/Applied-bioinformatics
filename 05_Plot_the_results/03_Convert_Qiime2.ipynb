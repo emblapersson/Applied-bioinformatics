{
 "cells": [
  {
   "cell_type": "markdown",
   "metadata": {},
   "source": [
    "## Convert Qiime2 output\n",
    "Script to take the Qiime2 output csv data and read it so that it ends up in the form of:\n",
    "- Rows: Sequences, identified by an ID (called Feature ID or index depending on input)\n",
    "- Columns: One column for each taxonomic level ('Kingdom', 'Phylum', 'Class', 'Order', 'Family', 'Genus', 'Species'), and possibly one with the assignment confidence (depending on input)\n",
    "\n",
    "The script contains different parts depending on the input file, but might have to be adapted to fit the specific data at hand"
   ]
  },
  {
   "cell_type": "code",
   "execution_count": 1,
   "metadata": {},
   "outputs": [],
   "source": [
    "# TO BE SPECIFIED\n",
    "# Input and output\n",
    "qiime_taxonomy = '/Users/claranordquist/Documents/Universitetet/HT24/Tillämpad_bioinformatik/Applied-bioinformatics/05_Plot_the_results/01_Data/Short_classifier/Fasta_short_reads.tsv'\n",
    "output_taxonomy = '/Users/claranordquist/Documents/Universitetet/HT24/Tillämpad_bioinformatik/Applied-bioinformatics/05_Plot_the_results/01_Data/Short_classifier/Short_classifier_fasta_short_names_fixed.csv'"
   ]
  },
  {
   "cell_type": "code",
   "execution_count": 2,
   "metadata": {},
   "outputs": [],
   "source": [
    "# Import packages\n",
    "import pandas as pd\n",
    "import numpy as np\n",
    "import regex as re"
   ]
  },
  {
   "cell_type": "markdown",
   "metadata": {},
   "source": [
    "## If the taxonomy has been made for multiple sequences at a time\n",
    "For example Illumina runs, where each classification has been done on all levels. All samples thus have a classification at all levels, and there is no Confidence value"
   ]
  },
  {
   "cell_type": "code",
   "execution_count": 24,
   "metadata": {},
   "outputs": [],
   "source": [
    "# Read the input data\n",
    "# Might need skiprows=1, or to define the header\n",
    "qiime_read = pd.read_csv(qiime_taxonomy, sep=',')\n",
    "taxonomic_levels = ['Kingdom', 'Phylum', 'Class', 'Order', 'Family', 'Genus', 'Species']\n",
    "\n",
    "# Set the index column, split the taxonomy column into the different levels\n",
    "qiime_read.set_index('index', inplace=True)\n",
    "qiime_read[taxonomic_levels] = qiime_read['Taxonomy'].str.split(';', expand=True)\n",
    "\n",
    "# If there has been a classification at species level, uncomment this part\n",
    "# qiime_read[['Genus1', 'Species']] = qiime_read['Species1'].str.split(' ', expand=True)\n",
    "# qiime_read.drop(['Genus1', 'Species1'], axis=1, inplace=True)\n",
    "\n",
    "# Drop the large column with the whole taxonomy\n",
    "# Replace empty cells in at the 'Kingdom' level with 'Unassigned'\n",
    "qiime_read.drop(['Taxonomy'], axis=1, inplace=True)\n",
    "qiime_read['Kingdom'].replace(np.NaN, 'Unassigned', inplace=True)"
   ]
  },
  {
   "cell_type": "markdown",
   "metadata": {},
   "source": [
    "## If the taxonomy has been made for one sequence at a time\n",
    "For example FASTA runs, where each sequence has been classified separetely and hence doesn't contain all levels necessarily. Often has the classification confidence included as well. "
   ]
  },
  {
   "cell_type": "code",
   "execution_count": 20,
   "metadata": {},
   "outputs": [],
   "source": [
    "# Read the input data\n",
    "# Might need skiprows=1 and header=None\n",
    "columns = ['Feature ID', 'Kingdom', 'Phylum', 'Class', 'Order', 'Family', 'Genus', 'Genus1', 'Species', 'Confidence']\n",
    "qiime_read = pd.read_csv(qiime_taxonomy, sep=' ', names=columns, skiprows=1)\n",
    "# qiime_read = pd.read_csv(qiime_taxonomy, sep=' ', header=0)"
   ]
  },
  {
   "cell_type": "code",
   "execution_count": 21,
   "metadata": {},
   "outputs": [],
   "source": [
    "# If the taxonomy classification has columns separated by ' ', run this part\n",
    "# Define the columns\n",
    "# qiime_read.columns = ['Feature ID', 'Kingdom', 'Phylum', 'Class', 'Order', 'Family', 'Genus', 'Genus1', 'Species', 'Confidence']\n",
    "qiime_read.set_index('Feature ID', inplace=True)\n",
    "\n",
    "# Loop through the whole dataframe to see if the confidence level has ended up in the wrong column\n",
    "# We know it's wrong if the value in the cell is a string that doesn't start with ie d__, c__, s__ etc\n",
    "# If so, move it to the correct column\n",
    "for column in qiime_read.columns[1:-1]:\n",
    "    for row in qiime_read.index:\n",
    "        value = qiime_read.loc[row, column]\n",
    "\n",
    "        # Check if value is a string before searching for '__'\n",
    "        if isinstance(value, str) and '__' not in value:\n",
    "            if value[0] == '0':\n",
    "                qiime_read.loc[row, 'Confidence'] = value\n",
    "                qiime_read.loc[row, column] = np.NaN\n",
    "\n",
    "# Remove any ';' and extra spaces in the strings\n",
    "for column in qiime_read.columns[:-1]:\n",
    "    for row in qiime_read.index:\n",
    "        value = qiime_read.loc[row, column]\n",
    "        if isinstance(value, str):\n",
    "            qiime_read.loc[row, column] = value.replace(';', '').strip()\n",
    "\n",
    "# Convert the confidence value to a float\n",
    "qiime_read['Confidence'] = qiime_read['Confidence'].apply(lambda x: float(x))"
   ]
  },
  {
   "cell_type": "code",
   "execution_count": 19,
   "metadata": {},
   "outputs": [],
   "source": [
    "# If the taxonomy classification has the taxonomy separated by ';', run this part\n",
    "# Define the columns (might need to be adopted, depending on if there is species classification or not because that might\n",
    "# give an extra genus column that has to be dropped later on)\n",
    "qiime_read.columns = ['Feature ID', 'Taxonomy', 'Confidence']\n",
    "taxonomic_levels = ['Kingdom', 'Phylum', 'Class', 'Order', 'Family', 'Genus', 'Species']\n",
    "qiime_read.set_index('Feature ID', inplace=True)\n",
    "\n",
    "# Split the large taxonomy to each level and drop it\n",
    "qiime_read[taxonomic_levels] = qiime_read['Taxonomy'].str.split(';', expand=True)\n",
    "qiime_read.drop(['Taxonomy'], axis=1, inplace=True)\n",
    "\n",
    "# Convert the confidence value to a float\n",
    "# qiime_read['Confidence'] = qiime_read['Confidence'].apply(lambda x: float(x))"
   ]
  },
  {
   "cell_type": "markdown",
   "metadata": {},
   "source": [
    "## Run this in either case"
   ]
  },
  {
   "cell_type": "code",
   "execution_count": 22,
   "metadata": {},
   "outputs": [],
   "source": [
    "# Delete the taxonomical levels from the names (k__Bacteria --> Bacteria)\n",
    "def delete_prefix(name):\n",
    "    '''Deletes the taxonomical prefix in classifications\n",
    "    k_Bacteria --> Bacteria'''\n",
    "    if type(name) == str:\n",
    "        return re.sub('.{1}__', '', name)\n",
    "\n",
    "# Take away things following _ (Akkermansia muciniphila_D_776786 --> Akkermansia muciniphila)\n",
    "def extract_name(name):\n",
    "    '''Deletes all characters following _\n",
    "    Akkermansia muciniphila_D_776786 --> Akkermansia muciniphila'''\n",
    "    if type(name) == str:\n",
    "        return re.sub(r'_.*', '', name)"
   ]
  },
  {
   "cell_type": "code",
   "execution_count": 23,
   "metadata": {},
   "outputs": [],
   "source": [
    "# Make a copy not to mess with the original datasets\n",
    "a = qiime_read.copy(deep=True)\n",
    "\n",
    "# Loop through each cell and change the name\n",
    "for column in qiime_read.columns[:-1]:\n",
    "    for row in qiime_read.index:\n",
    "        value = delete_prefix(a.loc[row, column])\n",
    "        name = extract_name(value)\n",
    "        a.loc[row, column] = name\n",
    "\n",
    "# Convert to an output csv file\n",
    "a.to_csv(output_taxonomy)"
   ]
  }
 ],
 "metadata": {
  "kernelspec": {
   "display_name": "base",
   "language": "python",
   "name": "python3"
  },
  "language_info": {
   "codemirror_mode": {
    "name": "ipython",
    "version": 3
   },
   "file_extension": ".py",
   "mimetype": "text/x-python",
   "name": "python",
   "nbconvert_exporter": "python",
   "pygments_lexer": "ipython3",
   "version": "3.8.8"
  }
 },
 "nbformat": 4,
 "nbformat_minor": 2
}

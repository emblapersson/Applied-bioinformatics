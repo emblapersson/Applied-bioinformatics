{
 "cells": [
  {
   "cell_type": "code",
   "execution_count": 22,
   "metadata": {},
   "outputs": [],
   "source": [
    "# Import the data\n",
    "qiime_taxonomy = '/Users/claranordquist/Documents/Universitetet/HT24/Tillämpad_bioinformatik/Applied-bioinformatics/05_Plot_the_results/01_Data/Silva/Illumina_simulated/illumina_silva_clean.csv'\n",
    "output_taxonomy = '/Users/claranordquist/Documents/Universitetet/HT24/Tillämpad_bioinformatik/Applied-bioinformatics/05_Plot_the_results/01_Data/Silva/Illumina_simulated/illumina_silva_names_fixed.csv'\n",
    "\n",
    "# Import packages\n",
    "import pandas as pd\n",
    "import numpy as np\n",
    "import regex as re"
   ]
  },
  {
   "cell_type": "markdown",
   "metadata": {},
   "source": [
    "## If the taxonomy has been made for multiple sequences at a time"
   ]
  },
  {
   "cell_type": "code",
   "execution_count": 24,
   "metadata": {},
   "outputs": [],
   "source": [
    "# Read the input data\n",
    "qiime_read = pd.read_csv(qiime_taxonomy, sep=',')\n",
    "taxonomic_levels = ['Kingdom', 'Phylum', 'Class', 'Order', 'Family', 'Genus', 'Species']\n",
    "\n",
    "qiime_read.set_index('index', inplace=True)\n",
    "qiime_read[taxonomic_levels] = qiime_read['Taxonomy'].str.split(';', expand=True)\n",
    "# qiime_read[['Genus1', 'Species']] = qiime_read['Species1'].str.split(' ', expand=True)\n",
    "# qiime_read.drop(['Taxonomy', 'Genus1', 'Species1'], axis=1, inplace=True)\n",
    "qiime_read.drop(['Taxonomy'], axis=1, inplace=True)\n",
    "qiime_read['Kingdom'].replace(np.NaN, 'Unassigned', inplace=True)"
   ]
  },
  {
   "cell_type": "markdown",
   "metadata": {},
   "source": [
    "## If the taxonomy has been made for one sequence at a time"
   ]
  },
  {
   "cell_type": "code",
   "execution_count": 2,
   "metadata": {},
   "outputs": [],
   "source": [
    "# Read the input data\n",
    "# qiime_read = pd.read_csv(qiime_taxonomy, sep=' ', skiprows=1, header=None)\n",
    "# qiime_read.columns = ['Feature ID', 'Kingdom', 'Phylum', 'Class', 'Order', 'Family', 'Genus', 'Genus1', 'Species', 'Confidence']\n",
    "# qiime_read.set_index('Feature ID', inplace=True)\n",
    "\n",
    "# OR\n",
    "qiime_read = pd.read_csv(qiime_taxonomy, sep=' ', skiprows=1, header=None)\n",
    "qiime_read.columns = ['Feature ID', 'Taxonomy', 'Confidence']\n",
    "taxonomic_levels = ['Kingdom', 'Phylum', 'Class', 'Order', 'Family', 'Genus', 'Species']\n",
    "\n",
    "qiime_read.set_index('Feature ID', inplace=True)\n",
    "qiime_read[taxonomic_levels] = qiime_read['Taxonomy'].str.split(';', expand=True)\n",
    "qiime_read.drop(['Taxonomy'], axis=1, inplace=True)"
   ]
  },
  {
   "cell_type": "code",
   "execution_count": 3,
   "metadata": {},
   "outputs": [],
   "source": [
    "# Loop through the whole dataframe\n",
    "# for column in qiime_read.columns[1:-2]:\n",
    "#     for row in qiime_read.index:\n",
    "#         value = qiime_read.loc[row, column]\n",
    "#         # Check if value is a string before searching for '__'\n",
    "#         if isinstance(value, str) and '__' not in value:\n",
    "#             qiime_read.loc[row, 'Confidence'] = value\n",
    "#             qiime_read.loc[row, column] = np.NaN\n",
    "\n",
    "# for column in qiime_read.columns[:-1]:\n",
    "#     for row in qiime_read.index:\n",
    "#         value = qiime_read.loc[row, column]\n",
    "#         if isinstance(value, str):\n",
    "#             qiime_read.loc[row, column] = value.replace(';', '').strip()\n",
    "\n",
    "qiime_read['Confidence'] = qiime_read['Confidence'].apply(lambda x: float(x))"
   ]
  },
  {
   "cell_type": "code",
   "execution_count": 4,
   "metadata": {},
   "outputs": [],
   "source": [
    "qiime_read.drop('Genus1', axis=1, inplace=True)"
   ]
  },
  {
   "cell_type": "markdown",
   "metadata": {},
   "source": [
    "## Run this in either case"
   ]
  },
  {
   "cell_type": "code",
   "execution_count": 14,
   "metadata": {},
   "outputs": [],
   "source": [
    "# Delete the taxonomical levels from the names (k__Bacteria --> Bacteria)\n",
    "def delete_prefix(name):\n",
    "    '''Deletes the taxonomical prefix in classifications\n",
    "    k_Bacteria --> Bacteria'''\n",
    "    if type(name) == str:\n",
    "        return re.sub('.{1}__', '', name)\n",
    "\n",
    "# Take away things following _ (Akkermansia muciniphila_D_776786 --> Akkermansia muciniphila)\n",
    "def extract_name(name):\n",
    "    '''Deletes all characters following _\n",
    "    Akkermansia muciniphila_D_776786 --> Akkermansia muciniphila'''\n",
    "    if type(name) == str:\n",
    "        return re.sub(r'_.*', '', name)"
   ]
  },
  {
   "cell_type": "code",
   "execution_count": 25,
   "metadata": {},
   "outputs": [],
   "source": [
    "a = qiime_read.copy(deep=True)"
   ]
  },
  {
   "cell_type": "code",
   "execution_count": 26,
   "metadata": {},
   "outputs": [],
   "source": [
    "for column in qiime_read.columns:\n",
    "    for row in qiime_read.index:\n",
    "        value = delete_prefix(a.loc[row, column])\n",
    "        name = extract_name(value)\n",
    "        a.loc[row, column] = name"
   ]
  },
  {
   "cell_type": "code",
   "execution_count": 27,
   "metadata": {},
   "outputs": [],
   "source": [
    "a.to_csv(output_taxonomy)"
   ]
  }
 ],
 "metadata": {
  "kernelspec": {
   "display_name": "base",
   "language": "python",
   "name": "python3"
  },
  "language_info": {
   "codemirror_mode": {
    "name": "ipython",
    "version": 3
   },
   "file_extension": ".py",
   "mimetype": "text/x-python",
   "name": "python",
   "nbconvert_exporter": "python",
   "pygments_lexer": "ipython3",
   "version": "3.8.8"
  }
 },
 "nbformat": 4,
 "nbformat_minor": 2
}

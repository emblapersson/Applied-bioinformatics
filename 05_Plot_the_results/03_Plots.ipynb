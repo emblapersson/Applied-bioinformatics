{
 "cells": [
  {
   "cell_type": "markdown",
   "metadata": {},
   "source": [
    "# Plot the results\n",
    "To plot the results of taxonomic classifications, and different statistics from it. \n",
    "1. **Classification levels (without a taxonomy key)**: Just plot the percentage of sequences classified at different taxonomic levels, regardless of whether the classification is correct or not\n",
    "2. **Classification levels (with taxonomy key)**: Plot the percentage of correctly and incorrectly classified sequences at different taxonomic levels, given a key taxonomy\n",
    "3. **Compare community structure**: Plot the different compositions proposed by different methods "
   ]
  },
  {
   "cell_type": "code",
   "execution_count": 22,
   "metadata": {},
   "outputs": [],
   "source": [
    "# To be specified\n",
    "# Uncomment the part you want to run\n",
    "# 1) Classification levels (without a taxonomy key)\n",
    "# samples = ['long reads']\n",
    "# input_taxonomy = ''\n",
    "\n",
    "# 2) Classification levels (with a taxonomy key)\n",
    "samples = ['Illumina', 'Illumina']\n",
    "taxonomy_key = '/Users/claranordquist/Documents/Universitetet/HT24/Tillämpad_bioinformatik/Applied-bioinformatics/01_Collect_sequences/02_Sequences/Downloaded_5dec/Taxonomy_species_genus_corrected.csv'\n",
    "# input_pacbio = ''\n",
    "input_illumina = '/Users/claranordquist/Documents/Universitetet/HT24/Tillämpad_bioinformatik/Applied-bioinformatics/05_Plot_the_results/01_Data/Illumina_names_fixed.csv'\n",
    "\n",
    "species_convertion = {'Bifidobacterium vaginale':['Gardnerella vaginalis'], 'Bifidobacterium leopoldii':['Gardnerella vaginalis', 'Gardnerella leopoldii'],\n",
    "                      'Bifidobacterium piotii':['Gardnerella vaginalis', 'Gardnerella piotii', 'Peptoniphilus lacrimalis'], \n",
    "                      'Bifidobacterium swidsinskii':['Gardnerella vaginalis', 'Gardnerella swidsinskii'], 'Prevotella timonensis':['Hoylesella timonensis'],\n",
    "                      'Sneathia amnionii':['Sneathia vaginalis'], 'Atopobium vaginae':['Fannyhessea vaginae'], 'Bifidobacterium vaginale':['Gardnerella vaginalis'],\n",
    "                      'Olsenella umbonata':['Parafannyhessea umbonata']}\n",
    "\n",
    "# 3) Compare community structure\n",
    "# mock_community1 = ''\n",
    "# mock_community2 = ''"
   ]
  },
  {
   "cell_type": "code",
   "execution_count": 2,
   "metadata": {},
   "outputs": [],
   "source": [
    "# Import packages\n",
    "import pandas as pd\n",
    "import matplotlib.pyplot as plt"
   ]
  },
  {
   "cell_type": "code",
   "execution_count": 12,
   "metadata": {},
   "outputs": [],
   "source": [
    "# Read the data\n",
    "# Add as many rows a you need, depending on number of methods tested\n",
    "# pacbio = pd.read_csv(input_pacbio, index_col='Feature ID')\n",
    "illumina = pd.read_csv(input_illumina, index_col='index')\n",
    "taxonomy = pd.read_csv(taxonomy_key, index_col='Feature ID')\n",
    "\n",
    "# Filter according to confidence\n",
    "# For now, just drop the confidence level\n",
    "# pacbio.drop('Confidence', axis=1, inplace=True)\n",
    "# illumina.drop('Confidence', axis=1, inplace=True)"
   ]
  },
  {
   "cell_type": "markdown",
   "metadata": {},
   "source": [
    "### 1. Classification levels (without taxonomy key)"
   ]
  },
  {
   "cell_type": "code",
   "execution_count": 5,
   "metadata": {},
   "outputs": [],
   "source": [
    "def find_class_levels_nokey(dataframe):\n",
    "    '''Takes a dataframe and calculates the number of sequences that have been classified (not NA) to the different\n",
    "    taxonomical levels regardless of if the classification is correct or not.\n",
    "    Input: Dataframe with sequences (rows, R) and taxonomical classification at different levels (columns, C)\n",
    "    Output: Two dataframes containing:\n",
    "    - N° sequences (in total) classified at each level (C*1)\n",
    "    - N° sequences that have each taxonomic level as their highest (1*C)'''\n",
    "\n",
    "    # Count number of not-null cells at each taxonomic level (column)\n",
    "    class_all_levels = dataframe.notnull().sum()\n",
    "    class_highest_level = class_all_levels.copy(deep=True)\n",
    "\n",
    "    # Loop through the levels and calculate the number of sequences with each level as their highest classification\n",
    "    for level in range(len(class_all_levels)-1):\n",
    "        class_highest_level[level] -= class_all_levels[level+1]\n",
    "    class_all_levels = class_all_levels.to_frame()\n",
    "    class_highest_level = class_highest_level.to_frame().transpose()\n",
    "    \n",
    "    return class_all_levels, class_highest_level"
   ]
  },
  {
   "cell_type": "code",
   "execution_count": 6,
   "metadata": {},
   "outputs": [],
   "source": [
    "# Calculate number of classifications\n",
    "# In absolute numbers\n",
    "all_levels, highest_levels = find_class_levels_nokey(illumina)\n",
    "\n",
    "# In percentage\n",
    "all_levels_ratio = all_levels.copy(deep=True)\n",
    "highest_levels_ratio = highest_levels.copy(deep=True)\n",
    "for sample in range(len(samples)):\n",
    "    highest_levels_ratio.iloc[sample,:] /= highest_levels.iloc[sample,:].sum()\n",
    "    all_levels_ratio.iloc[:, sample] /= highest_levels.iloc[sample,:].sum()"
   ]
  },
  {
   "cell_type": "code",
   "execution_count": 7,
   "metadata": {},
   "outputs": [
    {
     "name": "stderr",
     "output_type": "stream",
     "text": [
      "/var/folders/8y/zlyjdkl554bfq25qgv0m1v5r0000gn/T/ipykernel_66913/698953841.py:5: UserWarning: FixedFormatter should only be used together with FixedLocator\n",
      "  ax.set_yticklabels(['0', '20', '40', '60', '80', '100'])\n"
     ]
    },
    {
     "data": {
      "image/png": "[encoded data removed]",
      "text/plain": [
       "<Figure size 432x288 with 1 Axes>"
      ]
     },
     "metadata": {
      "needs_background": "light"
     },
     "output_type": "display_data"
    }
   ],
   "source": [
    "# Plot the results\n",
    "fig, ax = plt.subplots()\n",
    "highest_levels_ratio.plot(kind='bar', stacked=True, title='Proportion of sequences with different levels of classification', \n",
    "                        ylabel='Percentage of sequences [%]', ax=ax)\n",
    "ax.set_yticklabels(['0', '20', '40', '60', '80', '100'])\n",
    "ax.legend(bbox_to_anchor=(1.05, 1.0), loc='upper left')\n",
    "plt.show()"
   ]
  },
  {
   "cell_type": "markdown",
   "metadata": {},
   "source": [
    "### 2. Classification levels (with taxonomy key)"
   ]
  },
  {
   "cell_type": "code",
   "execution_count": 13,
   "metadata": {},
   "outputs": [],
   "source": [
    "# Find misclassified sequences\n",
    "def find_misclassified_old(dataframe, correct_classification):\n",
    "    '''Checks if a classification is correct or not.\n",
    "    Input: Two datasets\n",
    "    - Dataframe: Putative classification\n",
    "    - Correct_classification: Taxonomy key\n",
    "    Output: A dataset identical to \"dataframe\", but with two additional columns.\n",
    "    - Correct: True/False depending on if the classification is correct or not\n",
    "    - Incorrect at: At what level a sequence is misclassified (if it is)'''\n",
    "\n",
    "    # Create a copy to not mess with the original datafile\n",
    "    dataframe_corrected = dataframe.copy(deep=True)\n",
    "\n",
    "    # Loop through all sequences in the input\n",
    "    # Check if the sequence with the same ID is classified in the same way in the key or not\n",
    "        # If there is a NA in the classification:\n",
    "        # If everything up until then is correct --> Correctly classified\n",
    "        # If something before that is incorrect --> Incorrectly classified\n",
    "    # Add the result as a new column (\"Correct\")\n",
    "    for ID in dataframe.index:\n",
    "        # If there is a NA\n",
    "        if dataframe[dataframe.index == ID].isnull().any().any():\n",
    "            correct_maybe = dataframe[dataframe.index == ID].compare(correct_classification[correct_classification.index == ID], align_axis=0)\n",
    "            highest_level = correct_maybe.columns[0]\n",
    "            if dataframe_corrected.isnull().loc[dataframe_corrected.index == ID, highest_level].values[0]:\n",
    "                same = True\n",
    "            else:\n",
    "                same = False\n",
    "        # If there is not a NA\n",
    "        else:\n",
    "            # if dataframe_corrected.loc[ID, 'Species'] == correct_classification.loc[ID, 'Species']:\n",
    "            #     print(ID)\n",
    "            same = dataframe[dataframe.index == ID].equals(correct_classification[correct_classification.index == ID])\n",
    "        \n",
    "        # Add if the classification is correct or not to the dataset\n",
    "        dataframe_corrected.loc[dataframe.index == ID, 'Correct'] = same\n",
    "\n",
    "        # If the classification is incorrect: Add at what highest taxonomic level it is wrong\n",
    "        if not same:\n",
    "            incorrect_levels = dataframe[dataframe.index == ID].compare(correct_classification[correct_classification.index == ID], align_axis=0)\n",
    "            dataframe_corrected.loc[dataframe.index == ID, 'Incorrect at'] = incorrect_levels.columns[0]\n",
    "    \n",
    "    return dataframe_corrected"
   ]
  },
  {
   "cell_type": "code",
   "execution_count": null,
   "metadata": {},
   "outputs": [
    {
     "name": "stdout",
     "output_type": "stream",
     "text": [
      "Haemophilus pittmaniae Haemophilus pittmaniae\n",
      "Bifidobacterium leopoldii Gardnerella leopoldii\n"
     ]
    },
    {
     "ename": "TypeError",
     "evalue": "can only concatenate str (not \"float\") to str",
     "output_type": "error",
     "traceback": [
      "\u001b[0;31m---------------------------------------------------------------------------\u001b[0m",
      "\u001b[0;31mTypeError\u001b[0m                                 Traceback (most recent call last)",
      "\u001b[0;32m/var/folders/8y/zlyjdkl554bfq25qgv0m1v5r0000gn/T/ipykernel_926/187616389.py\u001b[0m in \u001b[0;36m<module>\u001b[0;34m\u001b[0m\n\u001b[1;32m     27\u001b[0m     \u001b[0;31m# return dataframe_genus_species\u001b[0m\u001b[0;34m\u001b[0m\u001b[0;34m\u001b[0m\u001b[0;34m\u001b[0m\u001b[0m\n\u001b[1;32m     28\u001b[0m \u001b[0;34m\u001b[0m\u001b[0m\n\u001b[0;32m---> 29\u001b[0;31m \u001b[0ma\u001b[0m \u001b[0;34m=\u001b[0m \u001b[0mfind_misclassified\u001b[0m\u001b[0;34m(\u001b[0m\u001b[0millumina\u001b[0m\u001b[0;34m,\u001b[0m \u001b[0mtaxonomy\u001b[0m\u001b[0;34m)\u001b[0m\u001b[0;34m\u001b[0m\u001b[0;34m\u001b[0m\u001b[0m\n\u001b[0m\u001b[1;32m     30\u001b[0m \u001b[0;34m\u001b[0m\u001b[0m\n\u001b[1;32m     31\u001b[0m \u001b[0;31m# print(a)\u001b[0m\u001b[0;34m\u001b[0m\u001b[0;34m\u001b[0m\u001b[0;34m\u001b[0m\u001b[0m\n",
      "\u001b[0;32m/var/folders/8y/zlyjdkl554bfq25qgv0m1v5r0000gn/T/ipykernel_926/187616389.py\u001b[0m in \u001b[0;36mfind_misclassified\u001b[0;34m(dataframe, correct_classification)\u001b[0m\n\u001b[1;32m      8\u001b[0m \u001b[0;34m\u001b[0m\u001b[0m\n\u001b[1;32m      9\u001b[0m     \u001b[0;32mfor\u001b[0m \u001b[0mID\u001b[0m \u001b[0;32min\u001b[0m \u001b[0mdataframe\u001b[0m\u001b[0;34m.\u001b[0m\u001b[0mindex\u001b[0m\u001b[0;34m:\u001b[0m\u001b[0;34m\u001b[0m\u001b[0;34m\u001b[0m\u001b[0m\n\u001b[0;32m---> 10\u001b[0;31m         \u001b[0mclassified_as\u001b[0m \u001b[0;34m=\u001b[0m \u001b[0mdataframe\u001b[0m\u001b[0;34m.\u001b[0m\u001b[0mloc\u001b[0m\u001b[0;34m[\u001b[0m\u001b[0mID\u001b[0m\u001b[0;34m,\u001b[0m \u001b[0;34m'Genus'\u001b[0m\u001b[0;34m]\u001b[0m \u001b[0;34m+\u001b[0m \u001b[0;34m' '\u001b[0m \u001b[0;34m+\u001b[0m \u001b[0mdataframe\u001b[0m\u001b[0;34m.\u001b[0m\u001b[0mloc\u001b[0m\u001b[0;34m[\u001b[0m\u001b[0mID\u001b[0m\u001b[0;34m,\u001b[0m \u001b[0;34m'Species'\u001b[0m\u001b[0;34m]\u001b[0m\u001b[0;34m\u001b[0m\u001b[0;34m\u001b[0m\u001b[0m\n\u001b[0m\u001b[1;32m     11\u001b[0m         \u001b[0mtrue_species\u001b[0m \u001b[0;34m=\u001b[0m \u001b[0mtaxonomy_genus_species\u001b[0m\u001b[0;34m.\u001b[0m\u001b[0mloc\u001b[0m\u001b[0;34m[\u001b[0m\u001b[0mID\u001b[0m\u001b[0;34m,\u001b[0m \u001b[0;34m'Genus'\u001b[0m\u001b[0;34m]\u001b[0m \u001b[0;34m+\u001b[0m \u001b[0;34m' '\u001b[0m \u001b[0;34m+\u001b[0m \u001b[0mtaxonomy_genus_species\u001b[0m\u001b[0;34m.\u001b[0m\u001b[0mloc\u001b[0m\u001b[0;34m[\u001b[0m\u001b[0mID\u001b[0m\u001b[0;34m,\u001b[0m \u001b[0;34m'Species'\u001b[0m\u001b[0;34m]\u001b[0m\u001b[0;34m\u001b[0m\u001b[0;34m\u001b[0m\u001b[0m\n\u001b[1;32m     12\u001b[0m \u001b[0;34m\u001b[0m\u001b[0m\n",
      "\u001b[0;31mTypeError\u001b[0m: can only concatenate str (not \"float\") to str"
     ]
    }
   ],
   "source": [
    "# Find misclassified sequences\n",
    "def find_misclassified(dataframe, correct_classification):\n",
    "    # Create a copy to not mess with the original datafiles\n",
    "    dataframe_genus_species = dataframe.copy(deep=True)[['Genus', 'Species']]\n",
    "    taxonomy_genus_species = correct_classification.copy(deep=True)[['Genus', 'Species']]\n",
    "    taxonomy_genus_species['Genus'] = taxonomy_genus_species['Genus'].str.strip()\n",
    "    taxonomy_genus_species['Species'] = taxonomy_genus_species['Species'].str.strip()\n",
    "\n",
    "    for ID in dataframe.index:\n",
    "        if dataframe_genus_species.loc[ID,'Species'] == taxonomy_genus_species.loc[ID,'Species']:\n",
    "            if dataframe_genus_species.loc[ID,'Genus'] == taxonomy_genus_species.loc[ID,'Genus']:\n",
    "                correct = 'Species'\n",
    "            else:\n",
    "                correct = False\n",
    "        else:\n",
    "            if dataframe_genus_species.loc[ID,'Genus'] == taxonomy_genus_species.loc[ID,'Genus']:\n",
    "                correct = 'Genus'\n",
    "            else:\n",
    "                correct = False\n",
    "\n",
    "        if not correct:\n",
    "            if dataframe_genus_species.loc[ID,'Species']:\n",
    "                \n",
    "\n",
    "        dataframe_genus_species.loc[ID, 'Correct'] = correct\n",
    "\n",
    "    return dataframe_genus_species\n",
    "\n",
    "a = find_misclassified(illumina, taxonomy)\n",
    "\n",
    "# print(a)"
   ]
  },
  {
   "cell_type": "code",
   "execution_count": 22,
   "metadata": {},
   "outputs": [],
   "source": [
    "# Count the number of correct/incorrect classifications\n",
    "def classification_stats(dataframe):\n",
    "    '''Calculates:\n",
    "    - N° correct classifications at each taxonomic level (in total)\n",
    "    - N° sequences with their lowest (correct) classification at each level (ie correct species is shown as that, not as genus and family and ... kingdom)\n",
    "    - N° incorrect klassifications at each highest level (ie wrong at family level is shown just as family, not as genus and species)\n",
    "    Input: Dataframe with ['Feature ID', 'Kingdom', 'Phylum', 'Class', 'Order', 'Family', 'Genus', 'Species', 'Correct', 'Incorrect at]\n",
    "    Output: Two dataframes\n",
    "    - N° sequences (in total) correctly classified at each level\n",
    "    - N° sequences that are correctly and incorrectly classified at their lowest (correct) versus highest (incorrect) level\n",
    "    '''\n",
    "\n",
    "    # For all correctly classified sequences:\n",
    "    # Calculate the total number of classifications at each level\n",
    "    correct_sequences = dataframe[dataframe['Correct'] == True]\n",
    "    correct_class_all_levels = correct_sequences.iloc[:, 0:-2].notnull().sum()\n",
    "    \n",
    "    # Calculate how many sequences have different taxonomic levels as their lowest classification\n",
    "    class_levels = correct_class_all_levels.copy(deep=True)\n",
    "    for level in range(len(correct_class_all_levels)-1):\n",
    "        class_levels[level] -= correct_class_all_levels[level+1]\n",
    "    \n",
    "    # Convert to dataframes, transpose to the right dimensions for plotting\n",
    "    correct_class_all_levels = correct_class_all_levels.to_frame()\n",
    "    class_levels = class_levels.to_frame().transpose()\n",
    "\n",
    "    # For all incorrectly classified sequences:\n",
    "    # Add a column for each taxonomic level, in which the number of sequences which have been misclassified at that level\n",
    "    # (as highest) is stored\n",
    "    incorrect_sequences = dataframe[dataframe['Correct'] == False]\n",
    "    for level in class_levels.columns:\n",
    "        name = level + '_incorrect'\n",
    "        n = len(incorrect_sequences[incorrect_sequences['Incorrect at'] == level])\n",
    "        class_levels[name] = n\n",
    "\n",
    "    return correct_class_all_levels, class_levels"
   ]
  },
  {
   "cell_type": "code",
   "execution_count": 23,
   "metadata": {},
   "outputs": [
    {
     "name": "stdout",
     "output_type": "stream",
     "text": [
      "                                    Genus            Species\n",
      "Feature ID                                                  \n",
      "NZ_JBIWIT010000029.1           Aerococcus           viridans\n",
      "NZ_AMZK01000007.1              Aerococcus      christensenii\n",
      "NZ_KQ955743.1               Alloscardovia         omnicolens\n",
      "NZ_KV803777.1                Anaerococcus                NaN\n",
      "NZ_GG666064.1                Anaerococcus       lactolyticus\n",
      "NZ_GG666315.1                Anaerococcus          tetradius\n",
      "NZ_KE952952.1                   Atopobium                NaN\n",
      "NZ_QSQE01000022.1         Bifidobacterium            bifidum\n",
      "NZ_JAWWYB010000046.1      Bifidobacterium              breve\n",
      "NZ_JAJCRT010000018.1            Dialister            invisus\n",
      "NZ_GL878522.1                   Dialister     micraerophilus\n",
      "NZ_KQ961074.1                 Fannyhessea            vaginae\n",
      "NZ_JAJDKT010000074.1        Fusobacterium           ulcerans\n",
      "NZ_JBGONE010000038.1        Fusobacterium           animalis\n",
      "NZ_KI518418.1               Fusobacterium          nucleatum\n",
      "NZ_NQOJ01000020.1             Gardnerella          vaginalis\n",
      "NR_171541.1                   Gardnerella          leopoldii\n",
      "NZ_QJVB01000008.1             Gardnerella        swidsinskii\n",
      "NZ_JASOME010000020.1          Gardnerella          vaginalis\n",
      "NZ_WBMB01000033.1             Haemophilus     parainfluenzae\n",
      "NR_025423.1                   Haemophilus         pittmaniae\n",
      "NZ_ADEF01000068.1              Hoylesella         timonensis\n",
      "NZ_WUBT01000032.1           Lactobacillus          crispatus\n",
      "NZ_JADCKH010000039.1        Lactobacillus          crispatus\n",
      "NZ_JAWWWY010000070.1        Lactobacillus            gasseri\n",
      "NZ_PNGO01000009.1           Lactobacillus              iners\n",
      "NZ_JAWWXF010000042.1        Lactobacillus           jensenii\n",
      "NZ_JAVTXF010000046.1        Lactobacillus           mulieris\n",
      "NZ_CABTXI010000220.1          Megasphaera                   \n",
      "NZ_NFMF01000018.1             Megasphaera        hutchinsoni\n",
      "NZ_AFIJ01000031.1             Megasphaera             lornae\n",
      "NZ_FNWT01000022.1         Parafannyhessea           umbonata\n",
      "NZ_JANDZW010000012.1           Parvimonas              micra\n",
      "NZ_JASOSB010000012.1        Peptoniphilus              harei\n",
      "NZ_JBBNGY010000024.1        Peptoniphilus         lacrimalis\n",
      "NZ_CAXUJS010000060.1   Peptostreptococcus         anaerobius\n",
      "NZ_QPGS01000077.1           Porphyromonas         gingivalis\n",
      "NZ_JAERMS010000083.1           Prevotella         illustrans\n",
      "NZ_JRNU01000149.1              Prevotella              amnii\n",
      "NZ_KQ971204.1                  Prevotella              bivia\n",
      "NZ_JRNR01000257.1              Prevotella            disiens\n",
      "NZ_JASSPP010000023.1             Sneathia       sanguinegens\n",
      "NZ_JBHLSP010000031.1             Sneathia          vaginalis\n",
      "NZ_VYVJ01000030.1           Streptococcus          anginosus\n",
      "NZ_ABES01000007.1              Ureaplasma             parvum\n",
      "NZ_JRNT01000025.1             Veillonella   montpellierensis\n"
     ]
    },
    {
     "ename": "TypeError",
     "evalue": "'NoneType' object is not subscriptable",
     "output_type": "error",
     "traceback": [
      "\u001b[0;31m---------------------------------------------------------------------------\u001b[0m",
      "\u001b[0;31mTypeError\u001b[0m                                 Traceback (most recent call last)",
      "\u001b[0;32m/var/folders/8y/zlyjdkl554bfq25qgv0m1v5r0000gn/T/ipykernel_68044/266439821.py\u001b[0m in \u001b[0;36m<module>\u001b[0;34m\u001b[0m\n\u001b[1;32m      5\u001b[0m \u001b[0;31m# Calculate N° of correctly/incorrectly classified sequenced\u001b[0m\u001b[0;34m\u001b[0m\u001b[0;34m\u001b[0m\u001b[0;34m\u001b[0m\u001b[0m\n\u001b[1;32m      6\u001b[0m \u001b[0mcorrect_all_levels_pacbio\u001b[0m\u001b[0;34m,\u001b[0m \u001b[0mclass_levels_pacbio\u001b[0m \u001b[0;34m=\u001b[0m \u001b[0mclassification_stats\u001b[0m\u001b[0;34m(\u001b[0m\u001b[0mpacbio_corrected\u001b[0m\u001b[0;34m)\u001b[0m\u001b[0;34m\u001b[0m\u001b[0;34m\u001b[0m\u001b[0m\n\u001b[0;32m----> 7\u001b[0;31m \u001b[0mcorrect_all_levels_illumina\u001b[0m\u001b[0;34m,\u001b[0m \u001b[0mclass_levels_illumina\u001b[0m \u001b[0;34m=\u001b[0m \u001b[0mclassification_stats\u001b[0m\u001b[0;34m(\u001b[0m\u001b[0millumina_corrected\u001b[0m\u001b[0;34m)\u001b[0m\u001b[0;34m\u001b[0m\u001b[0;34m\u001b[0m\u001b[0m\n\u001b[0m\u001b[1;32m      8\u001b[0m \u001b[0;34m\u001b[0m\u001b[0m\n\u001b[1;32m      9\u001b[0m \u001b[0;31m# Collect them in one dataset (numbers in absolute values)\u001b[0m\u001b[0;34m\u001b[0m\u001b[0;34m\u001b[0m\u001b[0;34m\u001b[0m\u001b[0m\n",
      "\u001b[0;32m/var/folders/8y/zlyjdkl554bfq25qgv0m1v5r0000gn/T/ipykernel_68044/483973947.py\u001b[0m in \u001b[0;36mclassification_stats\u001b[0;34m(dataframe)\u001b[0m\n\u001b[1;32m     13\u001b[0m     \u001b[0;31m# For all correctly classified sequences:\u001b[0m\u001b[0;34m\u001b[0m\u001b[0;34m\u001b[0m\u001b[0;34m\u001b[0m\u001b[0m\n\u001b[1;32m     14\u001b[0m     \u001b[0;31m# Calculate the total number of classifications at each level\u001b[0m\u001b[0;34m\u001b[0m\u001b[0;34m\u001b[0m\u001b[0;34m\u001b[0m\u001b[0m\n\u001b[0;32m---> 15\u001b[0;31m     \u001b[0mcorrect_sequences\u001b[0m \u001b[0;34m=\u001b[0m \u001b[0mdataframe\u001b[0m\u001b[0;34m[\u001b[0m\u001b[0mdataframe\u001b[0m\u001b[0;34m[\u001b[0m\u001b[0;34m'Correct'\u001b[0m\u001b[0;34m]\u001b[0m \u001b[0;34m==\u001b[0m \u001b[0;32mTrue\u001b[0m\u001b[0;34m]\u001b[0m\u001b[0;34m\u001b[0m\u001b[0;34m\u001b[0m\u001b[0m\n\u001b[0m\u001b[1;32m     16\u001b[0m     \u001b[0mcorrect_class_all_levels\u001b[0m \u001b[0;34m=\u001b[0m \u001b[0mcorrect_sequences\u001b[0m\u001b[0;34m.\u001b[0m\u001b[0miloc\u001b[0m\u001b[0;34m[\u001b[0m\u001b[0;34m:\u001b[0m\u001b[0;34m,\u001b[0m \u001b[0;36m0\u001b[0m\u001b[0;34m:\u001b[0m\u001b[0;34m-\u001b[0m\u001b[0;36m2\u001b[0m\u001b[0;34m]\u001b[0m\u001b[0;34m.\u001b[0m\u001b[0mnotnull\u001b[0m\u001b[0;34m(\u001b[0m\u001b[0;34m)\u001b[0m\u001b[0;34m.\u001b[0m\u001b[0msum\u001b[0m\u001b[0;34m(\u001b[0m\u001b[0;34m)\u001b[0m\u001b[0;34m\u001b[0m\u001b[0;34m\u001b[0m\u001b[0m\n\u001b[1;32m     17\u001b[0m \u001b[0;34m\u001b[0m\u001b[0m\n",
      "\u001b[0;31mTypeError\u001b[0m: 'NoneType' object is not subscriptable"
     ]
    }
   ],
   "source": [
    "# Find misclassification for each dataset\n",
    "pacbio_corrected = find_misclassified_old(illumina, taxonomy)\n",
    "illumina_corrected = find_misclassified(illumina, taxonomy)\n",
    "\n",
    "# Calculate N° of correctly/incorrectly classified sequenced\n",
    "correct_all_levels_pacbio, class_levels_pacbio = classification_stats(pacbio_corrected)\n",
    "correct_all_levels_illumina, class_levels_illumina = classification_stats(illumina_corrected)\n",
    "\n",
    "# Collect them in one dataset (numbers in absolute values)\n",
    "all_levels = pd.concat([correct_all_levels_pacbio, correct_all_levels_illumina], axis=1)\n",
    "all_levels.columns = samples\n",
    "class_levels = pd.concat([class_levels_pacbio, class_levels_illumina])\n",
    "class_levels.index = samples\n",
    "\n",
    "# Create an additional dataset where the numbers are in ratios\n",
    "# all_levels_ratio = all_levels.copy(deep=True)\n",
    "# class_levels_ratio = class_levels.copy(deep=True)\n",
    "# for sample in range(len(samples)):\n",
    "#     class_levels_ratio.iloc[sample,:] /= class_levels.iloc[sample,:].sum()\n",
    "#     all_levels_ratio.iloc[:, sample] /= class_levels.iloc[sample,:].sum()"
   ]
  },
  {
   "cell_type": "code",
   "execution_count": 11,
   "metadata": {},
   "outputs": [],
   "source": [
    "# Decide on the color maps for each taxonomic level, as well as for correct/incorrent classification\n",
    "# Correct classification = Green\n",
    "# Incorrect classification = Red\n",
    "# Different taxonomic levels = Ligher or darker colors\n",
    "\n",
    "# Number of taxonomic levels\n",
    "n = len(class_levels.columns)/2\n",
    "\n",
    "# Create the color maps\n",
    "cmap_correct = plt.cm.get_cmap('Greens', n)\n",
    "cmap_incorrect = plt.cm.get_cmap('Reds', n)\n",
    "\n",
    "color_levels = {}\n",
    "for i in range(int(n)):\n",
    "    level_correct = class_levels.columns[i]\n",
    "    color_levels[level_correct] = cmap_correct(i)\n",
    "\n",
    "    level_incorrect = class_levels.columns[i+int(n)]\n",
    "    color_levels[level_incorrect] = cmap_incorrect(i)"
   ]
  },
  {
   "cell_type": "code",
   "execution_count": 12,
   "metadata": {},
   "outputs": [
    {
     "name": "stderr",
     "output_type": "stream",
     "text": [
      "/var/folders/8y/zlyjdkl554bfq25qgv0m1v5r0000gn/T/ipykernel_67623/2475024089.py:5: UserWarning: FixedFormatter should only be used together with FixedLocator\n",
      "  ax.set_yticklabels(['0', '20', '40', '60', '80', '100'])\n"
     ]
    },
    {
     "data": {
      "image/png": "[encoded data removed]",
      "text/plain": [
       "<Figure size 432x288 with 1 Axes>"
      ]
     },
     "metadata": {
      "needs_background": "light"
     },
     "output_type": "display_data"
    }
   ],
   "source": [
    "# Plot the number of correct/incorrect classifications for each samples as a stacked barplot\n",
    "fig, ax = plt.subplots()\n",
    "class_levels_ratio.plot(kind='bar', stacked=True, color=color_levels, title='Proportion of sequences with different levels of classification', \n",
    "                        ylabel='Percentage of sequences [%]', ax=ax)\n",
    "ax.set_yticklabels(['0', '20', '40', '60', '80', '100'])\n",
    "ax.legend(bbox_to_anchor=(1.05, 1.0), loc='upper left')\n",
    "plt.show()"
   ]
  },
  {
   "cell_type": "code",
   "execution_count": null,
   "metadata": {},
   "outputs": [],
   "source": [
    "# Plot the number of correctly classified sequences at different levels for each sample\n",
    "fig, ax = plt.subplots()\n",
    "all_levels_ratio.plot(grid=True, title='Ratio of sequences correctly classified at each taxonomic level', ylabel='Percentage of sequences [%]', ax=ax)\n",
    "plt.show()"
   ]
  },
  {
   "cell_type": "markdown",
   "metadata": {},
   "source": [
    "### 3. Compare community structure"
   ]
  },
  {
   "cell_type": "code",
   "execution_count": null,
   "metadata": {},
   "outputs": [],
   "source": [
    "# Look through the dataset to find unique organisms, and how many times they have been classified\n",
    "def find_organisms(dataframe):\n",
    "    '''Takes a dataframe, find the lowest taxonomic level without a NA, and calculates how many times each variant at that level has been classified\n",
    "    Input: Dataframe with sequences (rows, R) and taxonomical classification at different levels (columns, C)\n",
    "    Output: Dataframe with all unique organisms at the lowest common taxonomic level, and how many times they are found'''\n",
    "    # Create a copy to not mess with the original data\n",
    "    # Find the cells with NA values\n",
    "    dataframe_copy = dataframe.copy(deep=True)\n",
    "    dataframe_null = dataframe_copy.isnull()\n",
    "\n",
    "    # Iterate over all columns, starting at the lowest taxonomic level\n",
    "    # If there is a NA in the column (a sequence hasn't been classified), drop the column\n",
    "    for level in dataframe.columns[::-1]:\n",
    "        if dataframe_null[level].any():\n",
    "            dataframe_copy.drop(level, axis=1, inplace=True)\n",
    "    \n",
    "    # Remove all columns except the last one, which is the lowest taxonomic level at which all sequences have been classified\n",
    "    dataframe_copy.drop(dataframe_copy.columns[:-1], axis=1, inplace=True)\n",
    "\n",
    "    # Search for and count doublets (organisms present multiple times)\n",
    "    # Add the count number of each organism in column \"Count\"\n",
    "    # Index based on the organism's name\n",
    "    dataframe_stats = dataframe_copy.groupby(dataframe_copy.columns.tolist()).size().reset_index(name='Count')\n",
    "    dataframe_stats.index = dataframe_stats[dataframe_stats.columns[0]]\n",
    "    dataframe_stats.drop(dataframe_stats.columns[0], axis=1, inplace=True)\n",
    "\n",
    "    return dataframe_stats.transpose()"
   ]
  },
  {
   "cell_type": "code",
   "execution_count": null,
   "metadata": {},
   "outputs": [],
   "source": [
    "# Run the function on all datasets\n",
    "mock_community_structure_organisms = find_organisms(mock_community_structure)\n",
    "mock_community_1_organisms = find_organisms(mock_community_1)\n",
    "mock_community_2_organisms = find_organisms(mock_community_2)\n",
    "\n",
    "# Add all samples to one large dataset\n",
    "communities = pd.concat([mock_community_structure_organisms, mock_community_1_organisms, mock_community_2_organisms])\n",
    "communities.index = ['Mock community ideal', 'Mock 1', 'Mock 2']\n",
    "\n",
    "# Create an additional dataset with the numbers in percentage instead\n",
    "communities_ratio = communities.copy(deep=True)\n",
    "for sample in range(len(samples)+1):\n",
    "    communities_ratio.iloc[sample,:] /= communities.iloc[sample,:].sum()"
   ]
  },
  {
   "cell_type": "code",
   "execution_count": null,
   "metadata": {},
   "outputs": [],
   "source": [
    "# Plot the results\n",
    "fig, ax = plt.subplots()\n",
    "communities_ratio.plot(kind='bar', stacked=True, title='Community structure for different methods', ylabel='Percentage [%]', ax=ax)\n",
    "ax.set_yticklabels(['0', '20', '40', '60', '80', '100'])\n",
    "ax.legend(bbox_to_anchor=(1.05, 1.0), loc='upper left')\n",
    "plt.show()"
   ]
  }
 ],
 "metadata": {
  "kernelspec": {
   "display_name": "base",
   "language": "python",
   "name": "python3"
  },
  "language_info": {
   "codemirror_mode": {
    "name": "ipython",
    "version": 3
   },
   "file_extension": ".py",
   "mimetype": "text/x-python",
   "name": "python",
   "nbconvert_exporter": "python",
   "pygments_lexer": "ipython3",
   "version": "3.8.8"
  }
 },
 "nbformat": 4,
 "nbformat_minor": 2
}

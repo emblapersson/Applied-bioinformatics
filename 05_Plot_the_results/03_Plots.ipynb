{
 "cells": [
  {
   "cell_type": "markdown",
   "metadata": {},
   "source": [
    "# Plot the results\n",
    "To plot the results of taxonomic classifications, and different statistics from it. \n",
    "1. **Classification levels (without a taxonomy key)**: Just plot the percentage of sequences classified at different taxonomic levels, regardless of whether the classification is correct or not\n",
    "2. **Classification levels (with taxonomy key)**: Plot the percentage of correctly and incorrectly classified sequences at different taxonomic levels, given a key taxonomy\n",
    "3. **Compare community structure**: Plot the different compositions proposed by different methods "
   ]
  },
  {
   "cell_type": "code",
   "execution_count": 17,
   "metadata": {},
   "outputs": [],
   "source": [
    "# To be specified\n",
    "# Uncomment the part you want to run\n",
    "# 1) Classification levels (without a taxonomy key)\n",
    "# samples = ['long reads']\n",
    "# input_taxonomy = ''\n",
    "\n",
    "# 2) Classification levels (with a taxonomy key)\n",
    "samples = ['Illumina']\n",
    "taxonomy_key = '/Users/claranordquist/Documents/Universitetet/HT24/Tillämpad_bioinformatik/Applied-bioinformatics/01_Collect_sequences/02_Sequences/Downloaded_5dec/Taxonomy_species_genus_corrected.csv'\n",
    "# input_pacbio = ''\n",
    "input_illumina = '/Users/claranordquist/Documents/Universitetet/HT24/Tillämpad_bioinformatik/Applied-bioinformatics/05_Plot_the_results/01_Data/illumina.csv'\n",
    "\n",
    "# 3) Compare community structure\n",
    "# mock_community1 = ''\n",
    "# mock_community2 = ''"
   ]
  },
  {
   "cell_type": "code",
   "execution_count": 18,
   "metadata": {},
   "outputs": [],
   "source": [
    "# Import packages\n",
    "import pandas as pd\n",
    "import matplotlib.pyplot as plt"
   ]
  },
  {
   "cell_type": "code",
   "execution_count": 19,
   "metadata": {},
   "outputs": [],
   "source": [
    "# Read the data\n",
    "# Add as many rows a you need, depending on number of methods tested\n",
    "# pacbio = pd.read_csv(input_pacbio, index_col='Feature ID')\n",
    "illumina = pd.read_csv(input_illumina, index_col='Feature ID')\n",
    "taxonomy = pd.read_csv(taxonomy_key, index_col='Feature ID')\n",
    "\n",
    "# Filter according to confidence\n",
    "# For now, just drop the confidence level\n",
    "# pacbio.drop('Confidence', axis=1, inplace=True)\n",
    "illumina.drop('Confidence', axis=1, inplace=True)"
   ]
  },
  {
   "cell_type": "markdown",
   "metadata": {},
   "source": [
    "### 0. Boxplots of the confidence levels"
   ]
  },
  {
   "cell_type": "code",
   "execution_count": 4,
   "metadata": {},
   "outputs": [
    {
     "data": {
      "image/png": "[encoded data removed]",
      "text/plain": [
       "<Figure size 432x288 with 1 Axes>"
      ]
     },
     "metadata": {
      "needs_background": "light"
     },
     "output_type": "display_data"
    }
   ],
   "source": [
    "# Plot the distribution of the confidence levels to see if we should/need to filter\n",
    "# data = [pacbio['Confidence'], illumina['Confidence']]\n",
    "\n",
    "plt.boxplot(illumina['Confidence'])\n",
    "plt.show()"
   ]
  },
  {
   "cell_type": "markdown",
   "metadata": {},
   "source": [
    "### 1. Classification levels (without taxonomy key)"
   ]
  },
  {
   "cell_type": "code",
   "execution_count": 20,
   "metadata": {},
   "outputs": [],
   "source": [
    "def find_class_levels_nokey(dataframe):\n",
    "    '''Takes a dataframe and calculates the number of sequences that have been classified (not NA) to the different\n",
    "    taxonomical levels regardless of if the classification is correct or not.\n",
    "    Input: Dataframe with sequences (rows, R) and taxonomical classification at different levels (columns, C)\n",
    "    Output: Two dataframes containing:\n",
    "    - N° sequences (in total) classified at each level (C*1)\n",
    "    - N° sequences that have each taxonomic level as their highest (1*C)'''\n",
    "\n",
    "    # Count number of not-null cells at each taxonomic level (column)\n",
    "    class_all_levels = dataframe.notnull().sum()\n",
    "    class_highest_level = class_all_levels.copy(deep=True)\n",
    "\n",
    "    # Loop through the levels and calculate the number of sequences with each level as their highest classification\n",
    "    for level in range(len(class_all_levels)-1):\n",
    "        class_highest_level[level] -= class_all_levels[level+1]\n",
    "    class_all_levels = class_all_levels.to_frame()\n",
    "    class_highest_level = class_highest_level.to_frame().transpose()\n",
    "    \n",
    "    return class_all_levels, class_highest_level"
   ]
  },
  {
   "cell_type": "code",
   "execution_count": 21,
   "metadata": {},
   "outputs": [],
   "source": [
    "# Calculate number of classifications\n",
    "# In absolute numbers\n",
    "all_levels, highest_levels = find_class_levels_nokey(illumina)\n",
    "\n",
    "# In percentage\n",
    "all_levels_ratio = all_levels.copy(deep=True)\n",
    "highest_levels_ratio = highest_levels.copy(deep=True)\n",
    "for sample in range(len(samples)):\n",
    "    highest_levels_ratio.iloc[sample,:] /= highest_levels.iloc[sample,:].sum()\n",
    "    all_levels_ratio.iloc[:, sample] /= highest_levels.iloc[sample,:].sum()"
   ]
  },
  {
   "cell_type": "code",
   "execution_count": 22,
   "metadata": {},
   "outputs": [
    {
     "name": "stderr",
     "output_type": "stream",
     "text": [
      "/var/folders/8y/zlyjdkl554bfq25qgv0m1v5r0000gn/T/ipykernel_4286/698953841.py:5: UserWarning: FixedFormatter should only be used together with FixedLocator\n",
      "  ax.set_yticklabels(['0', '20', '40', '60', '80', '100'])\n"
     ]
    },
    {
     "data": {
      "image/png": "[encoded data removed]",
      "text/plain": [
       "<Figure size 432x288 with 1 Axes>"
      ]
     },
     "metadata": {
      "needs_background": "light"
     },
     "output_type": "display_data"
    }
   ],
   "source": [
    "# Plot the results\n",
    "fig, ax = plt.subplots()\n",
    "highest_levels_ratio.plot(kind='bar', stacked=True, title='Proportion of sequences with different levels of classification', \n",
    "                        ylabel='Percentage of sequences [%]', ax=ax)\n",
    "ax.set_yticklabels(['0', '20', '40', '60', '80', '100'])\n",
    "ax.legend(bbox_to_anchor=(1.05, 1.0), loc='upper left')\n",
    "plt.show()"
   ]
  },
  {
   "cell_type": "markdown",
   "metadata": {},
   "source": [
    "### 2. Classification levels (with taxonomy key)"
   ]
  },
  {
   "cell_type": "code",
   "execution_count": null,
   "metadata": {},
   "outputs": [],
   "source": [
    "# Find misclassified sequences\n",
    "def find_misclassified(dataframe, correct_classification):\n",
    "    '''Checks if a classification is correct or not.\n",
    "    Input: Two datasets\n",
    "    - Dataframe: Putative classification\n",
    "    - Correct_classification: Taxonomy key\n",
    "    Output: A dataset identical to \"dataframe\", but with two additional columns.\n",
    "    - Correct: True/False depending on if the classification is correct or not\n",
    "    - Incorrect at: At what level a sequence is misclassified (if it is)'''\n",
    "\n",
    "    # Create a copy to not mess with the original datafile\n",
    "    dataframe_corrected = dataframe.copy(deep=True)\n",
    "\n",
    "    # Loop through all sequences in the input\n",
    "    # Check if the sequence with the same ID is classified in the same way in the key or not\n",
    "        # If there is a NA in the classification:\n",
    "        # If everything up until then is correct --> Correctly classified\n",
    "        # If something before that is incorrect --> Incorrectly classified\n",
    "    # Add the result as a new column (\"Correct\")\n",
    "    for ID in dataframe.index:\n",
    "        # If there is a NA\n",
    "        if dataframe[dataframe.index == ID].isnull().any().any():\n",
    "            correct_maybe = dataframe[dataframe.index == ID].compare(correct_classification[correct_classification.index == ID], align_axis=0)\n",
    "            highest_level = correct_maybe.columns[0]\n",
    "            if dataframe_corrected.isnull().loc[dataframe_corrected.index == ID, highest_level].values[0]:\n",
    "                same = True\n",
    "            else:\n",
    "                same = False\n",
    "        # If there is not a NA\n",
    "        else:\n",
    "            same = dataframe[dataframe.index == ID].equals(correct_classification[correct_classification.index == ID])\n",
    "        \n",
    "        # Add if the classification is correct or not to the dataset\n",
    "        dataframe_corrected.loc[dataframe.index == ID, 'Correct'] = same\n",
    "\n",
    "        # If the classification is incorrect: Add at what highest taxonomic level it is wrong\n",
    "        if not same:\n",
    "            incorrect_levels = dataframe[dataframe.index == ID].compare(correct_classification[correct_classification.index == ID], align_axis=0)\n",
    "            dataframe_corrected.loc[dataframe.index == ID, 'Incorrect at'] = incorrect_levels.columns[0]\n",
    "    \n",
    "    return dataframe_corrected"
   ]
  },
  {
   "cell_type": "code",
   "execution_count": 12,
   "metadata": {},
   "outputs": [],
   "source": [
    "# Count the number of correct/incorrect classifications\n",
    "def classification_stats(dataframe):\n",
    "    '''Calculates:\n",
    "    - N° correct classifications at each taxonomic level (in total)\n",
    "    - N° sequences with their lowest (correct) classification at each level (ie correct species is shown as that, not as genus and family and ... kingdom)\n",
    "    - N° incorrect klassifications at each highest level (ie wrong at family level is shown just as family, not as genus and species)\n",
    "    Input: Dataframe with ['Feature ID', 'Kingdom', 'Phylum', 'Class', 'Order', 'Family', 'Genus', 'Species', 'Correct', 'Incorrect at]\n",
    "    Output: Two dataframes\n",
    "    - N° sequences (in total) correctly classified at each level\n",
    "    - N° sequences that are correctly and incorrectly classified at their lowest (correct) versus highest (incorrect) level\n",
    "    '''\n",
    "\n",
    "    # For all correctly classified sequences:\n",
    "    # Calculate the total number of classifications at each level\n",
    "    correct_sequences = dataframe[dataframe['Correct'] == True]\n",
    "    correct_class_all_levels = correct_sequences.iloc[:, 0:-2].notnull().sum()\n",
    "    \n",
    "    # Calculate how many sequences have different taxonomic levels as their lowest classification\n",
    "    class_levels = correct_class_all_levels.copy(deep=True)\n",
    "    for level in range(len(correct_class_all_levels)-1):\n",
    "        class_levels[level] -= correct_class_all_levels[level+1]\n",
    "    \n",
    "    # Convert to dataframes, transpose to the right dimensions for plotting\n",
    "    correct_class_all_levels = correct_class_all_levels.to_frame()\n",
    "    class_levels = class_levels.to_frame().transpose()\n",
    "\n",
    "    # For all incorrectly classified sequences:\n",
    "    # Add a column for each taxonomic level, in which the number of sequences which have been misclassified at that level\n",
    "    # (as highest) is stored\n",
    "    incorrect_sequences = dataframe[dataframe['Correct'] == False]\n",
    "    for level in class_levels.columns:\n",
    "        name = level + '_incorrect'\n",
    "        n = len(incorrect_sequences[incorrect_sequences['Incorrect at'] == level])\n",
    "        class_levels[name] = n\n",
    "\n",
    "    return correct_class_all_levels, class_levels"
   ]
  },
  {
   "cell_type": "code",
   "execution_count": 16,
   "metadata": {},
   "outputs": [
    {
     "ename": "ValueError",
     "evalue": "Can only compare identically-labeled DataFrame objects",
     "output_type": "error",
     "traceback": [
      "\u001b[0;31m---------------------------------------------------------------------------\u001b[0m",
      "\u001b[0;31mValueError\u001b[0m                                Traceback (most recent call last)",
      "\u001b[0;32m/var/folders/8y/zlyjdkl554bfq25qgv0m1v5r0000gn/T/ipykernel_4286/3270214640.py\u001b[0m in \u001b[0;36m<module>\u001b[0;34m\u001b[0m\n\u001b[1;32m      1\u001b[0m \u001b[0;31m# Find misclassification for each dataset\u001b[0m\u001b[0;34m\u001b[0m\u001b[0;34m\u001b[0m\u001b[0;34m\u001b[0m\u001b[0m\n\u001b[1;32m      2\u001b[0m \u001b[0;31m# pacbio_corrected = find_misclassified(pacbio, taxonomy_key)\u001b[0m\u001b[0;34m\u001b[0m\u001b[0;34m\u001b[0m\u001b[0;34m\u001b[0m\u001b[0m\n\u001b[0;32m----> 3\u001b[0;31m \u001b[0millumina_corrected\u001b[0m \u001b[0;34m=\u001b[0m \u001b[0mfind_misclassified\u001b[0m\u001b[0;34m(\u001b[0m\u001b[0millumina\u001b[0m\u001b[0;34m,\u001b[0m \u001b[0mtaxonomy\u001b[0m\u001b[0;34m)\u001b[0m\u001b[0;34m\u001b[0m\u001b[0;34m\u001b[0m\u001b[0m\n\u001b[0m\u001b[1;32m      4\u001b[0m \u001b[0;34m\u001b[0m\u001b[0m\n\u001b[1;32m      5\u001b[0m \u001b[0;31m# Calculate N° of correctly/incorrectly classified sequenced\u001b[0m\u001b[0;34m\u001b[0m\u001b[0;34m\u001b[0m\u001b[0;34m\u001b[0m\u001b[0m\n",
      "\u001b[0;32m/var/folders/8y/zlyjdkl554bfq25qgv0m1v5r0000gn/T/ipykernel_4286/3462596042.py\u001b[0m in \u001b[0;36mfind_misclassified\u001b[0;34m(dataframe, correct_classification)\u001b[0m\n\u001b[1;32m     21\u001b[0m         \u001b[0;31m# If there is a NA\u001b[0m\u001b[0;34m\u001b[0m\u001b[0;34m\u001b[0m\u001b[0;34m\u001b[0m\u001b[0m\n\u001b[1;32m     22\u001b[0m         \u001b[0;32mif\u001b[0m \u001b[0mdataframe\u001b[0m\u001b[0;34m[\u001b[0m\u001b[0mdataframe\u001b[0m\u001b[0;34m.\u001b[0m\u001b[0mindex\u001b[0m \u001b[0;34m==\u001b[0m \u001b[0mID\u001b[0m\u001b[0;34m]\u001b[0m\u001b[0;34m.\u001b[0m\u001b[0misnull\u001b[0m\u001b[0;34m(\u001b[0m\u001b[0;34m)\u001b[0m\u001b[0;34m.\u001b[0m\u001b[0many\u001b[0m\u001b[0;34m(\u001b[0m\u001b[0;34m)\u001b[0m\u001b[0;34m.\u001b[0m\u001b[0many\u001b[0m\u001b[0;34m(\u001b[0m\u001b[0;34m)\u001b[0m\u001b[0;34m:\u001b[0m\u001b[0;34m\u001b[0m\u001b[0;34m\u001b[0m\u001b[0m\n\u001b[0;32m---> 23\u001b[0;31m             \u001b[0mcorrect_maybe\u001b[0m \u001b[0;34m=\u001b[0m \u001b[0mdataframe\u001b[0m\u001b[0;34m[\u001b[0m\u001b[0mdataframe\u001b[0m\u001b[0;34m.\u001b[0m\u001b[0mindex\u001b[0m \u001b[0;34m==\u001b[0m \u001b[0mID\u001b[0m\u001b[0;34m]\u001b[0m\u001b[0;34m.\u001b[0m\u001b[0mcompare\u001b[0m\u001b[0;34m(\u001b[0m\u001b[0mcorrect_classification\u001b[0m\u001b[0;34m[\u001b[0m\u001b[0mcorrect_classification\u001b[0m\u001b[0;34m.\u001b[0m\u001b[0mindex\u001b[0m \u001b[0;34m==\u001b[0m \u001b[0mID\u001b[0m\u001b[0;34m]\u001b[0m\u001b[0;34m,\u001b[0m \u001b[0malign_axis\u001b[0m\u001b[0;34m=\u001b[0m\u001b[0;36m0\u001b[0m\u001b[0;34m)\u001b[0m\u001b[0;34m\u001b[0m\u001b[0;34m\u001b[0m\u001b[0m\n\u001b[0m\u001b[1;32m     24\u001b[0m             \u001b[0mhighest_level\u001b[0m \u001b[0;34m=\u001b[0m \u001b[0mcorrect_maybe\u001b[0m\u001b[0;34m.\u001b[0m\u001b[0mcolumns\u001b[0m\u001b[0;34m[\u001b[0m\u001b[0;36m0\u001b[0m\u001b[0;34m]\u001b[0m\u001b[0;34m\u001b[0m\u001b[0;34m\u001b[0m\u001b[0m\n\u001b[1;32m     25\u001b[0m             \u001b[0;32mif\u001b[0m \u001b[0mdataframe_corrected\u001b[0m\u001b[0;34m.\u001b[0m\u001b[0misnull\u001b[0m\u001b[0;34m(\u001b[0m\u001b[0;34m)\u001b[0m\u001b[0;34m.\u001b[0m\u001b[0mloc\u001b[0m\u001b[0;34m[\u001b[0m\u001b[0mdataframe_corrected\u001b[0m\u001b[0;34m.\u001b[0m\u001b[0mindex\u001b[0m \u001b[0;34m==\u001b[0m \u001b[0mID\u001b[0m\u001b[0;34m,\u001b[0m \u001b[0mhighest_level\u001b[0m\u001b[0;34m]\u001b[0m\u001b[0;34m.\u001b[0m\u001b[0mvalues\u001b[0m\u001b[0;34m[\u001b[0m\u001b[0;36m0\u001b[0m\u001b[0;34m]\u001b[0m\u001b[0;34m:\u001b[0m\u001b[0;34m\u001b[0m\u001b[0;34m\u001b[0m\u001b[0m\n",
      "\u001b[0;32m/opt/anaconda3/lib/python3.8/site-packages/pandas/core/frame.py\u001b[0m in \u001b[0;36mcompare\u001b[0;34m(self, other, align_axis, keep_shape, keep_equal, result_names)\u001b[0m\n\u001b[1;32m   7848\u001b[0m         \u001b[0mresult_names\u001b[0m\u001b[0;34m:\u001b[0m \u001b[0mSuffixes\u001b[0m \u001b[0;34m=\u001b[0m \u001b[0;34m(\u001b[0m\u001b[0;34m\"self\"\u001b[0m\u001b[0;34m,\u001b[0m \u001b[0;34m\"other\"\u001b[0m\u001b[0;34m)\u001b[0m\u001b[0;34m,\u001b[0m\u001b[0;34m\u001b[0m\u001b[0;34m\u001b[0m\u001b[0m\n\u001b[1;32m   7849\u001b[0m     ) -> DataFrame:\n\u001b[0;32m-> 7850\u001b[0;31m         return super().compare(\n\u001b[0m\u001b[1;32m   7851\u001b[0m             \u001b[0mother\u001b[0m\u001b[0;34m=\u001b[0m\u001b[0mother\u001b[0m\u001b[0;34m,\u001b[0m\u001b[0;34m\u001b[0m\u001b[0;34m\u001b[0m\u001b[0m\n\u001b[1;32m   7852\u001b[0m             \u001b[0malign_axis\u001b[0m\u001b[0;34m=\u001b[0m\u001b[0malign_axis\u001b[0m\u001b[0;34m,\u001b[0m\u001b[0;34m\u001b[0m\u001b[0;34m\u001b[0m\u001b[0m\n",
      "\u001b[0;32m/opt/anaconda3/lib/python3.8/site-packages/pandas/core/generic.py\u001b[0m in \u001b[0;36mcompare\u001b[0;34m(self, other, align_axis, keep_shape, keep_equal, result_names)\u001b[0m\n\u001b[1;32m   9214\u001b[0m             )\n\u001b[1;32m   9215\u001b[0m \u001b[0;34m\u001b[0m\u001b[0m\n\u001b[0;32m-> 9216\u001b[0;31m         \u001b[0mmask\u001b[0m \u001b[0;34m=\u001b[0m \u001b[0;34m~\u001b[0m\u001b[0;34m(\u001b[0m\u001b[0;34m(\u001b[0m\u001b[0mself\u001b[0m \u001b[0;34m==\u001b[0m \u001b[0mother\u001b[0m\u001b[0;34m)\u001b[0m \u001b[0;34m|\u001b[0m \u001b[0;34m(\u001b[0m\u001b[0mself\u001b[0m\u001b[0;34m.\u001b[0m\u001b[0misna\u001b[0m\u001b[0;34m(\u001b[0m\u001b[0;34m)\u001b[0m \u001b[0;34m&\u001b[0m \u001b[0mother\u001b[0m\u001b[0;34m.\u001b[0m\u001b[0misna\u001b[0m\u001b[0;34m(\u001b[0m\u001b[0;34m)\u001b[0m\u001b[0;34m)\u001b[0m\u001b[0;34m)\u001b[0m\u001b[0;34m\u001b[0m\u001b[0;34m\u001b[0m\u001b[0m\n\u001b[0m\u001b[1;32m   9217\u001b[0m \u001b[0;34m\u001b[0m\u001b[0m\n\u001b[1;32m   9218\u001b[0m         \u001b[0;32mif\u001b[0m \u001b[0;32mnot\u001b[0m \u001b[0mkeep_equal\u001b[0m\u001b[0;34m:\u001b[0m\u001b[0;34m\u001b[0m\u001b[0;34m\u001b[0m\u001b[0m\n",
      "\u001b[0;32m/opt/anaconda3/lib/python3.8/site-packages/pandas/core/ops/common.py\u001b[0m in \u001b[0;36mnew_method\u001b[0;34m(self, other)\u001b[0m\n\u001b[1;32m     70\u001b[0m         \u001b[0mother\u001b[0m \u001b[0;34m=\u001b[0m \u001b[0mitem_from_zerodim\u001b[0m\u001b[0;34m(\u001b[0m\u001b[0mother\u001b[0m\u001b[0;34m)\u001b[0m\u001b[0;34m\u001b[0m\u001b[0;34m\u001b[0m\u001b[0m\n\u001b[1;32m     71\u001b[0m \u001b[0;34m\u001b[0m\u001b[0m\n\u001b[0;32m---> 72\u001b[0;31m         \u001b[0;32mreturn\u001b[0m \u001b[0mmethod\u001b[0m\u001b[0;34m(\u001b[0m\u001b[0mself\u001b[0m\u001b[0;34m,\u001b[0m \u001b[0mother\u001b[0m\u001b[0;34m)\u001b[0m\u001b[0;34m\u001b[0m\u001b[0;34m\u001b[0m\u001b[0m\n\u001b[0m\u001b[1;32m     73\u001b[0m \u001b[0;34m\u001b[0m\u001b[0m\n\u001b[1;32m     74\u001b[0m     \u001b[0;32mreturn\u001b[0m \u001b[0mnew_method\u001b[0m\u001b[0;34m\u001b[0m\u001b[0;34m\u001b[0m\u001b[0m\n",
      "\u001b[0;32m/opt/anaconda3/lib/python3.8/site-packages/pandas/core/arraylike.py\u001b[0m in \u001b[0;36m__eq__\u001b[0;34m(self, other)\u001b[0m\n\u001b[1;32m     40\u001b[0m     \u001b[0;34m@\u001b[0m\u001b[0munpack_zerodim_and_defer\u001b[0m\u001b[0;34m(\u001b[0m\u001b[0;34m\"__eq__\"\u001b[0m\u001b[0;34m)\u001b[0m\u001b[0;34m\u001b[0m\u001b[0;34m\u001b[0m\u001b[0m\n\u001b[1;32m     41\u001b[0m     \u001b[0;32mdef\u001b[0m \u001b[0m__eq__\u001b[0m\u001b[0;34m(\u001b[0m\u001b[0mself\u001b[0m\u001b[0;34m,\u001b[0m \u001b[0mother\u001b[0m\u001b[0;34m)\u001b[0m\u001b[0;34m:\u001b[0m\u001b[0;34m\u001b[0m\u001b[0;34m\u001b[0m\u001b[0m\n\u001b[0;32m---> 42\u001b[0;31m         \u001b[0;32mreturn\u001b[0m \u001b[0mself\u001b[0m\u001b[0;34m.\u001b[0m\u001b[0m_cmp_method\u001b[0m\u001b[0;34m(\u001b[0m\u001b[0mother\u001b[0m\u001b[0;34m,\u001b[0m \u001b[0moperator\u001b[0m\u001b[0;34m.\u001b[0m\u001b[0meq\u001b[0m\u001b[0;34m)\u001b[0m\u001b[0;34m\u001b[0m\u001b[0;34m\u001b[0m\u001b[0m\n\u001b[0m\u001b[1;32m     43\u001b[0m \u001b[0;34m\u001b[0m\u001b[0m\n\u001b[1;32m     44\u001b[0m     \u001b[0;34m@\u001b[0m\u001b[0munpack_zerodim_and_defer\u001b[0m\u001b[0;34m(\u001b[0m\u001b[0;34m\"__ne__\"\u001b[0m\u001b[0;34m)\u001b[0m\u001b[0;34m\u001b[0m\u001b[0;34m\u001b[0m\u001b[0m\n",
      "\u001b[0;32m/opt/anaconda3/lib/python3.8/site-packages/pandas/core/frame.py\u001b[0m in \u001b[0;36m_cmp_method\u001b[0;34m(self, other, op)\u001b[0m\n\u001b[1;32m   7577\u001b[0m         \u001b[0maxis\u001b[0m \u001b[0;34m=\u001b[0m \u001b[0;36m1\u001b[0m  \u001b[0;31m# only relevant for Series other case\u001b[0m\u001b[0;34m\u001b[0m\u001b[0;34m\u001b[0m\u001b[0m\n\u001b[1;32m   7578\u001b[0m \u001b[0;34m\u001b[0m\u001b[0m\n\u001b[0;32m-> 7579\u001b[0;31m         \u001b[0mself\u001b[0m\u001b[0;34m,\u001b[0m \u001b[0mother\u001b[0m \u001b[0;34m=\u001b[0m \u001b[0mops\u001b[0m\u001b[0;34m.\u001b[0m\u001b[0malign_method_FRAME\u001b[0m\u001b[0;34m(\u001b[0m\u001b[0mself\u001b[0m\u001b[0;34m,\u001b[0m \u001b[0mother\u001b[0m\u001b[0;34m,\u001b[0m \u001b[0maxis\u001b[0m\u001b[0;34m,\u001b[0m \u001b[0mflex\u001b[0m\u001b[0;34m=\u001b[0m\u001b[0;32mFalse\u001b[0m\u001b[0;34m,\u001b[0m \u001b[0mlevel\u001b[0m\u001b[0;34m=\u001b[0m\u001b[0;32mNone\u001b[0m\u001b[0;34m)\u001b[0m\u001b[0;34m\u001b[0m\u001b[0;34m\u001b[0m\u001b[0m\n\u001b[0m\u001b[1;32m   7580\u001b[0m \u001b[0;34m\u001b[0m\u001b[0m\n\u001b[1;32m   7581\u001b[0m         \u001b[0;31m# See GH#4537 for discussion of scalar op behavior\u001b[0m\u001b[0;34m\u001b[0m\u001b[0;34m\u001b[0m\u001b[0;34m\u001b[0m\u001b[0m\n",
      "\u001b[0;32m/opt/anaconda3/lib/python3.8/site-packages/pandas/core/ops/__init__.py\u001b[0m in \u001b[0;36malign_method_FRAME\u001b[0;34m(left, right, axis, flex, level)\u001b[0m\n\u001b[1;32m    287\u001b[0m                 \u001b[0mleft\u001b[0m\u001b[0;34m,\u001b[0m \u001b[0mright\u001b[0m \u001b[0;34m=\u001b[0m \u001b[0mleft\u001b[0m\u001b[0;34m.\u001b[0m\u001b[0malign\u001b[0m\u001b[0;34m(\u001b[0m\u001b[0mright\u001b[0m\u001b[0;34m,\u001b[0m \u001b[0mjoin\u001b[0m\u001b[0;34m=\u001b[0m\u001b[0;34m\"outer\"\u001b[0m\u001b[0;34m,\u001b[0m \u001b[0mlevel\u001b[0m\u001b[0;34m=\u001b[0m\u001b[0mlevel\u001b[0m\u001b[0;34m,\u001b[0m \u001b[0mcopy\u001b[0m\u001b[0;34m=\u001b[0m\u001b[0;32mFalse\u001b[0m\u001b[0;34m)\u001b[0m\u001b[0;34m\u001b[0m\u001b[0;34m\u001b[0m\u001b[0m\n\u001b[1;32m    288\u001b[0m             \u001b[0;32melse\u001b[0m\u001b[0;34m:\u001b[0m\u001b[0;34m\u001b[0m\u001b[0;34m\u001b[0m\u001b[0m\n\u001b[0;32m--> 289\u001b[0;31m                 raise ValueError(\n\u001b[0m\u001b[1;32m    290\u001b[0m                     \u001b[0;34m\"Can only compare identically-labeled DataFrame objects\"\u001b[0m\u001b[0;34m\u001b[0m\u001b[0;34m\u001b[0m\u001b[0m\n\u001b[1;32m    291\u001b[0m                 )\n",
      "\u001b[0;31mValueError\u001b[0m: Can only compare identically-labeled DataFrame objects"
     ]
    }
   ],
   "source": [
    "# Find misclassification for each dataset\n",
    "# pacbio_corrected = find_misclassified(pacbio, taxonomy_key)\n",
    "illumina_corrected = find_misclassified(illumina, taxonomy)\n",
    "\n",
    "# Calculate N° of correctly/incorrectly classified sequenced\n",
    "# correct_all_levels_pacbio, class_levels_pacbio = classification_stats(pacbio_corrected)\n",
    "correct_all_levels_illumina, class_levels_illumina = classification_stats(illumina_corrected)\n",
    "\n",
    "# Collect them in one dataset (numbers in absolute values)\n",
    "# all_levels = pd.concat([correct_all_levels_pacbio, correct_all_levels_illumina], axis=1)\n",
    "all_levels.columns = samples\n",
    "all_levels = correct_all_levels_illumina\n",
    "# class_levels = pd.concat([class_levels_pacbio, class_levels_illumina])\n",
    "class_levels = class_levels_illumina\n",
    "class_levels.index = samples\n",
    "\n",
    "# Create an additional dataset where the numbers are in ratios\n",
    "all_levels_ratio = all_levels.copy(deep=True)\n",
    "class_levels_ratio = class_levels.copy(deep=True)\n",
    "for sample in range(len(samples)):\n",
    "    class_levels_ratio.iloc[sample,:] /= class_levels.iloc[sample,:].sum()\n",
    "    all_levels_ratio.iloc[:, sample] /= class_levels.iloc[sample,:].sum()"
   ]
  },
  {
   "cell_type": "code",
   "execution_count": null,
   "metadata": {},
   "outputs": [],
   "source": [
    "# Decide on the color maps for each taxonomic level, as well as for correct/incorrent classification\n",
    "# Correct classification = Green\n",
    "# Incorrect classification = Red\n",
    "# Different taxonomic levels = Ligher or darker colors\n",
    "\n",
    "# Number of taxonomic levels\n",
    "n = len(class_levels.columns)/2\n",
    "\n",
    "# Create the color maps\n",
    "cmap_correct = plt.cm.get_cmap('Greens', n)\n",
    "cmap_incorrect = plt.cm.get_cmap('Reds', n)\n",
    "\n",
    "color_levels = {}\n",
    "for i in range(int(n)):\n",
    "    level_correct = class_levels.columns[i]\n",
    "    color_levels[level_correct] = cmap_correct(i)\n",
    "\n",
    "    level_incorrect = class_levels.columns[i+int(n)]\n",
    "    color_levels[level_incorrect] = cmap_incorrect(i)"
   ]
  },
  {
   "cell_type": "code",
   "execution_count": null,
   "metadata": {},
   "outputs": [],
   "source": [
    "# Plot the number of correct/incorrect classifications for each samples as a stacked barplot\n",
    "fig, ax = plt.subplots()\n",
    "class_levels_ratio.plot(kind='bar', stacked=True, color=color_levels, title='Proportion of sequences with different levels of classification', \n",
    "                        ylabel='Percentage of sequences [%]', ax=ax)\n",
    "ax.set_yticklabels(['0', '20', '40', '60', '80', '100'])\n",
    "ax.legend(bbox_to_anchor=(1.05, 1.0), loc='upper left')\n",
    "plt.show()"
   ]
  },
  {
   "cell_type": "code",
   "execution_count": null,
   "metadata": {},
   "outputs": [],
   "source": [
    "# Plot the number of correctly classified sequences at different levels for each sample\n",
    "fig, ax = plt.subplots()\n",
    "all_levels_ratio.plot(grid=True, title='Ratio of sequences correctly classified at each taxonomic level', ylabel='Percentage of sequences [%]', ax=ax)\n",
    "plt.show()"
   ]
  },
  {
   "cell_type": "markdown",
   "metadata": {},
   "source": [
    "### 3. Compare community structure"
   ]
  },
  {
   "cell_type": "code",
   "execution_count": null,
   "metadata": {},
   "outputs": [],
   "source": [
    "# Look through the dataset to find unique organisms, and how many times they have been classified\n",
    "def find_organisms(dataframe):\n",
    "    '''Takes a dataframe, find the lowest taxonomic level without a NA, and calculates how many times each variant at that level has been classified\n",
    "    Input: Dataframe with sequences (rows, R) and taxonomical classification at different levels (columns, C)\n",
    "    Output: Dataframe with all unique organisms at the lowest common taxonomic level, and how many times they are found'''\n",
    "    # Create a copy to not mess with the original data\n",
    "    # Find the cells with NA values\n",
    "    dataframe_copy = dataframe.copy(deep=True)\n",
    "    dataframe_null = dataframe_copy.isnull()\n",
    "\n",
    "    # Iterate over all columns, starting at the lowest taxonomic level\n",
    "    # If there is a NA in the column (a sequence hasn't been classified), drop the column\n",
    "    for level in dataframe.columns[::-1]:\n",
    "        if dataframe_null[level].any():\n",
    "            dataframe_copy.drop(level, axis=1, inplace=True)\n",
    "    \n",
    "    # Remove all columns except the last one, which is the lowest taxonomic level at which all sequences have been classified\n",
    "    dataframe_copy.drop(dataframe_copy.columns[:-1], axis=1, inplace=True)\n",
    "\n",
    "    # Search for and count doublets (organisms present multiple times)\n",
    "    # Add the count number of each organism in column \"Count\"\n",
    "    # Index based on the organism's name\n",
    "    dataframe_stats = dataframe_copy.groupby(dataframe_copy.columns.tolist()).size().reset_index(name='Count')\n",
    "    dataframe_stats.index = dataframe_stats[dataframe_stats.columns[0]]\n",
    "    dataframe_stats.drop(dataframe_stats.columns[0], axis=1, inplace=True)\n",
    "\n",
    "    return dataframe_stats.transpose()"
   ]
  },
  {
   "cell_type": "code",
   "execution_count": null,
   "metadata": {},
   "outputs": [],
   "source": [
    "# Run the function on all datasets\n",
    "mock_community_structure_organisms = find_organisms(mock_community_structure)\n",
    "mock_community_1_organisms = find_organisms(mock_community_1)\n",
    "mock_community_2_organisms = find_organisms(mock_community_2)\n",
    "\n",
    "# Add all samples to one large dataset\n",
    "communities = pd.concat([mock_community_structure_organisms, mock_community_1_organisms, mock_community_2_organisms])\n",
    "communities.index = ['Mock community ideal', 'Mock 1', 'Mock 2']\n",
    "\n",
    "# Create an additional dataset with the numbers in percentage instead\n",
    "communities_ratio = communities.copy(deep=True)\n",
    "for sample in range(len(samples)+1):\n",
    "    communities_ratio.iloc[sample,:] /= communities.iloc[sample,:].sum()"
   ]
  },
  {
   "cell_type": "code",
   "execution_count": null,
   "metadata": {},
   "outputs": [],
   "source": [
    "# Plot the results\n",
    "fig, ax = plt.subplots()\n",
    "communities_ratio.plot(kind='bar', stacked=True, title='Community structure for different methods', ylabel='Percentage [%]', ax=ax)\n",
    "ax.set_yticklabels(['0', '20', '40', '60', '80', '100'])\n",
    "ax.legend(bbox_to_anchor=(1.05, 1.0), loc='upper left')\n",
    "plt.show()"
   ]
  }
 ],
 "metadata": {
  "kernelspec": {
   "display_name": "base",
   "language": "python",
   "name": "python3"
  },
  "language_info": {
   "codemirror_mode": {
    "name": "ipython",
    "version": 3
   },
   "file_extension": ".py",
   "mimetype": "text/x-python",
   "name": "python",
   "nbconvert_exporter": "python",
   "pygments_lexer": "ipython3",
   "version": "3.8.8"
  }
 },
 "nbformat": 4,
 "nbformat_minor": 2
}
